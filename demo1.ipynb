{
 "cells": [
  {
   "cell_type": "code",
   "id": "initial_id",
   "metadata": {
    "collapsed": true,
    "ExecuteTime": {
     "end_time": "2025-05-30T17:22:13.575690Z",
     "start_time": "2025-05-30T17:22:10.219057Z"
    }
   },
   "source": [
    "import torch\n",
    "a=torch.zeros(2,3)\n",
    "print(a)\n"
   ],
   "outputs": [
    {
     "name": "stdout",
     "output_type": "stream",
     "text": [
      "tensor([[0., 0., 0.],\n",
      "        [0., 0., 0.]])\n"
     ]
    }
   ],
   "execution_count": 1
  },
  {
   "metadata": {
    "ExecuteTime": {
     "end_time": "2025-05-30T17:22:25.611239Z",
     "start_time": "2025-05-30T17:22:25.595290Z"
    }
   },
   "cell_type": "code",
   "source": [
    "\n",
    "\n",
    "# 创建一个 2x3 的全 1 张量\n",
    "b = torch.ones(2, 3)\n",
    "print(b)\n",
    "\n",
    "# 创建一个 2x3 的随机数张量\n",
    "c = torch.randn(2, 3)\n",
    "print(c)"
   ],
   "id": "3385186f7967edfd",
   "outputs": [
    {
     "name": "stdout",
     "output_type": "stream",
     "text": [
      "tensor([[1., 1., 1.],\n",
      "        [1., 1., 1.]])\n",
      "tensor([[-1.7316,  0.2864, -0.9839],\n",
      "        [ 0.5996, -0.4456,  0.3222]])\n"
     ]
    }
   ],
   "execution_count": 2
  },
  {
   "metadata": {
    "ExecuteTime": {
     "end_time": "2025-05-30T17:23:08.290046Z",
     "start_time": "2025-05-30T17:23:08.276032Z"
    }
   },
   "cell_type": "code",
   "source": [
    "import numpy as np\n",
    "\n",
    "array=np.array([[1,2,3],[4,5,6]])\n",
    "tensor=torch.from_numpy(array)\n",
    "print(tensor)"
   ],
   "id": "5198e674a3dff54c",
   "outputs": [
    {
     "name": "stdout",
     "output_type": "stream",
     "text": [
      "tensor([[1, 2, 3],\n",
      "        [4, 5, 6]], dtype=torch.int32)\n"
     ]
    }
   ],
   "execution_count": 3
  },
  {
   "metadata": {
    "ExecuteTime": {
     "end_time": "2025-05-30T17:23:18.672218Z",
     "start_time": "2025-05-30T17:23:18.223696Z"
    }
   },
   "cell_type": "code",
   "source": [
    "\n",
    "device = torch.device(\"cuda\" if torch.cuda.is_available() else \"cpu\")\n",
    "d = torch.randn(2, 3, device=device)\n",
    "print(d)"
   ],
   "id": "1fbad191517e743f",
   "outputs": [
    {
     "name": "stdout",
     "output_type": "stream",
     "text": [
      "tensor([[ 0.5452,  2.0465,  0.6063],\n",
      "        [ 1.7642, -0.0709,  0.4759]], device='cuda:0')\n"
     ]
    }
   ],
   "execution_count": 4
  },
  {
   "metadata": {
    "ExecuteTime": {
     "end_time": "2025-05-30T17:23:29.258637Z",
     "start_time": "2025-05-30T17:23:29.240171Z"
    }
   },
   "cell_type": "code",
   "source": [
    "\n",
    "e = torch.randn(2, 3)\n",
    "f = torch.randn(2, 3)\n",
    "print(e + f)\n"
   ],
   "id": "f53f6d4337aa9467",
   "outputs": [
    {
     "name": "stdout",
     "output_type": "stream",
     "text": [
      "tensor([[ 0.2465, -1.1786, -0.8196],\n",
      "        [ 2.3271, -2.2759,  2.4745]])\n"
     ]
    }
   ],
   "execution_count": 5
  },
  {
   "metadata": {
    "ExecuteTime": {
     "end_time": "2025-05-30T17:23:43.613927Z",
     "start_time": "2025-05-30T17:23:43.604268Z"
    }
   },
   "cell_type": "code",
   "source": "print(e*f)",
   "id": "2de7aeffe05cda64",
   "outputs": [
    {
     "name": "stdout",
     "output_type": "stream",
     "text": [
      "tensor([[-0.0616, -0.0081,  0.0735],\n",
      "        [ 0.8515,  1.1619,  1.4748]])\n"
     ]
    }
   ],
   "execution_count": 6
  },
  {
   "metadata": {
    "ExecuteTime": {
     "end_time": "2025-05-30T17:23:57.881075Z",
     "start_time": "2025-05-30T17:23:57.862146Z"
    }
   },
   "cell_type": "code",
   "source": [
    "g = torch.randn(3, 2)\n",
    "print(g.t())  # 或者 g.transpose(0, 1)\n",
    "\n",
    "# 张量的形状\n",
    "print(g.shape)  # 返回形状"
   ],
   "id": "bab7f656904f6907",
   "outputs": [
    {
     "name": "stdout",
     "output_type": "stream",
     "text": [
      "tensor([[ 0.1787,  1.3291,  0.3759],\n",
      "        [-0.0228,  0.3530, -1.5102]])\n",
      "torch.Size([3, 2])\n"
     ]
    }
   ],
   "execution_count": 7
  },
  {
   "metadata": {
    "ExecuteTime": {
     "end_time": "2025-05-30T17:24:35.051032Z",
     "start_time": "2025-05-30T17:24:35.017678Z"
    }
   },
   "cell_type": "code",
   "source": [
    "# 创建一个需要梯度的张量\n",
    "tensor_requires_grad = torch.tensor([1.0], requires_grad=True)\n",
    "\n",
    "# 进行一些操作\n",
    "tensor_result = tensor_requires_grad * 2\n",
    "\n",
    "# 计算梯度\n",
    "tensor_result.backward()\n",
    "print(tensor_requires_grad.grad)  # 输出梯度"
   ],
   "id": "ce7f3c94926f5a6e",
   "outputs": [
    {
     "name": "stdout",
     "output_type": "stream",
     "text": [
      "tensor([2.])\n"
     ]
    }
   ],
   "execution_count": 8
  },
  {
   "metadata": {
    "ExecuteTime": {
     "end_time": "2025-05-30T17:24:51.510519Z",
     "start_time": "2025-05-30T17:24:51.496718Z"
    }
   },
   "cell_type": "code",
   "source": [
    "x = torch.randn(2, 2, requires_grad=True)\n",
    "print(x)\n",
    "\n",
    "# 执行某些操作\n",
    "y = x + 2\n",
    "z = y * y * 3\n",
    "out = z.mean()\n",
    "\n",
    "print(out)"
   ],
   "id": "2ca86606c5ad9fb2",
   "outputs": [
    {
     "name": "stdout",
     "output_type": "stream",
     "text": [
      "tensor([[-1.2881, -1.3442],\n",
      "        [ 0.1872, -0.0253]], requires_grad=True)\n",
      "tensor(7.2151, grad_fn=<MeanBackward0>)\n"
     ]
    }
   ],
   "execution_count": 9
  },
  {
   "metadata": {
    "ExecuteTime": {
     "end_time": "2025-05-30T17:25:19.869608Z",
     "start_time": "2025-05-30T17:25:19.861011Z"
    }
   },
   "cell_type": "code",
   "source": [
    "out.backward()\n",
    "\n",
    "# 查看 x 的梯度\n",
    "print(x.grad)"
   ],
   "id": "25f9050ec0e60c84",
   "outputs": [
    {
     "name": "stdout",
     "output_type": "stream",
     "text": [
      "tensor([[1.0678, 0.9837],\n",
      "        [3.2807, 2.9621]])\n"
     ]
    }
   ],
   "execution_count": 10
  },
  {
   "metadata": {
    "ExecuteTime": {
     "end_time": "2025-05-30T17:28:23.136296Z",
     "start_time": "2025-05-30T17:28:23.113933Z"
    }
   },
   "cell_type": "code",
   "source": [
    "\n",
    "\n"
   ],
   "id": "caf530573fa921bb",
   "outputs": [
    {
     "ename": "AttributeError",
     "evalue": "'SimpleNN' object has no attribute 'fc1'",
     "output_type": "error",
     "traceback": [
      "\u001B[1;31m---------------------------------------------------------------------------\u001B[0m",
      "\u001B[1;31mAttributeError\u001B[0m                            Traceback (most recent call last)",
      "Cell \u001B[1;32mIn[12], line 12\u001B[0m\n\u001B[0;32m     10\u001B[0m         x\u001B[38;5;241m=\u001B[39m\u001B[38;5;28mself\u001B[39m\u001B[38;5;241m.\u001B[39mfc2(x)\n\u001B[0;32m     11\u001B[0m         \u001B[38;5;28;01mreturn\u001B[39;00m x\n\u001B[1;32m---> 12\u001B[0m model\u001B[38;5;241m=\u001B[39m \u001B[43mSimpleNN\u001B[49m\u001B[43m(\u001B[49m\u001B[43m)\u001B[49m\n\u001B[0;32m     13\u001B[0m \u001B[38;5;28mprint\u001B[39m( model)\n",
      "Cell \u001B[1;32mIn[12], line 6\u001B[0m, in \u001B[0;36mSimpleNN.__init__\u001B[1;34m(self)\u001B[0m\n\u001B[0;32m      4\u001B[0m \u001B[38;5;28;01mdef\u001B[39;00m \u001B[38;5;21m__init__\u001B[39m(\u001B[38;5;28mself\u001B[39m):\n\u001B[0;32m      5\u001B[0m     \u001B[38;5;28msuper\u001B[39m(SimpleNN, \u001B[38;5;28mself\u001B[39m)\u001B[38;5;241m.\u001B[39m\u001B[38;5;21m__init__\u001B[39m()\n\u001B[1;32m----> 6\u001B[0m     \u001B[38;5;28;43mself\u001B[39;49m\u001B[38;5;241;43m.\u001B[39;49m\u001B[43mfc1\u001B[49m\u001B[38;5;241m==\u001B[39mnn\u001B[38;5;241m.\u001B[39mLinear(\u001B[38;5;241m2\u001B[39m,\u001B[38;5;241m2\u001B[39m)\n\u001B[0;32m      7\u001B[0m     \u001B[38;5;28mself\u001B[39m\u001B[38;5;241m.\u001B[39mfc2\u001B[38;5;241m=\u001B[39mnn\u001B[38;5;241m.\u001B[39mLinear(\u001B[38;5;241m2\u001B[39m,\u001B[38;5;241m1\u001B[39m)\n",
      "File \u001B[1;32m~\\Downloads\\DQN-Atari_Games-main\\.venv\\lib\\site-packages\\torch\\nn\\modules\\module.py:1931\u001B[0m, in \u001B[0;36mModule.__getattr__\u001B[1;34m(self, name)\u001B[0m\n\u001B[0;32m   1929\u001B[0m     \u001B[38;5;28;01mif\u001B[39;00m name \u001B[38;5;129;01min\u001B[39;00m modules:\n\u001B[0;32m   1930\u001B[0m         \u001B[38;5;28;01mreturn\u001B[39;00m modules[name]\n\u001B[1;32m-> 1931\u001B[0m \u001B[38;5;28;01mraise\u001B[39;00m \u001B[38;5;167;01mAttributeError\u001B[39;00m(\n\u001B[0;32m   1932\u001B[0m     \u001B[38;5;124mf\u001B[39m\u001B[38;5;124m\"\u001B[39m\u001B[38;5;124m'\u001B[39m\u001B[38;5;132;01m{\u001B[39;00m\u001B[38;5;28mtype\u001B[39m(\u001B[38;5;28mself\u001B[39m)\u001B[38;5;241m.\u001B[39m\u001B[38;5;18m__name__\u001B[39m\u001B[38;5;132;01m}\u001B[39;00m\u001B[38;5;124m'\u001B[39m\u001B[38;5;124m object has no attribute \u001B[39m\u001B[38;5;124m'\u001B[39m\u001B[38;5;132;01m{\u001B[39;00mname\u001B[38;5;132;01m}\u001B[39;00m\u001B[38;5;124m'\u001B[39m\u001B[38;5;124m\"\u001B[39m\n\u001B[0;32m   1933\u001B[0m )\n",
      "\u001B[1;31mAttributeError\u001B[0m: 'SimpleNN' object has no attribute 'fc1'"
     ]
    }
   ],
   "execution_count": 12
  },
  {
   "metadata": {
    "ExecuteTime": {
     "end_time": "2025-05-30T17:29:05.030075Z",
     "start_time": "2025-05-30T17:29:05.015178Z"
    }
   },
   "cell_type": "code",
   "source": [
    "import torch.nn as nn\n",
    "import torch.optim as optim\n",
    "\n",
    "# 定义一个简单的全连接神经网络\n",
    "class SimpleNN(nn.Module):\n",
    "    def __init__(self):\n",
    "        super(SimpleNN, self).__init__()\n",
    "        self.fc1 = nn.Linear(2, 2)  # 输入层到隐藏层\n",
    "        self.fc2 = nn.Linear(2, 1)  # 隐藏层到输出层\n",
    "\n",
    "    def forward(self, x):\n",
    "        x = torch.relu(self.fc1(x))  # ReLU 激活函数\n",
    "        x = self.fc2(x)\n",
    "        return x\n",
    "\n",
    "# 创建网络实例\n",
    "model = SimpleNN()\n",
    "\n",
    "# 打印模型结构\n",
    "print(model)"
   ],
   "id": "a46b5d631cc129b4",
   "outputs": [
    {
     "name": "stdout",
     "output_type": "stream",
     "text": [
      "SimpleNN(\n",
      "  (fc1): Linear(in_features=2, out_features=2, bias=True)\n",
      "  (fc2): Linear(in_features=2, out_features=1, bias=True)\n",
      ")\n"
     ]
    }
   ],
   "execution_count": 13
  },
  {
   "metadata": {
    "ExecuteTime": {
     "end_time": "2025-05-30T17:31:53.718740Z",
     "start_time": "2025-05-30T17:31:52.276339Z"
    }
   },
   "cell_type": "code",
   "source": [
    "\n",
    "\n",
    "import torch\n",
    "import  torch.nn as nn\n",
    "import torch.optim as optim\n",
    "class SimpleNN(nn.Module):\n",
    "    def __init__(self):\n",
    "        super(SimpleNN, self).__init__()\n",
    "        self.fc1 = nn.Linear(2, 2)  # 输入层到隐藏层\n",
    "        self.fc2 = nn.Linear(2, 1)  # 隐藏层到输出层\n",
    "\n",
    "    def forward(self, x):\n",
    "        x = torch.relu(self.fc1(x))  # ReLU 激活函数\n",
    "        x = self.fc2(x)\n",
    "        return x\n",
    "model= SimpleNN()\n",
    "criterion = nn.MSELoss()  # 均方误差损失函数\n",
    "optimizer = optim.Adam(model.parameters(), lr=0.001)  # Adam 优化\n",
    "\n",
    "X = torch.randn(10, 2)  # 10 个样本，2 个特征\n",
    "Y = torch.randn(10, 1)  # 10 个目标值\n",
    "\n",
    "for epoch in range(100):  # 训练 100 轮\n",
    "    optimizer.zero_grad()  # 清空之前的梯度\n",
    "    output = model(X)  # 前向传播\n",
    "    loss = criterion(output, Y)  # 计算损失\n",
    "    loss.backward()  # 反向传播\n",
    "    optimizer.step()  # 更新参数\n",
    "\n",
    "    # 每 10 轮输出一次损失\n",
    "    if (epoch+1) % 10 == 0:\n",
    "        print(f'Epoch [{epoch+1}/100], Loss: {loss.item():.4f}')"
   ],
   "id": "c6e1b056df1719ae",
   "outputs": [
    {
     "name": "stdout",
     "output_type": "stream",
     "text": [
      "Epoch [10/100], Loss: 1.5229\n",
      "Epoch [20/100], Loss: 1.4721\n",
      "Epoch [30/100], Loss: 1.4224\n",
      "Epoch [40/100], Loss: 1.3759\n",
      "Epoch [50/100], Loss: 1.3328\n",
      "Epoch [60/100], Loss: 1.2929\n",
      "Epoch [70/100], Loss: 1.2560\n",
      "Epoch [80/100], Loss: 1.2219\n",
      "Epoch [90/100], Loss: 1.1901\n",
      "Epoch [100/100], Loss: 1.1605\n"
     ]
    }
   ],
   "execution_count": 14
  },
  {
   "metadata": {
    "ExecuteTime": {
     "end_time": "2025-05-30T17:37:30.239762Z",
     "start_time": "2025-05-30T17:37:28.120242Z"
    }
   },
   "cell_type": "code",
   "source": [
    "import numpy as np\n",
    "import pandas as pd\n",
    "import matplotlib.pyplot as plt\n",
    "from sklearn.datasets import load_iris\n",
    "from sklearn.model_selection import train_test_split\n",
    "from sklearn.preprocessing import StandardScaler\n",
    "from sklearn.neighbors import KNeighborsClassifier\n",
    "from sklearn.metrics import accuracy_score"
   ],
   "id": "16fc36eea4e41066",
   "outputs": [],
   "execution_count": 15
  },
  {
   "metadata": {
    "ExecuteTime": {
     "end_time": "2025-05-30T17:38:01.151285Z",
     "start_time": "2025-05-30T17:38:01.123272Z"
    }
   },
   "cell_type": "code",
   "source": [
    "iris=load_iris ()\n",
    "X = pd.DataFrame(iris.data, columns=iris.feature_names)  # 特征数据\n",
    "y = pd.Series(iris.target)  # 标签数据\n",
    "\n",
    "# 显示前五行数据\n",
    "print(X.head())"
   ],
   "id": "f6b9dce6ee2f4404",
   "outputs": [
    {
     "name": "stdout",
     "output_type": "stream",
     "text": [
      "   sepal length (cm)  sepal width (cm)  petal length (cm)  petal width (cm)\n",
      "0                5.1               3.5                1.4               0.2\n",
      "1                4.9               3.0                1.4               0.2\n",
      "2                4.7               3.2                1.3               0.2\n",
      "3                4.6               3.1                1.5               0.2\n",
      "4                5.0               3.6                1.4               0.2\n"
     ]
    }
   ],
   "execution_count": 16
  },
  {
   "metadata": {
    "ExecuteTime": {
     "end_time": "2025-05-30T17:38:31.312738Z",
     "start_time": "2025-05-30T17:38:31.299659Z"
    }
   },
   "cell_type": "code",
   "source": [
    "# 划分训练集和测试集（80% 训练集，20% 测试集）\n",
    "X_train, X_test, y_train, y_test = train_test_split(X, y, test_size=0.2, random_state=42)"
   ],
   "id": "bde33c81fd527862",
   "outputs": [],
   "execution_count": 17
  },
  {
   "metadata": {
    "ExecuteTime": {
     "end_time": "2025-05-30T17:38:45.412020Z",
     "start_time": "2025-05-30T17:38:45.400568Z"
    }
   },
   "cell_type": "code",
   "source": [
    "# 标准化特征\n",
    "scaler = StandardScaler()\n",
    "X_train = scaler.fit_transform(X_train)\n",
    "X_test = scaler.transform(X_test)"
   ],
   "id": "b2df78a325c5916a",
   "outputs": [],
   "execution_count": 18
  },
  {
   "metadata": {
    "ExecuteTime": {
     "end_time": "2025-05-30T17:38:51.275723Z",
     "start_time": "2025-05-30T17:38:51.259923Z"
    }
   },
   "cell_type": "code",
   "source": [
    "# 创建 KNN 分类器\n",
    "knn = KNeighborsClassifier(n_neighbors=3)\n",
    "\n",
    "# 训练模型\n",
    "knn.fit(X_train, y_train)"
   ],
   "id": "b138bf4742f74a23",
   "outputs": [
    {
     "data": {
      "text/plain": [
       "KNeighborsClassifier(n_neighbors=3)"
      ],
      "text/html": [
       "<style>#sk-container-id-1 {\n",
       "  /* Definition of color scheme common for light and dark mode */\n",
       "  --sklearn-color-text: #000;\n",
       "  --sklearn-color-text-muted: #666;\n",
       "  --sklearn-color-line: gray;\n",
       "  /* Definition of color scheme for unfitted estimators */\n",
       "  --sklearn-color-unfitted-level-0: #fff5e6;\n",
       "  --sklearn-color-unfitted-level-1: #f6e4d2;\n",
       "  --sklearn-color-unfitted-level-2: #ffe0b3;\n",
       "  --sklearn-color-unfitted-level-3: chocolate;\n",
       "  /* Definition of color scheme for fitted estimators */\n",
       "  --sklearn-color-fitted-level-0: #f0f8ff;\n",
       "  --sklearn-color-fitted-level-1: #d4ebff;\n",
       "  --sklearn-color-fitted-level-2: #b3dbfd;\n",
       "  --sklearn-color-fitted-level-3: cornflowerblue;\n",
       "\n",
       "  /* Specific color for light theme */\n",
       "  --sklearn-color-text-on-default-background: var(--sg-text-color, var(--theme-code-foreground, var(--jp-content-font-color1, black)));\n",
       "  --sklearn-color-background: var(--sg-background-color, var(--theme-background, var(--jp-layout-color0, white)));\n",
       "  --sklearn-color-border-box: var(--sg-text-color, var(--theme-code-foreground, var(--jp-content-font-color1, black)));\n",
       "  --sklearn-color-icon: #696969;\n",
       "\n",
       "  @media (prefers-color-scheme: dark) {\n",
       "    /* Redefinition of color scheme for dark theme */\n",
       "    --sklearn-color-text-on-default-background: var(--sg-text-color, var(--theme-code-foreground, var(--jp-content-font-color1, white)));\n",
       "    --sklearn-color-background: var(--sg-background-color, var(--theme-background, var(--jp-layout-color0, #111)));\n",
       "    --sklearn-color-border-box: var(--sg-text-color, var(--theme-code-foreground, var(--jp-content-font-color1, white)));\n",
       "    --sklearn-color-icon: #878787;\n",
       "  }\n",
       "}\n",
       "\n",
       "#sk-container-id-1 {\n",
       "  color: var(--sklearn-color-text);\n",
       "}\n",
       "\n",
       "#sk-container-id-1 pre {\n",
       "  padding: 0;\n",
       "}\n",
       "\n",
       "#sk-container-id-1 input.sk-hidden--visually {\n",
       "  border: 0;\n",
       "  clip: rect(1px 1px 1px 1px);\n",
       "  clip: rect(1px, 1px, 1px, 1px);\n",
       "  height: 1px;\n",
       "  margin: -1px;\n",
       "  overflow: hidden;\n",
       "  padding: 0;\n",
       "  position: absolute;\n",
       "  width: 1px;\n",
       "}\n",
       "\n",
       "#sk-container-id-1 div.sk-dashed-wrapped {\n",
       "  border: 1px dashed var(--sklearn-color-line);\n",
       "  margin: 0 0.4em 0.5em 0.4em;\n",
       "  box-sizing: border-box;\n",
       "  padding-bottom: 0.4em;\n",
       "  background-color: var(--sklearn-color-background);\n",
       "}\n",
       "\n",
       "#sk-container-id-1 div.sk-container {\n",
       "  /* jupyter's `normalize.less` sets `[hidden] { display: none; }`\n",
       "     but bootstrap.min.css set `[hidden] { display: none !important; }`\n",
       "     so we also need the `!important` here to be able to override the\n",
       "     default hidden behavior on the sphinx rendered scikit-learn.org.\n",
       "     See: https://github.com/scikit-learn/scikit-learn/issues/21755 */\n",
       "  display: inline-block !important;\n",
       "  position: relative;\n",
       "}\n",
       "\n",
       "#sk-container-id-1 div.sk-text-repr-fallback {\n",
       "  display: none;\n",
       "}\n",
       "\n",
       "div.sk-parallel-item,\n",
       "div.sk-serial,\n",
       "div.sk-item {\n",
       "  /* draw centered vertical line to link estimators */\n",
       "  background-image: linear-gradient(var(--sklearn-color-text-on-default-background), var(--sklearn-color-text-on-default-background));\n",
       "  background-size: 2px 100%;\n",
       "  background-repeat: no-repeat;\n",
       "  background-position: center center;\n",
       "}\n",
       "\n",
       "/* Parallel-specific style estimator block */\n",
       "\n",
       "#sk-container-id-1 div.sk-parallel-item::after {\n",
       "  content: \"\";\n",
       "  width: 100%;\n",
       "  border-bottom: 2px solid var(--sklearn-color-text-on-default-background);\n",
       "  flex-grow: 1;\n",
       "}\n",
       "\n",
       "#sk-container-id-1 div.sk-parallel {\n",
       "  display: flex;\n",
       "  align-items: stretch;\n",
       "  justify-content: center;\n",
       "  background-color: var(--sklearn-color-background);\n",
       "  position: relative;\n",
       "}\n",
       "\n",
       "#sk-container-id-1 div.sk-parallel-item {\n",
       "  display: flex;\n",
       "  flex-direction: column;\n",
       "}\n",
       "\n",
       "#sk-container-id-1 div.sk-parallel-item:first-child::after {\n",
       "  align-self: flex-end;\n",
       "  width: 50%;\n",
       "}\n",
       "\n",
       "#sk-container-id-1 div.sk-parallel-item:last-child::after {\n",
       "  align-self: flex-start;\n",
       "  width: 50%;\n",
       "}\n",
       "\n",
       "#sk-container-id-1 div.sk-parallel-item:only-child::after {\n",
       "  width: 0;\n",
       "}\n",
       "\n",
       "/* Serial-specific style estimator block */\n",
       "\n",
       "#sk-container-id-1 div.sk-serial {\n",
       "  display: flex;\n",
       "  flex-direction: column;\n",
       "  align-items: center;\n",
       "  background-color: var(--sklearn-color-background);\n",
       "  padding-right: 1em;\n",
       "  padding-left: 1em;\n",
       "}\n",
       "\n",
       "\n",
       "/* Toggleable style: style used for estimator/Pipeline/ColumnTransformer box that is\n",
       "clickable and can be expanded/collapsed.\n",
       "- Pipeline and ColumnTransformer use this feature and define the default style\n",
       "- Estimators will overwrite some part of the style using the `sk-estimator` class\n",
       "*/\n",
       "\n",
       "/* Pipeline and ColumnTransformer style (default) */\n",
       "\n",
       "#sk-container-id-1 div.sk-toggleable {\n",
       "  /* Default theme specific background. It is overwritten whether we have a\n",
       "  specific estimator or a Pipeline/ColumnTransformer */\n",
       "  background-color: var(--sklearn-color-background);\n",
       "}\n",
       "\n",
       "/* Toggleable label */\n",
       "#sk-container-id-1 label.sk-toggleable__label {\n",
       "  cursor: pointer;\n",
       "  display: flex;\n",
       "  width: 100%;\n",
       "  margin-bottom: 0;\n",
       "  padding: 0.5em;\n",
       "  box-sizing: border-box;\n",
       "  text-align: center;\n",
       "  align-items: start;\n",
       "  justify-content: space-between;\n",
       "  gap: 0.5em;\n",
       "}\n",
       "\n",
       "#sk-container-id-1 label.sk-toggleable__label .caption {\n",
       "  font-size: 0.6rem;\n",
       "  font-weight: lighter;\n",
       "  color: var(--sklearn-color-text-muted);\n",
       "}\n",
       "\n",
       "#sk-container-id-1 label.sk-toggleable__label-arrow:before {\n",
       "  /* Arrow on the left of the label */\n",
       "  content: \"▸\";\n",
       "  float: left;\n",
       "  margin-right: 0.25em;\n",
       "  color: var(--sklearn-color-icon);\n",
       "}\n",
       "\n",
       "#sk-container-id-1 label.sk-toggleable__label-arrow:hover:before {\n",
       "  color: var(--sklearn-color-text);\n",
       "}\n",
       "\n",
       "/* Toggleable content - dropdown */\n",
       "\n",
       "#sk-container-id-1 div.sk-toggleable__content {\n",
       "  max-height: 0;\n",
       "  max-width: 0;\n",
       "  overflow: hidden;\n",
       "  text-align: left;\n",
       "  /* unfitted */\n",
       "  background-color: var(--sklearn-color-unfitted-level-0);\n",
       "}\n",
       "\n",
       "#sk-container-id-1 div.sk-toggleable__content.fitted {\n",
       "  /* fitted */\n",
       "  background-color: var(--sklearn-color-fitted-level-0);\n",
       "}\n",
       "\n",
       "#sk-container-id-1 div.sk-toggleable__content pre {\n",
       "  margin: 0.2em;\n",
       "  border-radius: 0.25em;\n",
       "  color: var(--sklearn-color-text);\n",
       "  /* unfitted */\n",
       "  background-color: var(--sklearn-color-unfitted-level-0);\n",
       "}\n",
       "\n",
       "#sk-container-id-1 div.sk-toggleable__content.fitted pre {\n",
       "  /* unfitted */\n",
       "  background-color: var(--sklearn-color-fitted-level-0);\n",
       "}\n",
       "\n",
       "#sk-container-id-1 input.sk-toggleable__control:checked~div.sk-toggleable__content {\n",
       "  /* Expand drop-down */\n",
       "  max-height: 200px;\n",
       "  max-width: 100%;\n",
       "  overflow: auto;\n",
       "}\n",
       "\n",
       "#sk-container-id-1 input.sk-toggleable__control:checked~label.sk-toggleable__label-arrow:before {\n",
       "  content: \"▾\";\n",
       "}\n",
       "\n",
       "/* Pipeline/ColumnTransformer-specific style */\n",
       "\n",
       "#sk-container-id-1 div.sk-label input.sk-toggleable__control:checked~label.sk-toggleable__label {\n",
       "  color: var(--sklearn-color-text);\n",
       "  background-color: var(--sklearn-color-unfitted-level-2);\n",
       "}\n",
       "\n",
       "#sk-container-id-1 div.sk-label.fitted input.sk-toggleable__control:checked~label.sk-toggleable__label {\n",
       "  background-color: var(--sklearn-color-fitted-level-2);\n",
       "}\n",
       "\n",
       "/* Estimator-specific style */\n",
       "\n",
       "/* Colorize estimator box */\n",
       "#sk-container-id-1 div.sk-estimator input.sk-toggleable__control:checked~label.sk-toggleable__label {\n",
       "  /* unfitted */\n",
       "  background-color: var(--sklearn-color-unfitted-level-2);\n",
       "}\n",
       "\n",
       "#sk-container-id-1 div.sk-estimator.fitted input.sk-toggleable__control:checked~label.sk-toggleable__label {\n",
       "  /* fitted */\n",
       "  background-color: var(--sklearn-color-fitted-level-2);\n",
       "}\n",
       "\n",
       "#sk-container-id-1 div.sk-label label.sk-toggleable__label,\n",
       "#sk-container-id-1 div.sk-label label {\n",
       "  /* The background is the default theme color */\n",
       "  color: var(--sklearn-color-text-on-default-background);\n",
       "}\n",
       "\n",
       "/* On hover, darken the color of the background */\n",
       "#sk-container-id-1 div.sk-label:hover label.sk-toggleable__label {\n",
       "  color: var(--sklearn-color-text);\n",
       "  background-color: var(--sklearn-color-unfitted-level-2);\n",
       "}\n",
       "\n",
       "/* Label box, darken color on hover, fitted */\n",
       "#sk-container-id-1 div.sk-label.fitted:hover label.sk-toggleable__label.fitted {\n",
       "  color: var(--sklearn-color-text);\n",
       "  background-color: var(--sklearn-color-fitted-level-2);\n",
       "}\n",
       "\n",
       "/* Estimator label */\n",
       "\n",
       "#sk-container-id-1 div.sk-label label {\n",
       "  font-family: monospace;\n",
       "  font-weight: bold;\n",
       "  display: inline-block;\n",
       "  line-height: 1.2em;\n",
       "}\n",
       "\n",
       "#sk-container-id-1 div.sk-label-container {\n",
       "  text-align: center;\n",
       "}\n",
       "\n",
       "/* Estimator-specific */\n",
       "#sk-container-id-1 div.sk-estimator {\n",
       "  font-family: monospace;\n",
       "  border: 1px dotted var(--sklearn-color-border-box);\n",
       "  border-radius: 0.25em;\n",
       "  box-sizing: border-box;\n",
       "  margin-bottom: 0.5em;\n",
       "  /* unfitted */\n",
       "  background-color: var(--sklearn-color-unfitted-level-0);\n",
       "}\n",
       "\n",
       "#sk-container-id-1 div.sk-estimator.fitted {\n",
       "  /* fitted */\n",
       "  background-color: var(--sklearn-color-fitted-level-0);\n",
       "}\n",
       "\n",
       "/* on hover */\n",
       "#sk-container-id-1 div.sk-estimator:hover {\n",
       "  /* unfitted */\n",
       "  background-color: var(--sklearn-color-unfitted-level-2);\n",
       "}\n",
       "\n",
       "#sk-container-id-1 div.sk-estimator.fitted:hover {\n",
       "  /* fitted */\n",
       "  background-color: var(--sklearn-color-fitted-level-2);\n",
       "}\n",
       "\n",
       "/* Specification for estimator info (e.g. \"i\" and \"?\") */\n",
       "\n",
       "/* Common style for \"i\" and \"?\" */\n",
       "\n",
       ".sk-estimator-doc-link,\n",
       "a:link.sk-estimator-doc-link,\n",
       "a:visited.sk-estimator-doc-link {\n",
       "  float: right;\n",
       "  font-size: smaller;\n",
       "  line-height: 1em;\n",
       "  font-family: monospace;\n",
       "  background-color: var(--sklearn-color-background);\n",
       "  border-radius: 1em;\n",
       "  height: 1em;\n",
       "  width: 1em;\n",
       "  text-decoration: none !important;\n",
       "  margin-left: 0.5em;\n",
       "  text-align: center;\n",
       "  /* unfitted */\n",
       "  border: var(--sklearn-color-unfitted-level-1) 1pt solid;\n",
       "  color: var(--sklearn-color-unfitted-level-1);\n",
       "}\n",
       "\n",
       ".sk-estimator-doc-link.fitted,\n",
       "a:link.sk-estimator-doc-link.fitted,\n",
       "a:visited.sk-estimator-doc-link.fitted {\n",
       "  /* fitted */\n",
       "  border: var(--sklearn-color-fitted-level-1) 1pt solid;\n",
       "  color: var(--sklearn-color-fitted-level-1);\n",
       "}\n",
       "\n",
       "/* On hover */\n",
       "div.sk-estimator:hover .sk-estimator-doc-link:hover,\n",
       ".sk-estimator-doc-link:hover,\n",
       "div.sk-label-container:hover .sk-estimator-doc-link:hover,\n",
       ".sk-estimator-doc-link:hover {\n",
       "  /* unfitted */\n",
       "  background-color: var(--sklearn-color-unfitted-level-3);\n",
       "  color: var(--sklearn-color-background);\n",
       "  text-decoration: none;\n",
       "}\n",
       "\n",
       "div.sk-estimator.fitted:hover .sk-estimator-doc-link.fitted:hover,\n",
       ".sk-estimator-doc-link.fitted:hover,\n",
       "div.sk-label-container:hover .sk-estimator-doc-link.fitted:hover,\n",
       ".sk-estimator-doc-link.fitted:hover {\n",
       "  /* fitted */\n",
       "  background-color: var(--sklearn-color-fitted-level-3);\n",
       "  color: var(--sklearn-color-background);\n",
       "  text-decoration: none;\n",
       "}\n",
       "\n",
       "/* Span, style for the box shown on hovering the info icon */\n",
       ".sk-estimator-doc-link span {\n",
       "  display: none;\n",
       "  z-index: 9999;\n",
       "  position: relative;\n",
       "  font-weight: normal;\n",
       "  right: .2ex;\n",
       "  padding: .5ex;\n",
       "  margin: .5ex;\n",
       "  width: min-content;\n",
       "  min-width: 20ex;\n",
       "  max-width: 50ex;\n",
       "  color: var(--sklearn-color-text);\n",
       "  box-shadow: 2pt 2pt 4pt #999;\n",
       "  /* unfitted */\n",
       "  background: var(--sklearn-color-unfitted-level-0);\n",
       "  border: .5pt solid var(--sklearn-color-unfitted-level-3);\n",
       "}\n",
       "\n",
       ".sk-estimator-doc-link.fitted span {\n",
       "  /* fitted */\n",
       "  background: var(--sklearn-color-fitted-level-0);\n",
       "  border: var(--sklearn-color-fitted-level-3);\n",
       "}\n",
       "\n",
       ".sk-estimator-doc-link:hover span {\n",
       "  display: block;\n",
       "}\n",
       "\n",
       "/* \"?\"-specific style due to the `<a>` HTML tag */\n",
       "\n",
       "#sk-container-id-1 a.estimator_doc_link {\n",
       "  float: right;\n",
       "  font-size: 1rem;\n",
       "  line-height: 1em;\n",
       "  font-family: monospace;\n",
       "  background-color: var(--sklearn-color-background);\n",
       "  border-radius: 1rem;\n",
       "  height: 1rem;\n",
       "  width: 1rem;\n",
       "  text-decoration: none;\n",
       "  /* unfitted */\n",
       "  color: var(--sklearn-color-unfitted-level-1);\n",
       "  border: var(--sklearn-color-unfitted-level-1) 1pt solid;\n",
       "}\n",
       "\n",
       "#sk-container-id-1 a.estimator_doc_link.fitted {\n",
       "  /* fitted */\n",
       "  border: var(--sklearn-color-fitted-level-1) 1pt solid;\n",
       "  color: var(--sklearn-color-fitted-level-1);\n",
       "}\n",
       "\n",
       "/* On hover */\n",
       "#sk-container-id-1 a.estimator_doc_link:hover {\n",
       "  /* unfitted */\n",
       "  background-color: var(--sklearn-color-unfitted-level-3);\n",
       "  color: var(--sklearn-color-background);\n",
       "  text-decoration: none;\n",
       "}\n",
       "\n",
       "#sk-container-id-1 a.estimator_doc_link.fitted:hover {\n",
       "  /* fitted */\n",
       "  background-color: var(--sklearn-color-fitted-level-3);\n",
       "}\n",
       "</style><div id=\"sk-container-id-1\" class=\"sk-top-container\"><div class=\"sk-text-repr-fallback\"><pre>KNeighborsClassifier(n_neighbors=3)</pre><b>In a Jupyter environment, please rerun this cell to show the HTML representation or trust the notebook. <br />On GitHub, the HTML representation is unable to render, please try loading this page with nbviewer.org.</b></div><div class=\"sk-container\" hidden><div class=\"sk-item\"><div class=\"sk-estimator fitted sk-toggleable\"><input class=\"sk-toggleable__control sk-hidden--visually\" id=\"sk-estimator-id-1\" type=\"checkbox\" checked><label for=\"sk-estimator-id-1\" class=\"sk-toggleable__label fitted sk-toggleable__label-arrow\"><div><div>KNeighborsClassifier</div></div><div><a class=\"sk-estimator-doc-link fitted\" rel=\"noreferrer\" target=\"_blank\" href=\"https://scikit-learn.org/1.6/modules/generated/sklearn.neighbors.KNeighborsClassifier.html\">?<span>Documentation for KNeighborsClassifier</span></a><span class=\"sk-estimator-doc-link fitted\">i<span>Fitted</span></span></div></label><div class=\"sk-toggleable__content fitted\"><pre>KNeighborsClassifier(n_neighbors=3)</pre></div> </div></div></div></div>"
      ]
     },
     "execution_count": 19,
     "metadata": {},
     "output_type": "execute_result"
    }
   ],
   "execution_count": 19
  },
  {
   "metadata": {
    "ExecuteTime": {
     "end_time": "2025-05-30T17:38:58.592375Z",
     "start_time": "2025-05-30T17:38:58.568815Z"
    }
   },
   "cell_type": "code",
   "source": [
    "# 预测测试集\n",
    "y_pred = knn.predict(X_test)\n",
    "\n",
    "# 计算准确率\n",
    "accuracy = accuracy_score(y_test, y_pred)\n",
    "print(f'模型准确率: {accuracy:.2f}')"
   ],
   "id": "3ca9ff029a54e78a",
   "outputs": [
    {
     "name": "stdout",
     "output_type": "stream",
     "text": [
      "模型准确率: 1.00\n"
     ]
    }
   ],
   "execution_count": 20
  },
  {
   "metadata": {
    "ExecuteTime": {
     "end_time": "2025-05-30T17:39:09.327698Z",
     "start_time": "2025-05-30T17:39:09.160143Z"
    }
   },
   "cell_type": "code",
   "source": [
    "import numpy as np\n",
    "import pandas as pd\n",
    "import matplotlib.pyplot as plt\n",
    "from sklearn.datasets import load_iris\n",
    "from sklearn.model_selection import train_test_split\n",
    "from sklearn.preprocessing import StandardScaler\n",
    "from sklearn.neighbors import KNeighborsClassifier\n",
    "from sklearn.metrics import accuracy_score\n",
    "\n",
    "# 加载鸢尾花数据集\n",
    "iris = load_iris()\n",
    "\n",
    "# 将数据转化为 pandas DataFrame\n",
    "X = pd.DataFrame(iris.data, columns=iris.feature_names)  # 特征数据\n",
    "y = pd.Series(iris.target)  # 标签数据\n",
    "\n",
    "# 划分训练集和测试集（80% 训练集，20% 测试集）\n",
    "X_train, X_test, y_train, y_test = train_test_split(X, y, test_size=0.2, random_state=42)\n",
    "\n",
    "# 标准化特征\n",
    "scaler = StandardScaler()\n",
    "X_train = scaler.fit_transform(X_train)\n",
    "X_test = scaler.transform(X_test)\n",
    "\n",
    "# 创建 KNN 分类器\n",
    "knn = KNeighborsClassifier(n_neighbors=3)\n",
    "\n",
    "# 训练模型\n",
    "knn.fit(X_train, y_train)\n",
    "\n",
    "# 预测测试集\n",
    "y_pred = knn.predict(X_test)\n",
    "\n",
    "# 计算准确率\n",
    "accuracy = accuracy_score(y_test, y_pred)\n",
    "\n",
    "# 可视化 - 这里只是一个简单示例，具体可根据实际情况选择绘图方式\n",
    "plt.scatter(X_test[:, 0], X_test[:, 1], c=y_pred, cmap='viridis', marker='o')\n",
    "plt.title(\"KNN Classification Results\")\n",
    "plt.xlabel(\"Feature 1\")\n",
    "plt.ylabel(\"Feature 2\")\n",
    "plt.show()"
   ],
   "id": "af2896933b96cfe8",
   "outputs": [
    {
     "data": {
      "text/plain": [
       "<Figure size 640x480 with 1 Axes>"
      ],
      "image/png": "[encoded data removed]"
     },
     "metadata": {},
     "output_type": "display_data"
    }
   ],
   "execution_count": 21
  },
  {
   "metadata": {
    "ExecuteTime": {
     "end_time": "2025-05-31T02:11:53.131948Z",
     "start_time": "2025-05-31T02:11:50.232292Z"
    }
   },
   "cell_type": "code",
   "source": [
    "from torch.utils.data import Dataset\n",
    "help(Dataset)"
   ],
   "id": "db12547ffdfb037f",
   "outputs": [
    {
     "name": "stdout",
     "output_type": "stream",
     "text": [
      "Help on class Dataset in module torch.utils.data.dataset:\n",
      "\n",
      "class Dataset(typing.Generic)\n",
      " |  An abstract class representing a :class:`Dataset`.\n",
      " |  \n",
      " |  All datasets that represent a map from keys to data samples should subclass\n",
      " |  it. All subclasses should overwrite :meth:`__getitem__`, supporting fetching a\n",
      " |  data sample for a given key. Subclasses could also optionally overwrite\n",
      " |  :meth:`__len__`, which is expected to return the size of the dataset by many\n",
      " |  :class:`~torch.utils.data.Sampler` implementations and the default options\n",
      " |  of :class:`~torch.utils.data.DataLoader`. Subclasses could also\n",
      " |  optionally implement :meth:`__getitems__`, for speedup batched samples\n",
      " |  loading. This method accepts list of indices of samples of batch and returns\n",
      " |  list of samples.\n",
      " |  \n",
      " |  .. note::\n",
      " |    :class:`~torch.utils.data.DataLoader` by default constructs an index\n",
      " |    sampler that yields integral indices.  To make it work with a map-style\n",
      " |    dataset with non-integral indices/keys, a custom sampler must be provided.\n",
      " |  \n",
      " |  Method resolution order:\n",
      " |      Dataset\n",
      " |      typing.Generic\n",
      " |      builtins.object\n",
      " |  \n",
      " |  Methods defined here:\n",
      " |  \n",
      " |  __add__(self, other: 'Dataset[_T_co]') -> 'ConcatDataset[_T_co]'\n",
      " |  \n",
      " |  __getitem__(self, index) -> +_T_co\n",
      " |  \n",
      " |  ----------------------------------------------------------------------\n",
      " |  Data descriptors defined here:\n",
      " |  \n",
      " |  __dict__\n",
      " |      dictionary for instance variables (if defined)\n",
      " |  \n",
      " |  __weakref__\n",
      " |      list of weak references to the object (if defined)\n",
      " |  \n",
      " |  ----------------------------------------------------------------------\n",
      " |  Data and other attributes defined here:\n",
      " |  \n",
      " |  __orig_bases__ = (typing.Generic[+_T_co],)\n",
      " |  \n",
      " |  __parameters__ = (+_T_co,)\n",
      " |  \n",
      " |  ----------------------------------------------------------------------\n",
      " |  Class methods inherited from typing.Generic:\n",
      " |  \n",
      " |  __class_getitem__(params) from builtins.type\n",
      " |  \n",
      " |  __init_subclass__(*args, **kwargs) from builtins.type\n",
      " |      This method is called when a class is subclassed.\n",
      " |      \n",
      " |      The default implementation does nothing. It may be\n",
      " |      overridden to extend subclasses.\n",
      "\n"
     ]
    }
   ],
   "execution_count": 1
  },
  {
   "metadata": {
    "ExecuteTime": {
     "end_time": "2025-06-02T14:43:31.950755Z",
     "start_time": "2025-06-02T14:43:31.940784Z"
    }
   },
   "cell_type": "code",
   "source": [
    "\n",
    "\n",
    "import sys\n",
    "print(sys.version)"
   ],
   "id": "8944f1d0c3053bf5",
   "outputs": [
    {
     "name": "stdout",
     "output_type": "stream",
     "text": [
      "3.9.13 (tags/v3.9.13:6de2ca5, May 17 2022, 16:36:42) [MSC v.1929 64 bit (AMD64)]\n"
     ]
    }
   ],
   "execution_count": 1
  },
  {
   "metadata": {
    "ExecuteTime": {
     "end_time": "2025-06-02T14:57:24.100596Z",
     "start_time": "2025-06-02T14:57:20.784879Z"
    }
   },
   "cell_type": "code",
   "source": [
    "\n",
    "\n",
    "import torch\n",
    "\n",
    "# 查看CUDA是否可用\n",
    "print(f\"CUDA可用: {torch.cuda.is_available()}\")\n",
    "\n",
    "# 获取GPU数量\n",
    "gpu_count = torch.cuda.device_count()\n",
    "print(f\"GPU数量: {gpu_count}\")\n",
    "\n",
    "# 查看每块GPU的信息\n",
    "for i in range(gpu_count):\n",
    "    print(f\"GPU {i}: {torch.cuda.get_device_name(i)}\")\n",
    "    print(f\"显存总量: {torch.cuda.get_device_properties(i).total_memory / 1024 / 1024:.0f} MB\")\n",
    "\n"
   ],
   "id": "9c1364c4c6f09ffc",
   "outputs": [
    {
     "name": "stdout",
     "output_type": "stream",
     "text": [
      "CUDA可用: True\n",
      "GPU数量: 1\n",
      "GPU 0: NVIDIA GeForce RTX 4060 Laptop GPU\n",
      "显存总量: 8188 MB\n"
     ]
    }
   ],
   "execution_count": 2
  },
  {
   "metadata": {
    "ExecuteTime": {
     "end_time": "2025-06-02T15:01:29.003561Z",
     "start_time": "2025-06-02T15:01:28.979345Z"
    }
   },
   "cell_type": "code",
   "source": [
    "\n",
    "\n",
    "\n",
    "%matplotlib inline\n",
    "import math\n",
    "import torch\n",
    "from torch import nn\n",
    "from torch.nn import functional as F\n",
    "from d2l import torch as d2l\n",
    "\n",
    "# 定义批量大小和时间步数\n",
    "batch_size, num_steps = 32, 35\n",
    "# 加载时间机器数据并创建词汇表\n",
    "train_iter, vocab = d2l.load_data_time_machine(batch_size, num_steps)"
   ],
   "id": "215b2f579a8bf082",
   "outputs": [
    {
     "ename": "AttributeError",
     "evalue": "module 'd2l.torch' has no attribute 'load_data_time_machine'",
     "output_type": "error",
     "traceback": [
      "\u001B[1;31m---------------------------------------------------------------------------\u001B[0m",
      "\u001B[1;31mAttributeError\u001B[0m                            Traceback (most recent call last)",
      "Cell \u001B[1;32mIn[4], line 11\u001B[0m\n\u001B[0;32m      9\u001B[0m batch_size, num_steps \u001B[38;5;241m=\u001B[39m \u001B[38;5;241m32\u001B[39m, \u001B[38;5;241m35\u001B[39m\n\u001B[0;32m     10\u001B[0m \u001B[38;5;66;03m# 加载时间机器数据并创建词汇表\u001B[39;00m\n\u001B[1;32m---> 11\u001B[0m train_iter, vocab \u001B[38;5;241m=\u001B[39m \u001B[43md2l\u001B[49m\u001B[38;5;241;43m.\u001B[39;49m\u001B[43mload_data_time_machine\u001B[49m(batch_size, num_steps)\n",
      "\u001B[1;31mAttributeError\u001B[0m: module 'd2l.torch' has no attribute 'load_data_time_machine'"
     ]
    }
   ],
   "execution_count": 4
  },
  {
   "metadata": {
    "ExecuteTime": {
     "end_time": "2025-06-02T15:02:07.276665Z",
     "start_time": "2025-06-02T15:02:07.232665Z"
    }
   },
   "cell_type": "code",
   "source": [
    "\n",
    "import torch\n",
    "x = torch.arange(12) # 初始化一个0-11的张量\n",
    "x"
   ],
   "id": "584b8f5a3a9cccdf",
   "outputs": [
    {
     "data": {
      "text/plain": [
       "tensor([ 0,  1,  2,  3,  4,  5,  6,  7,  8,  9, 10, 11])"
      ]
     },
     "execution_count": 5,
     "metadata": {},
     "output_type": "execute_result"
    }
   ],
   "execution_count": 5
  },
  {
   "metadata": {
    "ExecuteTime": {
     "end_time": "2025-06-02T15:02:15.070061Z",
     "start_time": "2025-06-02T15:02:15.056578Z"
    }
   },
   "cell_type": "code",
   "source": [
    "import torch\n",
    "x = torch.arange(12) # 初始化一个0-11的张量\n",
    "x.shape # 张量的形状"
   ],
   "id": "17ccfdde68fde55d",
   "outputs": [
    {
     "data": {
      "text/plain": [
       "torch.Size([12])"
      ]
     },
     "execution_count": 6,
     "metadata": {},
     "output_type": "execute_result"
    }
   ],
   "execution_count": 6
  },
  {
   "metadata": {
    "ExecuteTime": {
     "end_time": "2025-06-02T15:02:21.434749Z",
     "start_time": "2025-06-02T15:02:21.424110Z"
    }
   },
   "cell_type": "code",
   "source": [
    "import torch\n",
    "x = torch.arange(12) # 初始化一个0-11的张量\n",
    "x.numel() # 张量中元素的总数"
   ],
   "id": "2f18484ae7c441eb",
   "outputs": [
    {
     "data": {
      "text/plain": [
       "12"
      ]
     },
     "execution_count": 7,
     "metadata": {},
     "output_type": "execute_result"
    }
   ],
   "execution_count": 7
  },
  {
   "metadata": {
    "ExecuteTime": {
     "end_time": "2025-06-02T15:02:40.068144Z",
     "start_time": "2025-06-02T15:02:40.056560Z"
    }
   },
   "cell_type": "code",
   "source": [
    "import torch\n",
    "x = torch.arange(12) # 初始化一个0-11的张量\n",
    "x = x.reshape(3,4) # 一维张量改为3行四列的张量\n",
    "print(x)"
   ],
   "id": "c8c6a0fb6858887e",
   "outputs": [
    {
     "name": "stdout",
     "output_type": "stream",
     "text": [
      "tensor([[ 0,  1,  2,  3],\n",
      "        [ 4,  5,  6,  7],\n",
      "        [ 8,  9, 10, 11]])\n"
     ]
    }
   ],
   "execution_count": 10
  },
  {
   "metadata": {
    "ExecuteTime": {
     "end_time": "2025-06-02T15:02:48.019082Z",
     "start_time": "2025-06-02T15:02:47.983321Z"
    }
   },
   "cell_type": "code",
   "source": [
    "import torch\n",
    "y = torch.zeros((2,3,4))\n",
    "print(y)"
   ],
   "id": "fc652c7a98a05718",
   "outputs": [
    {
     "name": "stdout",
     "output_type": "stream",
     "text": [
      "tensor([[[0., 0., 0., 0.],\n",
      "         [0., 0., 0., 0.],\n",
      "         [0., 0., 0., 0.]],\n",
      "\n",
      "        [[0., 0., 0., 0.],\n",
      "         [0., 0., 0., 0.],\n",
      "         [0., 0., 0., 0.]]])\n"
     ]
    }
   ],
   "execution_count": 11
  },
  {
   "metadata": {
    "ExecuteTime": {
     "end_time": "2025-06-02T15:02:55.268400Z",
     "start_time": "2025-06-02T15:02:55.253064Z"
    }
   },
   "cell_type": "code",
   "source": [
    "import torch\n",
    "y = torch.ones((2,3,4))\n",
    "print(y)"
   ],
   "id": "ef2a9d817a00f345",
   "outputs": [
    {
     "name": "stdout",
     "output_type": "stream",
     "text": [
      "tensor([[[1., 1., 1., 1.],\n",
      "         [1., 1., 1., 1.],\n",
      "         [1., 1., 1., 1.]],\n",
      "\n",
      "        [[1., 1., 1., 1.],\n",
      "         [1., 1., 1., 1.],\n",
      "         [1., 1., 1., 1.]]])\n"
     ]
    }
   ],
   "execution_count": 12
  },
  {
   "metadata": {
    "ExecuteTime": {
     "end_time": "2025-06-02T15:03:05.114691Z",
     "start_time": "2025-06-02T15:03:05.093125Z"
    }
   },
   "cell_type": "code",
   "source": [
    "import torch\n",
    "y = torch.tensor([[2,1,4,3],[1,2,3,4],[4,3,2,1]]) # 二维tensor\n",
    "z = torch.tensor([[[2,1,4,3],[1,2,3,4],[4,3,2,1]]]) # 三维tensor\n",
    "print(y)\n",
    "print(z)"
   ],
   "id": "43cf1ac94045ba46",
   "outputs": [
    {
     "name": "stdout",
     "output_type": "stream",
     "text": [
      "tensor([[2, 1, 4, 3],\n",
      "        [1, 2, 3, 4],\n",
      "        [4, 3, 2, 1]])\n",
      "tensor([[[2, 1, 4, 3],\n",
      "         [1, 2, 3, 4],\n",
      "         [4, 3, 2, 1]]])\n"
     ]
    }
   ],
   "execution_count": 13
  },
  {
   "metadata": {
    "ExecuteTime": {
     "end_time": "2025-06-02T15:09:53.795910Z",
     "start_time": "2025-06-02T15:09:53.766991Z"
    }
   },
   "cell_type": "code",
   "source": [
    "\n",
    "%matplotlib inline\n",
    "import random\n",
    "import torch\n",
    "from d2l import torch as d2l\n",
    "\n",
    "def synthetic_data(w,b,num_exaples):\n",
    "    \"\"\"生成 y = Xw + b + 噪声\"\"\"\n",
    "    X = torch.normal(0,1,(num_exaples,len(w)))\n",
    "    print(\"X.shape:\",X.shape)\n",
    "    y = torch.matmul(X,w) + b\n",
    "    print(\"y.shape:\",y.shape)\n",
    "    y += torch.normal(0,0.01,y.shape)\n",
    "    print(\"y.shape:\",y.shape)\n",
    "    return X, y.reshape((-1,1))\n",
    "\n",
    "true_w = torch.tensor([2,-3.4])\n",
    "true_b = 4.2\n",
    "features, labels = synthetic_data(true_w, true_b, 1000)\n",
    "print(\"features.shape:\",features.shape)\n",
    "print(\"labels.shape:\",labels.shape)"
   ],
   "id": "866a9140f6b46ac",
   "outputs": [
    {
     "name": "stdout",
     "output_type": "stream",
     "text": [
      "X.shape: torch.Size([1000, 2])\n",
      "y.shape: torch.Size([1000])\n",
      "y.shape: torch.Size([1000])\n",
      "features.shape: torch.Size([1000, 2])\n",
      "labels.shape: torch.Size([1000, 1])\n"
     ]
    }
   ],
   "execution_count": 14
  },
  {
   "metadata": {
    "ExecuteTime": {
     "end_time": "2025-06-02T15:10:04.775800Z",
     "start_time": "2025-06-02T15:10:04.482487Z"
    }
   },
   "cell_type": "code",
   "source": [
    "%matplotlib inline\n",
    "import random\n",
    "import torch\n",
    "from d2l import torch as d2l\n",
    "\n",
    "def synthetic_data(w,b,num_exaples):\n",
    "    \"\"\"生成 y = Xw + b + 噪声\"\"\"\n",
    "    X = torch.normal(0,1,(num_exaples,len(w)))\n",
    "    y = torch.matmul(X,w) + b\n",
    "    y += torch.normal(0,0.01,y.shape)\n",
    "    return X, y.reshape((-1,1))\n",
    "\n",
    "true_w = torch.tensor([2,-3.4])\n",
    "true_b = 4.2\n",
    "features, labels = synthetic_data(true_w, true_b, 1000)\n",
    "print('features:',features[0],'\\nlabel:',labels[0])\n",
    "\n",
    "d2l.set_figsize()\n",
    "d2l.plt.scatter(features[:,1].detach().numpy(),labels.detach().numpy(),1)"
   ],
   "id": "acc0d4915ac7b4f",
   "outputs": [
    {
     "name": "stdout",
     "output_type": "stream",
     "text": [
      "features: tensor([-1.7059,  0.3293]) \n",
      "label: tensor([-0.3453])\n"
     ]
    },
    {
     "data": {
      "text/plain": [
       "<matplotlib.collections.PathCollection at 0x1cc5502c0d0>"
      ]
     },
     "execution_count": 15,
     "metadata": {},
     "output_type": "execute_result"
    },
    {
     "data": {
      "text/plain": [
       "<Figure size 350x250 with 1 Axes>"
      ],
      "image/svg+xml": "<?xml version=\"1.0\" encoding=\"utf-8\" standalone=\"no\"?>\n<!DOCTYPE svg PUBLIC \"-//W3C//DTD SVG 1.1//EN\"\n  \"http://www.w3.org/Graphics/SVG/1.1/DTD/svg11.dtd\">\n<svg xmlns:xlink=\"http://www.w3.org/1999/xlink\" width=\"237.804688pt\" height=\"169.678125pt\" viewBox=\"0 0 237.804688 169.678125\" xmlns=\"http://www.w3.org/2000/svg\" version=\"1.1\">\n <metadata>\n  <rdf:RDF xmlns:dc=\"http://purl.org/dc/elements/1.1/\" xmlns:cc=\"http://creativecommons.org/ns#\" xmlns:rdf=\"http://www.w3.org/1999/02/22-rdf-syntax-ns#\">\n   <cc:Work>\n    <dc:type rdf:resource=\"http://purl.org/dc/dcmitype/StillImage\"/>\n    <dc:date>2025-06-02T23:10:04.687110</dc:date>\n    <dc:format>image/svg+xml</dc:format>\n    <dc:creator>\n     <cc:Agent>\n      <dc:title>Matplotlib v3.7.2, https://matplotlib.org/</dc:title>\n     </cc:Agent>\n    </dc:creator>\n   </cc:Work>\n  </rdf:RDF>\n </metadata>\n <defs>\n  <style type=\"text/css\">*{stroke-linejoin: round; stroke-linecap: butt}</style>\n </defs>\n <g id=\"figure_1\">\n  <g id=\"patch_1\">\n   <path d=\"M 0 169.678125 \nL 237.804688 169.678125 \nL 237.804688 0 \nL 0 0 \nz\n\" style=\"fill: #ffffff\"/>\n  </g>\n  <g id=\"axes_1\">\n   <g id=\"patch_2\">\n    <path d=\"M 35.304688 145.8 \nL 230.604688 145.8 \nL 230.604688 7.2 \nL 35.304688 7.2 \nz\n\" style=\"fill: #ffffff\"/>\n   </g>\n   <g id=\"PathCollection_1\">\n    <defs>\n     <path id=\"m813f028a0a\" d=\"M 0 0.5 \nC 0.132602 0.5 0.25979 0.447317 0.353553 0.353553 \nC 0.447317 0.25979 0.5 0.132602 0.5 0 \nC 0.5 -0.132602 0.447317 -0.25979 0.353553 -0.353553 \nC 0.25979 -0.447317 0.132602 -0.5 0 -0.5 \nC -0.132602 -0.5 -0.25979 -0.447317 -0.353553 -0.353553 \nC -0.447317 -0.25979 -0.5 -0.132602 -0.5 0 \nC -0.5 0.132602 -0.447317 0.25979 -0.353553 0.353553 \nC -0.25979 0.447317 -0.132602 0.5 0 0.5 \nz\n\" style=\"stroke: #1f77b4\"/>\n    </defs>\n    <g clip-path=\"url(#pab5b5a7290)\">\n     <use xlink:href=\"#m813f028a0a\" x=\"138.180297\" y=\"99.448184\" style=\"fill: #1f77b4; stroke: #1f77b4\"/>\n     <use xlink:href=\"#m813f028a0a\" x=\"144.636983\" y=\"102.761504\" style=\"fill: #1f77b4; stroke: #1f77b4\"/>\n     <use xlink:href=\"#m813f028a0a\" x=\"95.688444\" y=\"75.744944\" style=\"fill: #1f77b4; stroke: #1f77b4\"/>\n     <use xlink:href=\"#m813f028a0a\" x=\"121.239526\" y=\"73.386164\" style=\"fill: #1f77b4; stroke: #1f77b4\"/>\n     <use xlink:href=\"#m813f028a0a\" x=\"131.456791\" y=\"72.281872\" style=\"fill: #1f77b4; stroke: #1f77b4\"/>\n     <use xlink:href=\"#m813f028a0a\" x=\"112.208398\" y=\"67.935933\" style=\"fill: #1f77b4; stroke: #1f77b4\"/>\n     <use xlink:href=\"#m813f028a0a\" x=\"106.310272\" y=\"71.866707\" style=\"fill: #1f77b4; stroke: #1f77b4\"/>\n     <use xlink:href=\"#m813f028a0a\" x=\"143.631909\" y=\"89.553841\" style=\"fill: #1f77b4; stroke: #1f77b4\"/>\n     <use xlink:href=\"#m813f028a0a\" x=\"142.769857\" y=\"83.448972\" style=\"fill: #1f77b4; stroke: #1f77b4\"/>\n     <use xlink:href=\"#m813f028a0a\" x=\"74.620085\" y=\"48.228828\" style=\"fill: #1f77b4; stroke: #1f77b4\"/>\n     <use xlink:href=\"#m813f028a0a\" x=\"183.158987\" y=\"112.231024\" style=\"fill: #1f77b4; stroke: #1f77b4\"/>\n     <use xlink:href=\"#m813f028a0a\" x=\"127.218501\" y=\"73.073424\" style=\"fill: #1f77b4; stroke: #1f77b4\"/>\n     <use xlink:href=\"#m813f028a0a\" x=\"95.084512\" y=\"77.623542\" style=\"fill: #1f77b4; stroke: #1f77b4\"/>\n     <use xlink:href=\"#m813f028a0a\" x=\"149.823424\" y=\"81.089022\" style=\"fill: #1f77b4; stroke: #1f77b4\"/>\n     <use xlink:href=\"#m813f028a0a\" x=\"135.451752\" y=\"72.060917\" style=\"fill: #1f77b4; stroke: #1f77b4\"/>\n     <use xlink:href=\"#m813f028a0a\" x=\"94.373828\" y=\"64.744362\" style=\"fill: #1f77b4; stroke: #1f77b4\"/>\n     <use xlink:href=\"#m813f028a0a\" x=\"181.585589\" y=\"116.621799\" style=\"fill: #1f77b4; stroke: #1f77b4\"/>\n     <use xlink:href=\"#m813f028a0a\" x=\"130.196315\" y=\"65.934532\" style=\"fill: #1f77b4; stroke: #1f77b4\"/>\n     <use xlink:href=\"#m813f028a0a\" x=\"118.520919\" y=\"72.700239\" style=\"fill: #1f77b4; stroke: #1f77b4\"/>\n     <use xlink:href=\"#m813f028a0a\" x=\"122.307447\" y=\"75.869254\" style=\"fill: #1f77b4; stroke: #1f77b4\"/>\n     <use xlink:href=\"#m813f028a0a\" x=\"126.61346\" y=\"86.215964\" style=\"fill: #1f77b4; stroke: #1f77b4\"/>\n     <use xlink:href=\"#m813f028a0a\" x=\"137.313103\" y=\"72.353153\" style=\"fill: #1f77b4; stroke: #1f77b4\"/>\n     <use xlink:href=\"#m813f028a0a\" x=\"110.742728\" y=\"67.319514\" style=\"fill: #1f77b4; stroke: #1f77b4\"/>\n     <use xlink:href=\"#m813f028a0a\" x=\"109.434263\" y=\"63.634091\" style=\"fill: #1f77b4; stroke: #1f77b4\"/>\n     <use xlink:href=\"#m813f028a0a\" x=\"106.033486\" y=\"65.818941\" style=\"fill: #1f77b4; stroke: #1f77b4\"/>\n     <use xlink:href=\"#m813f028a0a\" x=\"131.158692\" y=\"81.345938\" style=\"fill: #1f77b4; stroke: #1f77b4\"/>\n     <use xlink:href=\"#m813f028a0a\" x=\"155.9129\" y=\"103.253286\" style=\"fill: #1f77b4; stroke: #1f77b4\"/>\n     <use xlink:href=\"#m813f028a0a\" x=\"139.657255\" y=\"94.158768\" style=\"fill: #1f77b4; stroke: #1f77b4\"/>\n     <use xlink:href=\"#m813f028a0a\" x=\"139.197201\" y=\"88.955928\" style=\"fill: #1f77b4; stroke: #1f77b4\"/>\n     <use xlink:href=\"#m813f028a0a\" x=\"189.243205\" y=\"120.390644\" style=\"fill: #1f77b4; stroke: #1f77b4\"/>\n     <use xlink:href=\"#m813f028a0a\" x=\"166.637028\" y=\"101.826949\" style=\"fill: #1f77b4; stroke: #1f77b4\"/>\n     <use xlink:href=\"#m813f028a0a\" x=\"147.326565\" y=\"91.933615\" style=\"fill: #1f77b4; stroke: #1f77b4\"/>\n     <use xlink:href=\"#m813f028a0a\" x=\"131.117795\" y=\"78.691076\" style=\"fill: #1f77b4; stroke: #1f77b4\"/>\n     <use xlink:href=\"#m813f028a0a\" x=\"145.875613\" y=\"80.712608\" style=\"fill: #1f77b4; stroke: #1f77b4\"/>\n     <use xlink:href=\"#m813f028a0a\" x=\"93.005659\" y=\"70.434686\" style=\"fill: #1f77b4; stroke: #1f77b4\"/>\n     <use xlink:href=\"#m813f028a0a\" x=\"129.498099\" y=\"79.792471\" style=\"fill: #1f77b4; stroke: #1f77b4\"/>\n     <use xlink:href=\"#m813f028a0a\" x=\"79.213306\" y=\"45.6351\" style=\"fill: #1f77b4; stroke: #1f77b4\"/>\n     <use xlink:href=\"#m813f028a0a\" x=\"167.944687\" y=\"101.773775\" style=\"fill: #1f77b4; stroke: #1f77b4\"/>\n     <use xlink:href=\"#m813f028a0a\" x=\"75.371119\" y=\"46.858887\" style=\"fill: #1f77b4; stroke: #1f77b4\"/>\n     <use xlink:href=\"#m813f028a0a\" x=\"138.219134\" y=\"65.966833\" style=\"fill: #1f77b4; stroke: #1f77b4\"/>\n     <use xlink:href=\"#m813f028a0a\" x=\"117.49207\" y=\"67.154805\" style=\"fill: #1f77b4; stroke: #1f77b4\"/>\n     <use xlink:href=\"#m813f028a0a\" x=\"112.763441\" y=\"50.687135\" style=\"fill: #1f77b4; stroke: #1f77b4\"/>\n     <use xlink:href=\"#m813f028a0a\" x=\"116.664748\" y=\"73.840045\" style=\"fill: #1f77b4; stroke: #1f77b4\"/>\n     <use xlink:href=\"#m813f028a0a\" x=\"128.109916\" y=\"92.176468\" style=\"fill: #1f77b4; stroke: #1f77b4\"/>\n     <use xlink:href=\"#m813f028a0a\" x=\"124.813013\" y=\"85.384301\" style=\"fill: #1f77b4; stroke: #1f77b4\"/>\n     <use xlink:href=\"#m813f028a0a\" x=\"164.421549\" y=\"92.495604\" style=\"fill: #1f77b4; stroke: #1f77b4\"/>\n     <use xlink:href=\"#m813f028a0a\" x=\"132.915912\" y=\"76.775618\" style=\"fill: #1f77b4; stroke: #1f77b4\"/>\n     <use xlink:href=\"#m813f028a0a\" x=\"144.326344\" y=\"94.520261\" style=\"fill: #1f77b4; stroke: #1f77b4\"/>\n     <use xlink:href=\"#m813f028a0a\" x=\"160.124559\" y=\"92.900907\" style=\"fill: #1f77b4; stroke: #1f77b4\"/>\n     <use xlink:href=\"#m813f028a0a\" x=\"121.421466\" y=\"81.934238\" style=\"fill: #1f77b4; stroke: #1f77b4\"/>\n     <use xlink:href=\"#m813f028a0a\" x=\"96.519028\" y=\"59.187702\" style=\"fill: #1f77b4; stroke: #1f77b4\"/>\n     <use xlink:href=\"#m813f028a0a\" x=\"141.251223\" y=\"77.21482\" style=\"fill: #1f77b4; stroke: #1f77b4\"/>\n     <use xlink:href=\"#m813f028a0a\" x=\"139.416597\" y=\"85.772624\" style=\"fill: #1f77b4; stroke: #1f77b4\"/>\n     <use xlink:href=\"#m813f028a0a\" x=\"137.800458\" y=\"71.126352\" style=\"fill: #1f77b4; stroke: #1f77b4\"/>\n     <use xlink:href=\"#m813f028a0a\" x=\"131.10126\" y=\"73.224553\" style=\"fill: #1f77b4; stroke: #1f77b4\"/>\n     <use xlink:href=\"#m813f028a0a\" x=\"129.657226\" y=\"92.809442\" style=\"fill: #1f77b4; stroke: #1f77b4\"/>\n     <use xlink:href=\"#m813f028a0a\" x=\"109.193025\" y=\"67.042948\" style=\"fill: #1f77b4; stroke: #1f77b4\"/>\n     <use xlink:href=\"#m813f028a0a\" x=\"115.416025\" y=\"62.401899\" style=\"fill: #1f77b4; stroke: #1f77b4\"/>\n     <use xlink:href=\"#m813f028a0a\" x=\"145.082658\" y=\"103.979187\" style=\"fill: #1f77b4; stroke: #1f77b4\"/>\n     <use xlink:href=\"#m813f028a0a\" x=\"154.503805\" y=\"97.630814\" style=\"fill: #1f77b4; stroke: #1f77b4\"/>\n     <use xlink:href=\"#m813f028a0a\" x=\"163.738899\" y=\"96.88546\" style=\"fill: #1f77b4; stroke: #1f77b4\"/>\n     <use xlink:href=\"#m813f028a0a\" x=\"132.526047\" y=\"80.559687\" style=\"fill: #1f77b4; stroke: #1f77b4\"/>\n     <use xlink:href=\"#m813f028a0a\" x=\"129.53959\" y=\"89.470632\" style=\"fill: #1f77b4; stroke: #1f77b4\"/>\n     <use xlink:href=\"#m813f028a0a\" x=\"78.56404\" y=\"28.832107\" style=\"fill: #1f77b4; stroke: #1f77b4\"/>\n     <use xlink:href=\"#m813f028a0a\" x=\"172.965636\" y=\"111.068896\" style=\"fill: #1f77b4; stroke: #1f77b4\"/>\n     <use xlink:href=\"#m813f028a0a\" x=\"156.352866\" y=\"101.603219\" style=\"fill: #1f77b4; stroke: #1f77b4\"/>\n     <use xlink:href=\"#m813f028a0a\" x=\"137.699906\" y=\"102.965065\" style=\"fill: #1f77b4; stroke: #1f77b4\"/>\n     <use xlink:href=\"#m813f028a0a\" x=\"158.708699\" y=\"114.773236\" style=\"fill: #1f77b4; stroke: #1f77b4\"/>\n     <use xlink:href=\"#m813f028a0a\" x=\"126.486989\" y=\"77.507006\" style=\"fill: #1f77b4; stroke: #1f77b4\"/>\n     <use xlink:href=\"#m813f028a0a\" x=\"93.624663\" y=\"68.832978\" style=\"fill: #1f77b4; stroke: #1f77b4\"/>\n     <use xlink:href=\"#m813f028a0a\" x=\"72.930589\" y=\"40.719199\" style=\"fill: #1f77b4; stroke: #1f77b4\"/>\n     <use xlink:href=\"#m813f028a0a\" x=\"77.595339\" y=\"35.277891\" style=\"fill: #1f77b4; stroke: #1f77b4\"/>\n     <use xlink:href=\"#m813f028a0a\" x=\"110.154412\" y=\"66.939326\" style=\"fill: #1f77b4; stroke: #1f77b4\"/>\n     <use xlink:href=\"#m813f028a0a\" x=\"140.957758\" y=\"99.823272\" style=\"fill: #1f77b4; stroke: #1f77b4\"/>\n     <use xlink:href=\"#m813f028a0a\" x=\"90.775585\" y=\"70.677671\" style=\"fill: #1f77b4; stroke: #1f77b4\"/>\n     <use xlink:href=\"#m813f028a0a\" x=\"92.730661\" y=\"60.077064\" style=\"fill: #1f77b4; stroke: #1f77b4\"/>\n     <use xlink:href=\"#m813f028a0a\" x=\"110.923101\" y=\"78.864927\" style=\"fill: #1f77b4; stroke: #1f77b4\"/>\n     <use xlink:href=\"#m813f028a0a\" x=\"86.508519\" y=\"47.121275\" style=\"fill: #1f77b4; stroke: #1f77b4\"/>\n     <use xlink:href=\"#m813f028a0a\" x=\"123.077883\" y=\"84.498465\" style=\"fill: #1f77b4; stroke: #1f77b4\"/>\n     <use xlink:href=\"#m813f028a0a\" x=\"110.737288\" y=\"75.629237\" style=\"fill: #1f77b4; stroke: #1f77b4\"/>\n     <use xlink:href=\"#m813f028a0a\" x=\"132.733555\" y=\"81.698278\" style=\"fill: #1f77b4; stroke: #1f77b4\"/>\n     <use xlink:href=\"#m813f028a0a\" x=\"155.380231\" y=\"78.598025\" style=\"fill: #1f77b4; stroke: #1f77b4\"/>\n     <use xlink:href=\"#m813f028a0a\" x=\"123.348488\" y=\"91.77672\" style=\"fill: #1f77b4; stroke: #1f77b4\"/>\n     <use xlink:href=\"#m813f028a0a\" x=\"150.329336\" y=\"94.411704\" style=\"fill: #1f77b4; stroke: #1f77b4\"/>\n     <use xlink:href=\"#m813f028a0a\" x=\"146.432282\" y=\"93.785173\" style=\"fill: #1f77b4; stroke: #1f77b4\"/>\n     <use xlink:href=\"#m813f028a0a\" x=\"129.695051\" y=\"73.876454\" style=\"fill: #1f77b4; stroke: #1f77b4\"/>\n     <use xlink:href=\"#m813f028a0a\" x=\"159.17009\" y=\"105.849149\" style=\"fill: #1f77b4; stroke: #1f77b4\"/>\n     <use xlink:href=\"#m813f028a0a\" x=\"100.06958\" y=\"69.716772\" style=\"fill: #1f77b4; stroke: #1f77b4\"/>\n     <use xlink:href=\"#m813f028a0a\" x=\"114.459102\" y=\"69.945417\" style=\"fill: #1f77b4; stroke: #1f77b4\"/>\n     <use xlink:href=\"#m813f028a0a\" x=\"123.806217\" y=\"65.78385\" style=\"fill: #1f77b4; stroke: #1f77b4\"/>\n     <use xlink:href=\"#m813f028a0a\" x=\"145.160215\" y=\"85.149163\" style=\"fill: #1f77b4; stroke: #1f77b4\"/>\n     <use xlink:href=\"#m813f028a0a\" x=\"104.886203\" y=\"65.024193\" style=\"fill: #1f77b4; stroke: #1f77b4\"/>\n     <use xlink:href=\"#m813f028a0a\" x=\"113.350677\" y=\"75.262921\" style=\"fill: #1f77b4; stroke: #1f77b4\"/>\n     <use xlink:href=\"#m813f028a0a\" x=\"144.751495\" y=\"95.904455\" style=\"fill: #1f77b4; stroke: #1f77b4\"/>\n     <use xlink:href=\"#m813f028a0a\" x=\"100.843587\" y=\"59.872227\" style=\"fill: #1f77b4; stroke: #1f77b4\"/>\n     <use xlink:href=\"#m813f028a0a\" x=\"130.511122\" y=\"105.162119\" style=\"fill: #1f77b4; stroke: #1f77b4\"/>\n     <use xlink:href=\"#m813f028a0a\" x=\"124.048279\" y=\"75.422245\" style=\"fill: #1f77b4; stroke: #1f77b4\"/>\n     <use xlink:href=\"#m813f028a0a\" x=\"127.940552\" y=\"84.842043\" style=\"fill: #1f77b4; stroke: #1f77b4\"/>\n     <use xlink:href=\"#m813f028a0a\" x=\"137.636572\" y=\"90.3948\" style=\"fill: #1f77b4; stroke: #1f77b4\"/>\n     <use xlink:href=\"#m813f028a0a\" x=\"141.505719\" y=\"87.50884\" style=\"fill: #1f77b4; stroke: #1f77b4\"/>\n     <use xlink:href=\"#m813f028a0a\" x=\"92.92994\" y=\"59.836535\" style=\"fill: #1f77b4; stroke: #1f77b4\"/>\n     <use xlink:href=\"#m813f028a0a\" x=\"106.256803\" y=\"71.524638\" style=\"fill: #1f77b4; stroke: #1f77b4\"/>\n     <use xlink:href=\"#m813f028a0a\" x=\"129.883455\" y=\"77.805353\" style=\"fill: #1f77b4; stroke: #1f77b4\"/>\n     <use xlink:href=\"#m813f028a0a\" x=\"140.010097\" y=\"86.33858\" style=\"fill: #1f77b4; stroke: #1f77b4\"/>\n     <use xlink:href=\"#m813f028a0a\" x=\"169.385708\" y=\"80.834104\" style=\"fill: #1f77b4; stroke: #1f77b4\"/>\n     <use xlink:href=\"#m813f028a0a\" x=\"113.877322\" y=\"91.652101\" style=\"fill: #1f77b4; stroke: #1f77b4\"/>\n     <use xlink:href=\"#m813f028a0a\" x=\"113.793247\" y=\"74.151876\" style=\"fill: #1f77b4; stroke: #1f77b4\"/>\n     <use xlink:href=\"#m813f028a0a\" x=\"113.870222\" y=\"77.264853\" style=\"fill: #1f77b4; stroke: #1f77b4\"/>\n     <use xlink:href=\"#m813f028a0a\" x=\"99.268421\" y=\"54.803974\" style=\"fill: #1f77b4; stroke: #1f77b4\"/>\n     <use xlink:href=\"#m813f028a0a\" x=\"69.436663\" y=\"33.06646\" style=\"fill: #1f77b4; stroke: #1f77b4\"/>\n     <use xlink:href=\"#m813f028a0a\" x=\"101.011503\" y=\"62.019158\" style=\"fill: #1f77b4; stroke: #1f77b4\"/>\n     <use xlink:href=\"#m813f028a0a\" x=\"149.001164\" y=\"104.185747\" style=\"fill: #1f77b4; stroke: #1f77b4\"/>\n     <use xlink:href=\"#m813f028a0a\" x=\"176.127336\" y=\"89.063908\" style=\"fill: #1f77b4; stroke: #1f77b4\"/>\n     <use xlink:href=\"#m813f028a0a\" x=\"112.085849\" y=\"46.606533\" style=\"fill: #1f77b4; stroke: #1f77b4\"/>\n     <use xlink:href=\"#m813f028a0a\" x=\"152.945457\" y=\"90.217365\" style=\"fill: #1f77b4; stroke: #1f77b4\"/>\n     <use xlink:href=\"#m813f028a0a\" x=\"76.418235\" y=\"29.356832\" style=\"fill: #1f77b4; stroke: #1f77b4\"/>\n     <use xlink:href=\"#m813f028a0a\" x=\"118.769901\" y=\"80.274489\" style=\"fill: #1f77b4; stroke: #1f77b4\"/>\n     <use xlink:href=\"#m813f028a0a\" x=\"103.203603\" y=\"57.573463\" style=\"fill: #1f77b4; stroke: #1f77b4\"/>\n     <use xlink:href=\"#m813f028a0a\" x=\"146.524141\" y=\"98.427252\" style=\"fill: #1f77b4; stroke: #1f77b4\"/>\n     <use xlink:href=\"#m813f028a0a\" x=\"139.321354\" y=\"81.564891\" style=\"fill: #1f77b4; stroke: #1f77b4\"/>\n     <use xlink:href=\"#m813f028a0a\" x=\"135.481805\" y=\"61.88639\" style=\"fill: #1f77b4; stroke: #1f77b4\"/>\n     <use xlink:href=\"#m813f028a0a\" x=\"99.057586\" y=\"61.18375\" style=\"fill: #1f77b4; stroke: #1f77b4\"/>\n     <use xlink:href=\"#m813f028a0a\" x=\"139.98702\" y=\"102.655738\" style=\"fill: #1f77b4; stroke: #1f77b4\"/>\n     <use xlink:href=\"#m813f028a0a\" x=\"90.363633\" y=\"57.139216\" style=\"fill: #1f77b4; stroke: #1f77b4\"/>\n     <use xlink:href=\"#m813f028a0a\" x=\"145.802959\" y=\"90.195424\" style=\"fill: #1f77b4; stroke: #1f77b4\"/>\n     <use xlink:href=\"#m813f028a0a\" x=\"107.384446\" y=\"84.461762\" style=\"fill: #1f77b4; stroke: #1f77b4\"/>\n     <use xlink:href=\"#m813f028a0a\" x=\"201.749178\" y=\"119.223656\" style=\"fill: #1f77b4; stroke: #1f77b4\"/>\n     <use xlink:href=\"#m813f028a0a\" x=\"133.16809\" y=\"88.023708\" style=\"fill: #1f77b4; stroke: #1f77b4\"/>\n     <use xlink:href=\"#m813f028a0a\" x=\"123.741593\" y=\"66.770245\" style=\"fill: #1f77b4; stroke: #1f77b4\"/>\n     <use xlink:href=\"#m813f028a0a\" x=\"123.640407\" y=\"59.477039\" style=\"fill: #1f77b4; stroke: #1f77b4\"/>\n     <use xlink:href=\"#m813f028a0a\" x=\"129.368082\" y=\"87.010995\" style=\"fill: #1f77b4; stroke: #1f77b4\"/>\n     <use xlink:href=\"#m813f028a0a\" x=\"158.210777\" y=\"97.514763\" style=\"fill: #1f77b4; stroke: #1f77b4\"/>\n     <use xlink:href=\"#m813f028a0a\" x=\"131.651782\" y=\"74.408356\" style=\"fill: #1f77b4; stroke: #1f77b4\"/>\n     <use xlink:href=\"#m813f028a0a\" x=\"143.872993\" y=\"99.355518\" style=\"fill: #1f77b4; stroke: #1f77b4\"/>\n     <use xlink:href=\"#m813f028a0a\" x=\"138.912369\" y=\"77.587176\" style=\"fill: #1f77b4; stroke: #1f77b4\"/>\n     <use xlink:href=\"#m813f028a0a\" x=\"99.93104\" y=\"69.802775\" style=\"fill: #1f77b4; stroke: #1f77b4\"/>\n     <use xlink:href=\"#m813f028a0a\" x=\"140.026711\" y=\"68.570832\" style=\"fill: #1f77b4; stroke: #1f77b4\"/>\n     <use xlink:href=\"#m813f028a0a\" x=\"168.043262\" y=\"93.378204\" style=\"fill: #1f77b4; stroke: #1f77b4\"/>\n     <use xlink:href=\"#m813f028a0a\" x=\"171.581183\" y=\"98.458975\" style=\"fill: #1f77b4; stroke: #1f77b4\"/>\n     <use xlink:href=\"#m813f028a0a\" x=\"112.752676\" y=\"54.781485\" style=\"fill: #1f77b4; stroke: #1f77b4\"/>\n     <use xlink:href=\"#m813f028a0a\" x=\"131.589154\" y=\"74.423397\" style=\"fill: #1f77b4; stroke: #1f77b4\"/>\n     <use xlink:href=\"#m813f028a0a\" x=\"152.606319\" y=\"89.335856\" style=\"fill: #1f77b4; stroke: #1f77b4\"/>\n     <use xlink:href=\"#m813f028a0a\" x=\"105.373572\" y=\"48.336536\" style=\"fill: #1f77b4; stroke: #1f77b4\"/>\n     <use xlink:href=\"#m813f028a0a\" x=\"157.383373\" y=\"80.629162\" style=\"fill: #1f77b4; stroke: #1f77b4\"/>\n     <use xlink:href=\"#m813f028a0a\" x=\"124.681908\" y=\"78.866352\" style=\"fill: #1f77b4; stroke: #1f77b4\"/>\n     <use xlink:href=\"#m813f028a0a\" x=\"128.266891\" y=\"82.545584\" style=\"fill: #1f77b4; stroke: #1f77b4\"/>\n     <use xlink:href=\"#m813f028a0a\" x=\"106.390323\" y=\"70.840004\" style=\"fill: #1f77b4; stroke: #1f77b4\"/>\n     <use xlink:href=\"#m813f028a0a\" x=\"91.738642\" y=\"46.217109\" style=\"fill: #1f77b4; stroke: #1f77b4\"/>\n     <use xlink:href=\"#m813f028a0a\" x=\"116.562645\" y=\"71.514141\" style=\"fill: #1f77b4; stroke: #1f77b4\"/>\n     <use xlink:href=\"#m813f028a0a\" x=\"121.363512\" y=\"88.991238\" style=\"fill: #1f77b4; stroke: #1f77b4\"/>\n     <use xlink:href=\"#m813f028a0a\" x=\"152.085777\" y=\"97.186176\" style=\"fill: #1f77b4; stroke: #1f77b4\"/>\n     <use xlink:href=\"#m813f028a0a\" x=\"84.944724\" y=\"45.561464\" style=\"fill: #1f77b4; stroke: #1f77b4\"/>\n     <use xlink:href=\"#m813f028a0a\" x=\"162.686285\" y=\"100.877785\" style=\"fill: #1f77b4; stroke: #1f77b4\"/>\n     <use xlink:href=\"#m813f028a0a\" x=\"128.692552\" y=\"65.542558\" style=\"fill: #1f77b4; stroke: #1f77b4\"/>\n     <use xlink:href=\"#m813f028a0a\" x=\"117.207052\" y=\"69.482747\" style=\"fill: #1f77b4; stroke: #1f77b4\"/>\n     <use xlink:href=\"#m813f028a0a\" x=\"138.512022\" y=\"75.888122\" style=\"fill: #1f77b4; stroke: #1f77b4\"/>\n     <use xlink:href=\"#m813f028a0a\" x=\"123.651886\" y=\"63.005966\" style=\"fill: #1f77b4; stroke: #1f77b4\"/>\n     <use xlink:href=\"#m813f028a0a\" x=\"168.738203\" y=\"104.430034\" style=\"fill: #1f77b4; stroke: #1f77b4\"/>\n     <use xlink:href=\"#m813f028a0a\" x=\"141.560004\" y=\"94.564088\" style=\"fill: #1f77b4; stroke: #1f77b4\"/>\n     <use xlink:href=\"#m813f028a0a\" x=\"162.485936\" y=\"91.540321\" style=\"fill: #1f77b4; stroke: #1f77b4\"/>\n     <use xlink:href=\"#m813f028a0a\" x=\"146.977252\" y=\"79.097305\" style=\"fill: #1f77b4; stroke: #1f77b4\"/>\n     <use xlink:href=\"#m813f028a0a\" x=\"162.713894\" y=\"97.114275\" style=\"fill: #1f77b4; stroke: #1f77b4\"/>\n     <use xlink:href=\"#m813f028a0a\" x=\"112.426508\" y=\"72.386916\" style=\"fill: #1f77b4; stroke: #1f77b4\"/>\n     <use xlink:href=\"#m813f028a0a\" x=\"139.773223\" y=\"66.950352\" style=\"fill: #1f77b4; stroke: #1f77b4\"/>\n     <use xlink:href=\"#m813f028a0a\" x=\"102.559222\" y=\"50.587157\" style=\"fill: #1f77b4; stroke: #1f77b4\"/>\n     <use xlink:href=\"#m813f028a0a\" x=\"176.576701\" y=\"93.32573\" style=\"fill: #1f77b4; stroke: #1f77b4\"/>\n     <use xlink:href=\"#m813f028a0a\" x=\"114.124024\" y=\"53.851677\" style=\"fill: #1f77b4; stroke: #1f77b4\"/>\n     <use xlink:href=\"#m813f028a0a\" x=\"121.140616\" y=\"59.641521\" style=\"fill: #1f77b4; stroke: #1f77b4\"/>\n     <use xlink:href=\"#m813f028a0a\" x=\"108.954484\" y=\"45.757517\" style=\"fill: #1f77b4; stroke: #1f77b4\"/>\n     <use xlink:href=\"#m813f028a0a\" x=\"141.325853\" y=\"78.826361\" style=\"fill: #1f77b4; stroke: #1f77b4\"/>\n     <use xlink:href=\"#m813f028a0a\" x=\"107.339765\" y=\"67.838014\" style=\"fill: #1f77b4; stroke: #1f77b4\"/>\n     <use xlink:href=\"#m813f028a0a\" x=\"136.278991\" y=\"85.379679\" style=\"fill: #1f77b4; stroke: #1f77b4\"/>\n     <use xlink:href=\"#m813f028a0a\" x=\"121.12422\" y=\"82.422977\" style=\"fill: #1f77b4; stroke: #1f77b4\"/>\n     <use xlink:href=\"#m813f028a0a\" x=\"134.804434\" y=\"63.585471\" style=\"fill: #1f77b4; stroke: #1f77b4\"/>\n     <use xlink:href=\"#m813f028a0a\" x=\"97.644897\" y=\"55.355297\" style=\"fill: #1f77b4; stroke: #1f77b4\"/>\n     <use xlink:href=\"#m813f028a0a\" x=\"152.627592\" y=\"98.936181\" style=\"fill: #1f77b4; stroke: #1f77b4\"/>\n     <use xlink:href=\"#m813f028a0a\" x=\"146.777591\" y=\"92.015398\" style=\"fill: #1f77b4; stroke: #1f77b4\"/>\n     <use xlink:href=\"#m813f028a0a\" x=\"119.709639\" y=\"67.398642\" style=\"fill: #1f77b4; stroke: #1f77b4\"/>\n     <use xlink:href=\"#m813f028a0a\" x=\"122.610974\" y=\"70.476798\" style=\"fill: #1f77b4; stroke: #1f77b4\"/>\n     <use xlink:href=\"#m813f028a0a\" x=\"146.359384\" y=\"87.92076\" style=\"fill: #1f77b4; stroke: #1f77b4\"/>\n     <use xlink:href=\"#m813f028a0a\" x=\"171.356149\" y=\"98.341068\" style=\"fill: #1f77b4; stroke: #1f77b4\"/>\n     <use xlink:href=\"#m813f028a0a\" x=\"166.705833\" y=\"103.54015\" style=\"fill: #1f77b4; stroke: #1f77b4\"/>\n     <use xlink:href=\"#m813f028a0a\" x=\"93.791518\" y=\"64.266324\" style=\"fill: #1f77b4; stroke: #1f77b4\"/>\n     <use xlink:href=\"#m813f028a0a\" x=\"132.808867\" y=\"72.836838\" style=\"fill: #1f77b4; stroke: #1f77b4\"/>\n     <use xlink:href=\"#m813f028a0a\" x=\"138.27807\" y=\"85.517522\" style=\"fill: #1f77b4; stroke: #1f77b4\"/>\n     <use xlink:href=\"#m813f028a0a\" x=\"124.183158\" y=\"81.166739\" style=\"fill: #1f77b4; stroke: #1f77b4\"/>\n     <use xlink:href=\"#m813f028a0a\" x=\"132.60079\" y=\"82.616474\" style=\"fill: #1f77b4; stroke: #1f77b4\"/>\n     <use xlink:href=\"#m813f028a0a\" x=\"103.144052\" y=\"46.982812\" style=\"fill: #1f77b4; stroke: #1f77b4\"/>\n     <use xlink:href=\"#m813f028a0a\" x=\"118.37698\" y=\"71.23341\" style=\"fill: #1f77b4; stroke: #1f77b4\"/>\n     <use xlink:href=\"#m813f028a0a\" x=\"133.224615\" y=\"92.091072\" style=\"fill: #1f77b4; stroke: #1f77b4\"/>\n     <use xlink:href=\"#m813f028a0a\" x=\"93.110285\" y=\"47.50862\" style=\"fill: #1f77b4; stroke: #1f77b4\"/>\n     <use xlink:href=\"#m813f028a0a\" x=\"125.699676\" y=\"82.201425\" style=\"fill: #1f77b4; stroke: #1f77b4\"/>\n     <use xlink:href=\"#m813f028a0a\" x=\"158.228974\" y=\"76.649964\" style=\"fill: #1f77b4; stroke: #1f77b4\"/>\n     <use xlink:href=\"#m813f028a0a\" x=\"112.651587\" y=\"46.800937\" style=\"fill: #1f77b4; stroke: #1f77b4\"/>\n     <use xlink:href=\"#m813f028a0a\" x=\"147.476556\" y=\"89.823\" style=\"fill: #1f77b4; stroke: #1f77b4\"/>\n     <use xlink:href=\"#m813f028a0a\" x=\"114.542824\" y=\"83.034974\" style=\"fill: #1f77b4; stroke: #1f77b4\"/>\n     <use xlink:href=\"#m813f028a0a\" x=\"158.867491\" y=\"101.784004\" style=\"fill: #1f77b4; stroke: #1f77b4\"/>\n     <use xlink:href=\"#m813f028a0a\" x=\"88.94568\" y=\"84.718276\" style=\"fill: #1f77b4; stroke: #1f77b4\"/>\n     <use xlink:href=\"#m813f028a0a\" x=\"57.476986\" y=\"41.36614\" style=\"fill: #1f77b4; stroke: #1f77b4\"/>\n     <use xlink:href=\"#m813f028a0a\" x=\"119.27753\" y=\"67.313535\" style=\"fill: #1f77b4; stroke: #1f77b4\"/>\n     <use xlink:href=\"#m813f028a0a\" x=\"140.819085\" y=\"86.622086\" style=\"fill: #1f77b4; stroke: #1f77b4\"/>\n     <use xlink:href=\"#m813f028a0a\" x=\"97.1423\" y=\"56.347967\" style=\"fill: #1f77b4; stroke: #1f77b4\"/>\n     <use xlink:href=\"#m813f028a0a\" x=\"94.020677\" y=\"55.012926\" style=\"fill: #1f77b4; stroke: #1f77b4\"/>\n     <use xlink:href=\"#m813f028a0a\" x=\"91.160662\" y=\"57.249094\" style=\"fill: #1f77b4; stroke: #1f77b4\"/>\n     <use xlink:href=\"#m813f028a0a\" x=\"98.236032\" y=\"63.364785\" style=\"fill: #1f77b4; stroke: #1f77b4\"/>\n     <use xlink:href=\"#m813f028a0a\" x=\"112.41515\" y=\"63.573596\" style=\"fill: #1f77b4; stroke: #1f77b4\"/>\n     <use xlink:href=\"#m813f028a0a\" x=\"155.054766\" y=\"108.682096\" style=\"fill: #1f77b4; stroke: #1f77b4\"/>\n     <use xlink:href=\"#m813f028a0a\" x=\"152.177703\" y=\"93.269521\" style=\"fill: #1f77b4; stroke: #1f77b4\"/>\n     <use xlink:href=\"#m813f028a0a\" x=\"131.200654\" y=\"68.438178\" style=\"fill: #1f77b4; stroke: #1f77b4\"/>\n     <use xlink:href=\"#m813f028a0a\" x=\"135.429452\" y=\"89.54373\" style=\"fill: #1f77b4; stroke: #1f77b4\"/>\n     <use xlink:href=\"#m813f028a0a\" x=\"135.748253\" y=\"86.605228\" style=\"fill: #1f77b4; stroke: #1f77b4\"/>\n     <use xlink:href=\"#m813f028a0a\" x=\"124.801946\" y=\"71.858556\" style=\"fill: #1f77b4; stroke: #1f77b4\"/>\n     <use xlink:href=\"#m813f028a0a\" x=\"119.557739\" y=\"59.466356\" style=\"fill: #1f77b4; stroke: #1f77b4\"/>\n     <use xlink:href=\"#m813f028a0a\" x=\"164.003196\" y=\"84.745688\" style=\"fill: #1f77b4; stroke: #1f77b4\"/>\n     <use xlink:href=\"#m813f028a0a\" x=\"166.722022\" y=\"87.145803\" style=\"fill: #1f77b4; stroke: #1f77b4\"/>\n     <use xlink:href=\"#m813f028a0a\" x=\"102.026045\" y=\"62.919447\" style=\"fill: #1f77b4; stroke: #1f77b4\"/>\n     <use xlink:href=\"#m813f028a0a\" x=\"134.416534\" y=\"73.494435\" style=\"fill: #1f77b4; stroke: #1f77b4\"/>\n     <use xlink:href=\"#m813f028a0a\" x=\"110.3089\" y=\"71.179631\" style=\"fill: #1f77b4; stroke: #1f77b4\"/>\n     <use xlink:href=\"#m813f028a0a\" x=\"97.825385\" y=\"67.00005\" style=\"fill: #1f77b4; stroke: #1f77b4\"/>\n     <use xlink:href=\"#m813f028a0a\" x=\"127.763477\" y=\"76.419126\" style=\"fill: #1f77b4; stroke: #1f77b4\"/>\n     <use xlink:href=\"#m813f028a0a\" x=\"131.632522\" y=\"106.935799\" style=\"fill: #1f77b4; stroke: #1f77b4\"/>\n     <use xlink:href=\"#m813f028a0a\" x=\"69.578341\" y=\"60.432349\" style=\"fill: #1f77b4; stroke: #1f77b4\"/>\n     <use xlink:href=\"#m813f028a0a\" x=\"100.980236\" y=\"50.603496\" style=\"fill: #1f77b4; stroke: #1f77b4\"/>\n     <use xlink:href=\"#m813f028a0a\" x=\"146.861182\" y=\"87.39255\" style=\"fill: #1f77b4; stroke: #1f77b4\"/>\n     <use xlink:href=\"#m813f028a0a\" x=\"118.174443\" y=\"82.886395\" style=\"fill: #1f77b4; stroke: #1f77b4\"/>\n     <use xlink:href=\"#m813f028a0a\" x=\"144.247333\" y=\"105.484027\" style=\"fill: #1f77b4; stroke: #1f77b4\"/>\n     <use xlink:href=\"#m813f028a0a\" x=\"96.7521\" y=\"51.80712\" style=\"fill: #1f77b4; stroke: #1f77b4\"/>\n     <use xlink:href=\"#m813f028a0a\" x=\"105.299721\" y=\"57.618081\" style=\"fill: #1f77b4; stroke: #1f77b4\"/>\n     <use xlink:href=\"#m813f028a0a\" x=\"133.525656\" y=\"96.281423\" style=\"fill: #1f77b4; stroke: #1f77b4\"/>\n     <use xlink:href=\"#m813f028a0a\" x=\"119.681868\" y=\"71.336652\" style=\"fill: #1f77b4; stroke: #1f77b4\"/>\n     <use xlink:href=\"#m813f028a0a\" x=\"65.840045\" y=\"51.41473\" style=\"fill: #1f77b4; stroke: #1f77b4\"/>\n     <use xlink:href=\"#m813f028a0a\" x=\"64.138666\" y=\"53.159236\" style=\"fill: #1f77b4; stroke: #1f77b4\"/>\n     <use xlink:href=\"#m813f028a0a\" x=\"88.761708\" y=\"67.730113\" style=\"fill: #1f77b4; stroke: #1f77b4\"/>\n     <use xlink:href=\"#m813f028a0a\" x=\"116.976455\" y=\"74.509092\" style=\"fill: #1f77b4; stroke: #1f77b4\"/>\n     <use xlink:href=\"#m813f028a0a\" x=\"129.170781\" y=\"81.656444\" style=\"fill: #1f77b4; stroke: #1f77b4\"/>\n     <use xlink:href=\"#m813f028a0a\" x=\"132.183758\" y=\"83.78976\" style=\"fill: #1f77b4; stroke: #1f77b4\"/>\n     <use xlink:href=\"#m813f028a0a\" x=\"145.018851\" y=\"99.619813\" style=\"fill: #1f77b4; stroke: #1f77b4\"/>\n     <use xlink:href=\"#m813f028a0a\" x=\"109.846969\" y=\"75.745499\" style=\"fill: #1f77b4; stroke: #1f77b4\"/>\n     <use xlink:href=\"#m813f028a0a\" x=\"185.168873\" y=\"115.409324\" style=\"fill: #1f77b4; stroke: #1f77b4\"/>\n     <use xlink:href=\"#m813f028a0a\" x=\"144.527022\" y=\"70.649361\" style=\"fill: #1f77b4; stroke: #1f77b4\"/>\n     <use xlink:href=\"#m813f028a0a\" x=\"130.213659\" y=\"70.283089\" style=\"fill: #1f77b4; stroke: #1f77b4\"/>\n     <use xlink:href=\"#m813f028a0a\" x=\"97.685149\" y=\"70.800723\" style=\"fill: #1f77b4; stroke: #1f77b4\"/>\n     <use xlink:href=\"#m813f028a0a\" x=\"156.010931\" y=\"103.309454\" style=\"fill: #1f77b4; stroke: #1f77b4\"/>\n     <use xlink:href=\"#m813f028a0a\" x=\"160.984093\" y=\"99.736184\" style=\"fill: #1f77b4; stroke: #1f77b4\"/>\n     <use xlink:href=\"#m813f028a0a\" x=\"96.029736\" y=\"48.584993\" style=\"fill: #1f77b4; stroke: #1f77b4\"/>\n     <use xlink:href=\"#m813f028a0a\" x=\"70.210019\" y=\"46.029815\" style=\"fill: #1f77b4; stroke: #1f77b4\"/>\n     <use xlink:href=\"#m813f028a0a\" x=\"133.583288\" y=\"81.558036\" style=\"fill: #1f77b4; stroke: #1f77b4\"/>\n     <use xlink:href=\"#m813f028a0a\" x=\"88.861719\" y=\"38.288517\" style=\"fill: #1f77b4; stroke: #1f77b4\"/>\n     <use xlink:href=\"#m813f028a0a\" x=\"84.656829\" y=\"53.872411\" style=\"fill: #1f77b4; stroke: #1f77b4\"/>\n     <use xlink:href=\"#m813f028a0a\" x=\"99.166031\" y=\"56.044132\" style=\"fill: #1f77b4; stroke: #1f77b4\"/>\n     <use xlink:href=\"#m813f028a0a\" x=\"145.340402\" y=\"91.941053\" style=\"fill: #1f77b4; stroke: #1f77b4\"/>\n     <use xlink:href=\"#m813f028a0a\" x=\"108.52995\" y=\"67.490564\" style=\"fill: #1f77b4; stroke: #1f77b4\"/>\n     <use xlink:href=\"#m813f028a0a\" x=\"109.121799\" y=\"63.041395\" style=\"fill: #1f77b4; stroke: #1f77b4\"/>\n     <use xlink:href=\"#m813f028a0a\" x=\"84.43867\" y=\"53.357944\" style=\"fill: #1f77b4; stroke: #1f77b4\"/>\n     <use xlink:href=\"#m813f028a0a\" x=\"128.45605\" y=\"74.224045\" style=\"fill: #1f77b4; stroke: #1f77b4\"/>\n     <use xlink:href=\"#m813f028a0a\" x=\"91.011411\" y=\"60.871401\" style=\"fill: #1f77b4; stroke: #1f77b4\"/>\n     <use xlink:href=\"#m813f028a0a\" x=\"146.807871\" y=\"98.039504\" style=\"fill: #1f77b4; stroke: #1f77b4\"/>\n     <use xlink:href=\"#m813f028a0a\" x=\"148.315318\" y=\"90.991479\" style=\"fill: #1f77b4; stroke: #1f77b4\"/>\n     <use xlink:href=\"#m813f028a0a\" x=\"92.826423\" y=\"49.934829\" style=\"fill: #1f77b4; stroke: #1f77b4\"/>\n     <use xlink:href=\"#m813f028a0a\" x=\"148.787233\" y=\"90.039052\" style=\"fill: #1f77b4; stroke: #1f77b4\"/>\n     <use xlink:href=\"#m813f028a0a\" x=\"88.874567\" y=\"62.731488\" style=\"fill: #1f77b4; stroke: #1f77b4\"/>\n     <use xlink:href=\"#m813f028a0a\" x=\"141.641113\" y=\"93.042816\" style=\"fill: #1f77b4; stroke: #1f77b4\"/>\n     <use xlink:href=\"#m813f028a0a\" x=\"165.426674\" y=\"101.979965\" style=\"fill: #1f77b4; stroke: #1f77b4\"/>\n     <use xlink:href=\"#m813f028a0a\" x=\"126.354172\" y=\"77.178811\" style=\"fill: #1f77b4; stroke: #1f77b4\"/>\n     <use xlink:href=\"#m813f028a0a\" x=\"114.918248\" y=\"78.52642\" style=\"fill: #1f77b4; stroke: #1f77b4\"/>\n     <use xlink:href=\"#m813f028a0a\" x=\"146.442859\" y=\"86.403361\" style=\"fill: #1f77b4; stroke: #1f77b4\"/>\n     <use xlink:href=\"#m813f028a0a\" x=\"120.116581\" y=\"77.811279\" style=\"fill: #1f77b4; stroke: #1f77b4\"/>\n     <use xlink:href=\"#m813f028a0a\" x=\"159.537467\" y=\"82.112626\" style=\"fill: #1f77b4; stroke: #1f77b4\"/>\n     <use xlink:href=\"#m813f028a0a\" x=\"62.756812\" y=\"49.490301\" style=\"fill: #1f77b4; stroke: #1f77b4\"/>\n     <use xlink:href=\"#m813f028a0a\" x=\"101.650485\" y=\"65.678335\" style=\"fill: #1f77b4; stroke: #1f77b4\"/>\n     <use xlink:href=\"#m813f028a0a\" x=\"150.911365\" y=\"87.358805\" style=\"fill: #1f77b4; stroke: #1f77b4\"/>\n     <use xlink:href=\"#m813f028a0a\" x=\"95.476141\" y=\"63.894101\" style=\"fill: #1f77b4; stroke: #1f77b4\"/>\n     <use xlink:href=\"#m813f028a0a\" x=\"152.417303\" y=\"77.660644\" style=\"fill: #1f77b4; stroke: #1f77b4\"/>\n     <use xlink:href=\"#m813f028a0a\" x=\"78.551859\" y=\"43.272754\" style=\"fill: #1f77b4; stroke: #1f77b4\"/>\n     <use xlink:href=\"#m813f028a0a\" x=\"132.596638\" y=\"83.263364\" style=\"fill: #1f77b4; stroke: #1f77b4\"/>\n     <use xlink:href=\"#m813f028a0a\" x=\"127.040507\" y=\"67.524586\" style=\"fill: #1f77b4; stroke: #1f77b4\"/>\n     <use xlink:href=\"#m813f028a0a\" x=\"119.882321\" y=\"72.584475\" style=\"fill: #1f77b4; stroke: #1f77b4\"/>\n     <use xlink:href=\"#m813f028a0a\" x=\"106.324785\" y=\"70.529635\" style=\"fill: #1f77b4; stroke: #1f77b4\"/>\n     <use xlink:href=\"#m813f028a0a\" x=\"115.677393\" y=\"61.749171\" style=\"fill: #1f77b4; stroke: #1f77b4\"/>\n     <use xlink:href=\"#m813f028a0a\" x=\"151.261562\" y=\"99.611695\" style=\"fill: #1f77b4; stroke: #1f77b4\"/>\n     <use xlink:href=\"#m813f028a0a\" x=\"77.972488\" y=\"53.721031\" style=\"fill: #1f77b4; stroke: #1f77b4\"/>\n     <use xlink:href=\"#m813f028a0a\" x=\"125.035706\" y=\"98.027031\" style=\"fill: #1f77b4; stroke: #1f77b4\"/>\n     <use xlink:href=\"#m813f028a0a\" x=\"119.035986\" y=\"69.744866\" style=\"fill: #1f77b4; stroke: #1f77b4\"/>\n     <use xlink:href=\"#m813f028a0a\" x=\"140.461798\" y=\"86.834895\" style=\"fill: #1f77b4; stroke: #1f77b4\"/>\n     <use xlink:href=\"#m813f028a0a\" x=\"120.594672\" y=\"69.69129\" style=\"fill: #1f77b4; stroke: #1f77b4\"/>\n     <use xlink:href=\"#m813f028a0a\" x=\"134.87488\" y=\"60.66189\" style=\"fill: #1f77b4; stroke: #1f77b4\"/>\n     <use xlink:href=\"#m813f028a0a\" x=\"117.515405\" y=\"77.974793\" style=\"fill: #1f77b4; stroke: #1f77b4\"/>\n     <use xlink:href=\"#m813f028a0a\" x=\"123.10391\" y=\"72.547095\" style=\"fill: #1f77b4; stroke: #1f77b4\"/>\n     <use xlink:href=\"#m813f028a0a\" x=\"102.69445\" y=\"62.618504\" style=\"fill: #1f77b4; stroke: #1f77b4\"/>\n     <use xlink:href=\"#m813f028a0a\" x=\"89.451845\" y=\"55.011637\" style=\"fill: #1f77b4; stroke: #1f77b4\"/>\n     <use xlink:href=\"#m813f028a0a\" x=\"158.168357\" y=\"85.902306\" style=\"fill: #1f77b4; stroke: #1f77b4\"/>\n     <use xlink:href=\"#m813f028a0a\" x=\"124.532183\" y=\"79.202173\" style=\"fill: #1f77b4; stroke: #1f77b4\"/>\n     <use xlink:href=\"#m813f028a0a\" x=\"144.416071\" y=\"82.654449\" style=\"fill: #1f77b4; stroke: #1f77b4\"/>\n     <use xlink:href=\"#m813f028a0a\" x=\"140.341365\" y=\"85.160274\" style=\"fill: #1f77b4; stroke: #1f77b4\"/>\n     <use xlink:href=\"#m813f028a0a\" x=\"92.995355\" y=\"54.073934\" style=\"fill: #1f77b4; stroke: #1f77b4\"/>\n     <use xlink:href=\"#m813f028a0a\" x=\"82.260688\" y=\"54.869943\" style=\"fill: #1f77b4; stroke: #1f77b4\"/>\n     <use xlink:href=\"#m813f028a0a\" x=\"105.761568\" y=\"60.645183\" style=\"fill: #1f77b4; stroke: #1f77b4\"/>\n     <use xlink:href=\"#m813f028a0a\" x=\"125.820322\" y=\"91.758915\" style=\"fill: #1f77b4; stroke: #1f77b4\"/>\n     <use xlink:href=\"#m813f028a0a\" x=\"141.810366\" y=\"75.71359\" style=\"fill: #1f77b4; stroke: #1f77b4\"/>\n     <use xlink:href=\"#m813f028a0a\" x=\"160.079994\" y=\"89.727008\" style=\"fill: #1f77b4; stroke: #1f77b4\"/>\n     <use xlink:href=\"#m813f028a0a\" x=\"121.77383\" y=\"67.634922\" style=\"fill: #1f77b4; stroke: #1f77b4\"/>\n     <use xlink:href=\"#m813f028a0a\" x=\"109.934296\" y=\"75.080441\" style=\"fill: #1f77b4; stroke: #1f77b4\"/>\n     <use xlink:href=\"#m813f028a0a\" x=\"95.363507\" y=\"87.918582\" style=\"fill: #1f77b4; stroke: #1f77b4\"/>\n     <use xlink:href=\"#m813f028a0a\" x=\"140.200379\" y=\"90.414191\" style=\"fill: #1f77b4; stroke: #1f77b4\"/>\n     <use xlink:href=\"#m813f028a0a\" x=\"150.940453\" y=\"91.701216\" style=\"fill: #1f77b4; stroke: #1f77b4\"/>\n     <use xlink:href=\"#m813f028a0a\" x=\"146.395222\" y=\"84.232453\" style=\"fill: #1f77b4; stroke: #1f77b4\"/>\n     <use xlink:href=\"#m813f028a0a\" x=\"119.39999\" y=\"81.885842\" style=\"fill: #1f77b4; stroke: #1f77b4\"/>\n     <use xlink:href=\"#m813f028a0a\" x=\"116.044248\" y=\"60.779445\" style=\"fill: #1f77b4; stroke: #1f77b4\"/>\n     <use xlink:href=\"#m813f028a0a\" x=\"109.328296\" y=\"76.61124\" style=\"fill: #1f77b4; stroke: #1f77b4\"/>\n     <use xlink:href=\"#m813f028a0a\" x=\"128.913111\" y=\"85.447792\" style=\"fill: #1f77b4; stroke: #1f77b4\"/>\n     <use xlink:href=\"#m813f028a0a\" x=\"188.571025\" y=\"99.580381\" style=\"fill: #1f77b4; stroke: #1f77b4\"/>\n     <use xlink:href=\"#m813f028a0a\" x=\"140.53077\" y=\"90.359098\" style=\"fill: #1f77b4; stroke: #1f77b4\"/>\n     <use xlink:href=\"#m813f028a0a\" x=\"92.392719\" y=\"53.27521\" style=\"fill: #1f77b4; stroke: #1f77b4\"/>\n     <use xlink:href=\"#m813f028a0a\" x=\"137.489109\" y=\"92.131489\" style=\"fill: #1f77b4; stroke: #1f77b4\"/>\n     <use xlink:href=\"#m813f028a0a\" x=\"139.839652\" y=\"79.746811\" style=\"fill: #1f77b4; stroke: #1f77b4\"/>\n     <use xlink:href=\"#m813f028a0a\" x=\"111.760404\" y=\"50.083317\" style=\"fill: #1f77b4; stroke: #1f77b4\"/>\n     <use xlink:href=\"#m813f028a0a\" x=\"156.679145\" y=\"78.391664\" style=\"fill: #1f77b4; stroke: #1f77b4\"/>\n     <use xlink:href=\"#m813f028a0a\" x=\"136.850727\" y=\"88.560005\" style=\"fill: #1f77b4; stroke: #1f77b4\"/>\n     <use xlink:href=\"#m813f028a0a\" x=\"143.319165\" y=\"96.493244\" style=\"fill: #1f77b4; stroke: #1f77b4\"/>\n     <use xlink:href=\"#m813f028a0a\" x=\"102.819245\" y=\"66.473314\" style=\"fill: #1f77b4; stroke: #1f77b4\"/>\n     <use xlink:href=\"#m813f028a0a\" x=\"73.411407\" y=\"58.588097\" style=\"fill: #1f77b4; stroke: #1f77b4\"/>\n     <use xlink:href=\"#m813f028a0a\" x=\"122.099333\" y=\"92.061478\" style=\"fill: #1f77b4; stroke: #1f77b4\"/>\n     <use xlink:href=\"#m813f028a0a\" x=\"84.245378\" y=\"38.989283\" style=\"fill: #1f77b4; stroke: #1f77b4\"/>\n     <use xlink:href=\"#m813f028a0a\" x=\"66.517817\" y=\"39.936595\" style=\"fill: #1f77b4; stroke: #1f77b4\"/>\n     <use xlink:href=\"#m813f028a0a\" x=\"134.665515\" y=\"76.876267\" style=\"fill: #1f77b4; stroke: #1f77b4\"/>\n     <use xlink:href=\"#m813f028a0a\" x=\"86.619708\" y=\"49.932965\" style=\"fill: #1f77b4; stroke: #1f77b4\"/>\n     <use xlink:href=\"#m813f028a0a\" x=\"163.67003\" y=\"124.515959\" style=\"fill: #1f77b4; stroke: #1f77b4\"/>\n     <use xlink:href=\"#m813f028a0a\" x=\"56.207251\" y=\"53.527491\" style=\"fill: #1f77b4; stroke: #1f77b4\"/>\n     <use xlink:href=\"#m813f028a0a\" x=\"81.364662\" y=\"38.616829\" style=\"fill: #1f77b4; stroke: #1f77b4\"/>\n     <use xlink:href=\"#m813f028a0a\" x=\"139.028533\" y=\"98.321615\" style=\"fill: #1f77b4; stroke: #1f77b4\"/>\n     <use xlink:href=\"#m813f028a0a\" x=\"131.593629\" y=\"70.941268\" style=\"fill: #1f77b4; stroke: #1f77b4\"/>\n     <use xlink:href=\"#m813f028a0a\" x=\"167.218199\" y=\"104.683681\" style=\"fill: #1f77b4; stroke: #1f77b4\"/>\n     <use xlink:href=\"#m813f028a0a\" x=\"126.842768\" y=\"65.262175\" style=\"fill: #1f77b4; stroke: #1f77b4\"/>\n     <use xlink:href=\"#m813f028a0a\" x=\"129.042257\" y=\"76.831108\" style=\"fill: #1f77b4; stroke: #1f77b4\"/>\n     <use xlink:href=\"#m813f028a0a\" x=\"159.609149\" y=\"99.158238\" style=\"fill: #1f77b4; stroke: #1f77b4\"/>\n     <use xlink:href=\"#m813f028a0a\" x=\"115.077844\" y=\"51.853241\" style=\"fill: #1f77b4; stroke: #1f77b4\"/>\n     <use xlink:href=\"#m813f028a0a\" x=\"142.76895\" y=\"70.813772\" style=\"fill: #1f77b4; stroke: #1f77b4\"/>\n     <use xlink:href=\"#m813f028a0a\" x=\"149.953198\" y=\"86.596313\" style=\"fill: #1f77b4; stroke: #1f77b4\"/>\n     <use xlink:href=\"#m813f028a0a\" x=\"129.200764\" y=\"76.59232\" style=\"fill: #1f77b4; stroke: #1f77b4\"/>\n     <use xlink:href=\"#m813f028a0a\" x=\"134.689114\" y=\"78.209417\" style=\"fill: #1f77b4; stroke: #1f77b4\"/>\n     <use xlink:href=\"#m813f028a0a\" x=\"148.250558\" y=\"79.050622\" style=\"fill: #1f77b4; stroke: #1f77b4\"/>\n     <use xlink:href=\"#m813f028a0a\" x=\"121.262763\" y=\"67.90068\" style=\"fill: #1f77b4; stroke: #1f77b4\"/>\n     <use xlink:href=\"#m813f028a0a\" x=\"127.191694\" y=\"71.556238\" style=\"fill: #1f77b4; stroke: #1f77b4\"/>\n     <use xlink:href=\"#m813f028a0a\" x=\"111.436193\" y=\"73.172086\" style=\"fill: #1f77b4; stroke: #1f77b4\"/>\n     <use xlink:href=\"#m813f028a0a\" x=\"166.174586\" y=\"95.427079\" style=\"fill: #1f77b4; stroke: #1f77b4\"/>\n     <use xlink:href=\"#m813f028a0a\" x=\"123.806186\" y=\"66.447572\" style=\"fill: #1f77b4; stroke: #1f77b4\"/>\n     <use xlink:href=\"#m813f028a0a\" x=\"74.398046\" y=\"45.315703\" style=\"fill: #1f77b4; stroke: #1f77b4\"/>\n     <use xlink:href=\"#m813f028a0a\" x=\"118.365874\" y=\"81.260592\" style=\"fill: #1f77b4; stroke: #1f77b4\"/>\n     <use xlink:href=\"#m813f028a0a\" x=\"108.819069\" y=\"72.359428\" style=\"fill: #1f77b4; stroke: #1f77b4\"/>\n     <use xlink:href=\"#m813f028a0a\" x=\"129.456403\" y=\"73.066422\" style=\"fill: #1f77b4; stroke: #1f77b4\"/>\n     <use xlink:href=\"#m813f028a0a\" x=\"154.25792\" y=\"102.343198\" style=\"fill: #1f77b4; stroke: #1f77b4\"/>\n     <use xlink:href=\"#m813f028a0a\" x=\"143.812437\" y=\"97.167304\" style=\"fill: #1f77b4; stroke: #1f77b4\"/>\n     <use xlink:href=\"#m813f028a0a\" x=\"133.663306\" y=\"67.876561\" style=\"fill: #1f77b4; stroke: #1f77b4\"/>\n     <use xlink:href=\"#m813f028a0a\" x=\"116.93736\" y=\"57.738053\" style=\"fill: #1f77b4; stroke: #1f77b4\"/>\n     <use xlink:href=\"#m813f028a0a\" x=\"120.08243\" y=\"55.23474\" style=\"fill: #1f77b4; stroke: #1f77b4\"/>\n     <use xlink:href=\"#m813f028a0a\" x=\"178.051587\" y=\"113.195771\" style=\"fill: #1f77b4; stroke: #1f77b4\"/>\n     <use xlink:href=\"#m813f028a0a\" x=\"149.942328\" y=\"96.391721\" style=\"fill: #1f77b4; stroke: #1f77b4\"/>\n     <use xlink:href=\"#m813f028a0a\" x=\"152.180999\" y=\"100.513685\" style=\"fill: #1f77b4; stroke: #1f77b4\"/>\n     <use xlink:href=\"#m813f028a0a\" x=\"124.923534\" y=\"86.854595\" style=\"fill: #1f77b4; stroke: #1f77b4\"/>\n     <use xlink:href=\"#m813f028a0a\" x=\"130.741527\" y=\"56.899198\" style=\"fill: #1f77b4; stroke: #1f77b4\"/>\n     <use xlink:href=\"#m813f028a0a\" x=\"143.309292\" y=\"78.225665\" style=\"fill: #1f77b4; stroke: #1f77b4\"/>\n     <use xlink:href=\"#m813f028a0a\" x=\"109.811351\" y=\"72.291028\" style=\"fill: #1f77b4; stroke: #1f77b4\"/>\n     <use xlink:href=\"#m813f028a0a\" x=\"120.258537\" y=\"90.302575\" style=\"fill: #1f77b4; stroke: #1f77b4\"/>\n     <use xlink:href=\"#m813f028a0a\" x=\"110.178612\" y=\"64.234651\" style=\"fill: #1f77b4; stroke: #1f77b4\"/>\n     <use xlink:href=\"#m813f028a0a\" x=\"130.582933\" y=\"75.315119\" style=\"fill: #1f77b4; stroke: #1f77b4\"/>\n     <use xlink:href=\"#m813f028a0a\" x=\"136.026672\" y=\"66.08572\" style=\"fill: #1f77b4; stroke: #1f77b4\"/>\n     <use xlink:href=\"#m813f028a0a\" x=\"120.435663\" y=\"73.798692\" style=\"fill: #1f77b4; stroke: #1f77b4\"/>\n     <use xlink:href=\"#m813f028a0a\" x=\"141.20038\" y=\"60.871454\" style=\"fill: #1f77b4; stroke: #1f77b4\"/>\n     <use xlink:href=\"#m813f028a0a\" x=\"158.916471\" y=\"102.220738\" style=\"fill: #1f77b4; stroke: #1f77b4\"/>\n     <use xlink:href=\"#m813f028a0a\" x=\"148.266714\" y=\"87.011668\" style=\"fill: #1f77b4; stroke: #1f77b4\"/>\n     <use xlink:href=\"#m813f028a0a\" x=\"122.392362\" y=\"82.775932\" style=\"fill: #1f77b4; stroke: #1f77b4\"/>\n     <use xlink:href=\"#m813f028a0a\" x=\"121.658336\" y=\"83.383781\" style=\"fill: #1f77b4; stroke: #1f77b4\"/>\n     <use xlink:href=\"#m813f028a0a\" x=\"111.634314\" y=\"72.388018\" style=\"fill: #1f77b4; stroke: #1f77b4\"/>\n     <use xlink:href=\"#m813f028a0a\" x=\"118.092619\" y=\"86.178769\" style=\"fill: #1f77b4; stroke: #1f77b4\"/>\n     <use xlink:href=\"#m813f028a0a\" x=\"98.322966\" y=\"60.070039\" style=\"fill: #1f77b4; stroke: #1f77b4\"/>\n     <use xlink:href=\"#m813f028a0a\" x=\"118.26912\" y=\"69.044328\" style=\"fill: #1f77b4; stroke: #1f77b4\"/>\n     <use xlink:href=\"#m813f028a0a\" x=\"87.599878\" y=\"56.694788\" style=\"fill: #1f77b4; stroke: #1f77b4\"/>\n     <use xlink:href=\"#m813f028a0a\" x=\"103.992386\" y=\"51.875232\" style=\"fill: #1f77b4; stroke: #1f77b4\"/>\n     <use xlink:href=\"#m813f028a0a\" x=\"194.516148\" y=\"105.264275\" style=\"fill: #1f77b4; stroke: #1f77b4\"/>\n     <use xlink:href=\"#m813f028a0a\" x=\"140.495753\" y=\"91.198227\" style=\"fill: #1f77b4; stroke: #1f77b4\"/>\n     <use xlink:href=\"#m813f028a0a\" x=\"133.531572\" y=\"81.330877\" style=\"fill: #1f77b4; stroke: #1f77b4\"/>\n     <use xlink:href=\"#m813f028a0a\" x=\"151.409881\" y=\"109.887735\" style=\"fill: #1f77b4; stroke: #1f77b4\"/>\n     <use xlink:href=\"#m813f028a0a\" x=\"101.020045\" y=\"54.659228\" style=\"fill: #1f77b4; stroke: #1f77b4\"/>\n     <use xlink:href=\"#m813f028a0a\" x=\"74.429883\" y=\"50.920029\" style=\"fill: #1f77b4; stroke: #1f77b4\"/>\n     <use xlink:href=\"#m813f028a0a\" x=\"221.727415\" y=\"110.927917\" style=\"fill: #1f77b4; stroke: #1f77b4\"/>\n     <use xlink:href=\"#m813f028a0a\" x=\"162.515019\" y=\"108.156702\" style=\"fill: #1f77b4; stroke: #1f77b4\"/>\n     <use xlink:href=\"#m813f028a0a\" x=\"85.214294\" y=\"70.937793\" style=\"fill: #1f77b4; stroke: #1f77b4\"/>\n     <use xlink:href=\"#m813f028a0a\" x=\"90.499823\" y=\"77.500719\" style=\"fill: #1f77b4; stroke: #1f77b4\"/>\n     <use xlink:href=\"#m813f028a0a\" x=\"136.839394\" y=\"82.813448\" style=\"fill: #1f77b4; stroke: #1f77b4\"/>\n     <use xlink:href=\"#m813f028a0a\" x=\"97.188907\" y=\"50.095229\" style=\"fill: #1f77b4; stroke: #1f77b4\"/>\n     <use xlink:href=\"#m813f028a0a\" x=\"135.597089\" y=\"99.686365\" style=\"fill: #1f77b4; stroke: #1f77b4\"/>\n     <use xlink:href=\"#m813f028a0a\" x=\"141.555502\" y=\"79.385953\" style=\"fill: #1f77b4; stroke: #1f77b4\"/>\n     <use xlink:href=\"#m813f028a0a\" x=\"126.923013\" y=\"64.630362\" style=\"fill: #1f77b4; stroke: #1f77b4\"/>\n     <use xlink:href=\"#m813f028a0a\" x=\"170.035286\" y=\"93.574408\" style=\"fill: #1f77b4; stroke: #1f77b4\"/>\n     <use xlink:href=\"#m813f028a0a\" x=\"154.306952\" y=\"96.904528\" style=\"fill: #1f77b4; stroke: #1f77b4\"/>\n     <use xlink:href=\"#m813f028a0a\" x=\"125.267974\" y=\"76.178236\" style=\"fill: #1f77b4; stroke: #1f77b4\"/>\n     <use xlink:href=\"#m813f028a0a\" x=\"133.063916\" y=\"85.840267\" style=\"fill: #1f77b4; stroke: #1f77b4\"/>\n     <use xlink:href=\"#m813f028a0a\" x=\"154.567948\" y=\"89.335316\" style=\"fill: #1f77b4; stroke: #1f77b4\"/>\n     <use xlink:href=\"#m813f028a0a\" x=\"147.900104\" y=\"92.128927\" style=\"fill: #1f77b4; stroke: #1f77b4\"/>\n     <use xlink:href=\"#m813f028a0a\" x=\"132.014863\" y=\"75.222816\" style=\"fill: #1f77b4; stroke: #1f77b4\"/>\n     <use xlink:href=\"#m813f028a0a\" x=\"128.617683\" y=\"82.690038\" style=\"fill: #1f77b4; stroke: #1f77b4\"/>\n     <use xlink:href=\"#m813f028a0a\" x=\"128.341688\" y=\"80.677778\" style=\"fill: #1f77b4; stroke: #1f77b4\"/>\n     <use xlink:href=\"#m813f028a0a\" x=\"64.27901\" y=\"42.51529\" style=\"fill: #1f77b4; stroke: #1f77b4\"/>\n     <use xlink:href=\"#m813f028a0a\" x=\"103.7619\" y=\"72.378194\" style=\"fill: #1f77b4; stroke: #1f77b4\"/>\n     <use xlink:href=\"#m813f028a0a\" x=\"158.186932\" y=\"92.641758\" style=\"fill: #1f77b4; stroke: #1f77b4\"/>\n     <use xlink:href=\"#m813f028a0a\" x=\"117.329928\" y=\"83.286964\" style=\"fill: #1f77b4; stroke: #1f77b4\"/>\n     <use xlink:href=\"#m813f028a0a\" x=\"120.711007\" y=\"72.806682\" style=\"fill: #1f77b4; stroke: #1f77b4\"/>\n     <use xlink:href=\"#m813f028a0a\" x=\"136.136209\" y=\"83.073625\" style=\"fill: #1f77b4; stroke: #1f77b4\"/>\n     <use xlink:href=\"#m813f028a0a\" x=\"123.422012\" y=\"70.332945\" style=\"fill: #1f77b4; stroke: #1f77b4\"/>\n     <use xlink:href=\"#m813f028a0a\" x=\"157.677828\" y=\"104.981642\" style=\"fill: #1f77b4; stroke: #1f77b4\"/>\n     <use xlink:href=\"#m813f028a0a\" x=\"118.630217\" y=\"66.63946\" style=\"fill: #1f77b4; stroke: #1f77b4\"/>\n     <use xlink:href=\"#m813f028a0a\" x=\"179.783458\" y=\"107.56842\" style=\"fill: #1f77b4; stroke: #1f77b4\"/>\n     <use xlink:href=\"#m813f028a0a\" x=\"127.130144\" y=\"85.854976\" style=\"fill: #1f77b4; stroke: #1f77b4\"/>\n     <use xlink:href=\"#m813f028a0a\" x=\"111.098454\" y=\"62.112508\" style=\"fill: #1f77b4; stroke: #1f77b4\"/>\n     <use xlink:href=\"#m813f028a0a\" x=\"97.865739\" y=\"68.287568\" style=\"fill: #1f77b4; stroke: #1f77b4\"/>\n     <use xlink:href=\"#m813f028a0a\" x=\"142.132422\" y=\"76.837687\" style=\"fill: #1f77b4; stroke: #1f77b4\"/>\n     <use xlink:href=\"#m813f028a0a\" x=\"64.357757\" y=\"37.24406\" style=\"fill: #1f77b4; stroke: #1f77b4\"/>\n     <use xlink:href=\"#m813f028a0a\" x=\"164.871809\" y=\"90.777988\" style=\"fill: #1f77b4; stroke: #1f77b4\"/>\n     <use xlink:href=\"#m813f028a0a\" x=\"142.928597\" y=\"83.409328\" style=\"fill: #1f77b4; stroke: #1f77b4\"/>\n     <use xlink:href=\"#m813f028a0a\" x=\"162.066988\" y=\"104.561035\" style=\"fill: #1f77b4; stroke: #1f77b4\"/>\n     <use xlink:href=\"#m813f028a0a\" x=\"143.56837\" y=\"91.181172\" style=\"fill: #1f77b4; stroke: #1f77b4\"/>\n     <use xlink:href=\"#m813f028a0a\" x=\"150.411416\" y=\"81.951661\" style=\"fill: #1f77b4; stroke: #1f77b4\"/>\n     <use xlink:href=\"#m813f028a0a\" x=\"94.385124\" y=\"53.36965\" style=\"fill: #1f77b4; stroke: #1f77b4\"/>\n     <use xlink:href=\"#m813f028a0a\" x=\"139.629544\" y=\"85.623575\" style=\"fill: #1f77b4; stroke: #1f77b4\"/>\n     <use xlink:href=\"#m813f028a0a\" x=\"108.819785\" y=\"56.443042\" style=\"fill: #1f77b4; stroke: #1f77b4\"/>\n     <use xlink:href=\"#m813f028a0a\" x=\"148.772438\" y=\"91.700358\" style=\"fill: #1f77b4; stroke: #1f77b4\"/>\n     <use xlink:href=\"#m813f028a0a\" x=\"123.782273\" y=\"60.090538\" style=\"fill: #1f77b4; stroke: #1f77b4\"/>\n     <use xlink:href=\"#m813f028a0a\" x=\"151.093948\" y=\"71.64634\" style=\"fill: #1f77b4; stroke: #1f77b4\"/>\n     <use xlink:href=\"#m813f028a0a\" x=\"162.001712\" y=\"102.27398\" style=\"fill: #1f77b4; stroke: #1f77b4\"/>\n     <use xlink:href=\"#m813f028a0a\" x=\"111.698745\" y=\"66.424801\" style=\"fill: #1f77b4; stroke: #1f77b4\"/>\n     <use xlink:href=\"#m813f028a0a\" x=\"154.390129\" y=\"110.633259\" style=\"fill: #1f77b4; stroke: #1f77b4\"/>\n     <use xlink:href=\"#m813f028a0a\" x=\"73.601785\" y=\"36.355589\" style=\"fill: #1f77b4; stroke: #1f77b4\"/>\n     <use xlink:href=\"#m813f028a0a\" x=\"131.91414\" y=\"61.725852\" style=\"fill: #1f77b4; stroke: #1f77b4\"/>\n     <use xlink:href=\"#m813f028a0a\" x=\"125.735644\" y=\"54.538429\" style=\"fill: #1f77b4; stroke: #1f77b4\"/>\n     <use xlink:href=\"#m813f028a0a\" x=\"125.842093\" y=\"72.63838\" style=\"fill: #1f77b4; stroke: #1f77b4\"/>\n     <use xlink:href=\"#m813f028a0a\" x=\"124.689653\" y=\"82.246785\" style=\"fill: #1f77b4; stroke: #1f77b4\"/>\n     <use xlink:href=\"#m813f028a0a\" x=\"109.728566\" y=\"67.876593\" style=\"fill: #1f77b4; stroke: #1f77b4\"/>\n     <use xlink:href=\"#m813f028a0a\" x=\"99.519508\" y=\"81.354921\" style=\"fill: #1f77b4; stroke: #1f77b4\"/>\n     <use xlink:href=\"#m813f028a0a\" x=\"86.562235\" y=\"59.134549\" style=\"fill: #1f77b4; stroke: #1f77b4\"/>\n     <use xlink:href=\"#m813f028a0a\" x=\"152.987949\" y=\"105.894434\" style=\"fill: #1f77b4; stroke: #1f77b4\"/>\n     <use xlink:href=\"#m813f028a0a\" x=\"130.912883\" y=\"66.105573\" style=\"fill: #1f77b4; stroke: #1f77b4\"/>\n     <use xlink:href=\"#m813f028a0a\" x=\"141.031081\" y=\"93.561938\" style=\"fill: #1f77b4; stroke: #1f77b4\"/>\n     <use xlink:href=\"#m813f028a0a\" x=\"126.585634\" y=\"84.975256\" style=\"fill: #1f77b4; stroke: #1f77b4\"/>\n     <use xlink:href=\"#m813f028a0a\" x=\"129.203972\" y=\"67.810087\" style=\"fill: #1f77b4; stroke: #1f77b4\"/>\n     <use xlink:href=\"#m813f028a0a\" x=\"122.37758\" y=\"80.231217\" style=\"fill: #1f77b4; stroke: #1f77b4\"/>\n     <use xlink:href=\"#m813f028a0a\" x=\"115.770139\" y=\"79.317163\" style=\"fill: #1f77b4; stroke: #1f77b4\"/>\n     <use xlink:href=\"#m813f028a0a\" x=\"108.731136\" y=\"69.617016\" style=\"fill: #1f77b4; stroke: #1f77b4\"/>\n     <use xlink:href=\"#m813f028a0a\" x=\"151.195495\" y=\"91.315795\" style=\"fill: #1f77b4; stroke: #1f77b4\"/>\n     <use xlink:href=\"#m813f028a0a\" x=\"116.852142\" y=\"86.408692\" style=\"fill: #1f77b4; stroke: #1f77b4\"/>\n     <use xlink:href=\"#m813f028a0a\" x=\"44.18196\" y=\"27.049211\" style=\"fill: #1f77b4; stroke: #1f77b4\"/>\n     <use xlink:href=\"#m813f028a0a\" x=\"88.339499\" y=\"63.733984\" style=\"fill: #1f77b4; stroke: #1f77b4\"/>\n     <use xlink:href=\"#m813f028a0a\" x=\"126.491807\" y=\"79.010541\" style=\"fill: #1f77b4; stroke: #1f77b4\"/>\n     <use xlink:href=\"#m813f028a0a\" x=\"171.842918\" y=\"105.812477\" style=\"fill: #1f77b4; stroke: #1f77b4\"/>\n     <use xlink:href=\"#m813f028a0a\" x=\"127.971384\" y=\"66.843685\" style=\"fill: #1f77b4; stroke: #1f77b4\"/>\n     <use xlink:href=\"#m813f028a0a\" x=\"143.546337\" y=\"88.630644\" style=\"fill: #1f77b4; stroke: #1f77b4\"/>\n     <use xlink:href=\"#m813f028a0a\" x=\"133.918952\" y=\"70.89479\" style=\"fill: #1f77b4; stroke: #1f77b4\"/>\n     <use xlink:href=\"#m813f028a0a\" x=\"119.247482\" y=\"87.904811\" style=\"fill: #1f77b4; stroke: #1f77b4\"/>\n     <use xlink:href=\"#m813f028a0a\" x=\"122.73386\" y=\"58.04059\" style=\"fill: #1f77b4; stroke: #1f77b4\"/>\n     <use xlink:href=\"#m813f028a0a\" x=\"158.378791\" y=\"97.645712\" style=\"fill: #1f77b4; stroke: #1f77b4\"/>\n     <use xlink:href=\"#m813f028a0a\" x=\"150.1484\" y=\"84.629033\" style=\"fill: #1f77b4; stroke: #1f77b4\"/>\n     <use xlink:href=\"#m813f028a0a\" x=\"145.205518\" y=\"94.34727\" style=\"fill: #1f77b4; stroke: #1f77b4\"/>\n     <use xlink:href=\"#m813f028a0a\" x=\"145.893579\" y=\"84.313753\" style=\"fill: #1f77b4; stroke: #1f77b4\"/>\n     <use xlink:href=\"#m813f028a0a\" x=\"107.928501\" y=\"65.641391\" style=\"fill: #1f77b4; stroke: #1f77b4\"/>\n     <use xlink:href=\"#m813f028a0a\" x=\"98.013592\" y=\"61.143878\" style=\"fill: #1f77b4; stroke: #1f77b4\"/>\n     <use xlink:href=\"#m813f028a0a\" x=\"142.309955\" y=\"85.352544\" style=\"fill: #1f77b4; stroke: #1f77b4\"/>\n     <use xlink:href=\"#m813f028a0a\" x=\"130.816689\" y=\"94.067508\" style=\"fill: #1f77b4; stroke: #1f77b4\"/>\n     <use xlink:href=\"#m813f028a0a\" x=\"167.059681\" y=\"96.353326\" style=\"fill: #1f77b4; stroke: #1f77b4\"/>\n     <use xlink:href=\"#m813f028a0a\" x=\"119.531138\" y=\"84.895292\" style=\"fill: #1f77b4; stroke: #1f77b4\"/>\n     <use xlink:href=\"#m813f028a0a\" x=\"93.750957\" y=\"41.446324\" style=\"fill: #1f77b4; stroke: #1f77b4\"/>\n     <use xlink:href=\"#m813f028a0a\" x=\"139.655659\" y=\"79.157443\" style=\"fill: #1f77b4; stroke: #1f77b4\"/>\n     <use xlink:href=\"#m813f028a0a\" x=\"100.252527\" y=\"50.245723\" style=\"fill: #1f77b4; stroke: #1f77b4\"/>\n     <use xlink:href=\"#m813f028a0a\" x=\"112.925848\" y=\"88.542904\" style=\"fill: #1f77b4; stroke: #1f77b4\"/>\n     <use xlink:href=\"#m813f028a0a\" x=\"187.583306\" y=\"109.265742\" style=\"fill: #1f77b4; stroke: #1f77b4\"/>\n     <use xlink:href=\"#m813f028a0a\" x=\"80.999457\" y=\"54.626124\" style=\"fill: #1f77b4; stroke: #1f77b4\"/>\n     <use xlink:href=\"#m813f028a0a\" x=\"56.157497\" y=\"28.896874\" style=\"fill: #1f77b4; stroke: #1f77b4\"/>\n     <use xlink:href=\"#m813f028a0a\" x=\"132.347284\" y=\"86.782845\" style=\"fill: #1f77b4; stroke: #1f77b4\"/>\n     <use xlink:href=\"#m813f028a0a\" x=\"174.800981\" y=\"117.406147\" style=\"fill: #1f77b4; stroke: #1f77b4\"/>\n     <use xlink:href=\"#m813f028a0a\" x=\"157.004645\" y=\"92.102061\" style=\"fill: #1f77b4; stroke: #1f77b4\"/>\n     <use xlink:href=\"#m813f028a0a\" x=\"201.281029\" y=\"113.650408\" style=\"fill: #1f77b4; stroke: #1f77b4\"/>\n     <use xlink:href=\"#m813f028a0a\" x=\"151.025516\" y=\"98.994033\" style=\"fill: #1f77b4; stroke: #1f77b4\"/>\n     <use xlink:href=\"#m813f028a0a\" x=\"116.662056\" y=\"77.709673\" style=\"fill: #1f77b4; stroke: #1f77b4\"/>\n     <use xlink:href=\"#m813f028a0a\" x=\"205.25438\" y=\"115.862568\" style=\"fill: #1f77b4; stroke: #1f77b4\"/>\n     <use xlink:href=\"#m813f028a0a\" x=\"120.148913\" y=\"75.293446\" style=\"fill: #1f77b4; stroke: #1f77b4\"/>\n     <use xlink:href=\"#m813f028a0a\" x=\"158.943011\" y=\"110.444218\" style=\"fill: #1f77b4; stroke: #1f77b4\"/>\n     <use xlink:href=\"#m813f028a0a\" x=\"114.190591\" y=\"53.375704\" style=\"fill: #1f77b4; stroke: #1f77b4\"/>\n     <use xlink:href=\"#m813f028a0a\" x=\"144.864524\" y=\"75.246287\" style=\"fill: #1f77b4; stroke: #1f77b4\"/>\n     <use xlink:href=\"#m813f028a0a\" x=\"135.274485\" y=\"72.49876\" style=\"fill: #1f77b4; stroke: #1f77b4\"/>\n     <use xlink:href=\"#m813f028a0a\" x=\"123.167596\" y=\"88.642219\" style=\"fill: #1f77b4; stroke: #1f77b4\"/>\n     <use xlink:href=\"#m813f028a0a\" x=\"118.18852\" y=\"75.380625\" style=\"fill: #1f77b4; stroke: #1f77b4\"/>\n     <use xlink:href=\"#m813f028a0a\" x=\"168.347069\" y=\"90.891572\" style=\"fill: #1f77b4; stroke: #1f77b4\"/>\n     <use xlink:href=\"#m813f028a0a\" x=\"180.69456\" y=\"100.303565\" style=\"fill: #1f77b4; stroke: #1f77b4\"/>\n     <use xlink:href=\"#m813f028a0a\" x=\"168.245574\" y=\"93.892579\" style=\"fill: #1f77b4; stroke: #1f77b4\"/>\n     <use xlink:href=\"#m813f028a0a\" x=\"120.499194\" y=\"65.097854\" style=\"fill: #1f77b4; stroke: #1f77b4\"/>\n     <use xlink:href=\"#m813f028a0a\" x=\"93.941937\" y=\"70.232035\" style=\"fill: #1f77b4; stroke: #1f77b4\"/>\n     <use xlink:href=\"#m813f028a0a\" x=\"131.622197\" y=\"78.249002\" style=\"fill: #1f77b4; stroke: #1f77b4\"/>\n     <use xlink:href=\"#m813f028a0a\" x=\"109.18698\" y=\"72.89255\" style=\"fill: #1f77b4; stroke: #1f77b4\"/>\n     <use xlink:href=\"#m813f028a0a\" x=\"128.500083\" y=\"79.37695\" style=\"fill: #1f77b4; stroke: #1f77b4\"/>\n     <use xlink:href=\"#m813f028a0a\" x=\"139.564769\" y=\"87.113371\" style=\"fill: #1f77b4; stroke: #1f77b4\"/>\n     <use xlink:href=\"#m813f028a0a\" x=\"122.732363\" y=\"83.998486\" style=\"fill: #1f77b4; stroke: #1f77b4\"/>\n     <use xlink:href=\"#m813f028a0a\" x=\"166.342512\" y=\"85.580225\" style=\"fill: #1f77b4; stroke: #1f77b4\"/>\n     <use xlink:href=\"#m813f028a0a\" x=\"109.344313\" y=\"63.307584\" style=\"fill: #1f77b4; stroke: #1f77b4\"/>\n     <use xlink:href=\"#m813f028a0a\" x=\"172.752112\" y=\"101.398286\" style=\"fill: #1f77b4; stroke: #1f77b4\"/>\n     <use xlink:href=\"#m813f028a0a\" x=\"126.188028\" y=\"70.509437\" style=\"fill: #1f77b4; stroke: #1f77b4\"/>\n     <use xlink:href=\"#m813f028a0a\" x=\"143.111537\" y=\"85.864602\" style=\"fill: #1f77b4; stroke: #1f77b4\"/>\n     <use xlink:href=\"#m813f028a0a\" x=\"142.026953\" y=\"58.450031\" style=\"fill: #1f77b4; stroke: #1f77b4\"/>\n     <use xlink:href=\"#m813f028a0a\" x=\"121.105622\" y=\"74.654427\" style=\"fill: #1f77b4; stroke: #1f77b4\"/>\n     <use xlink:href=\"#m813f028a0a\" x=\"119.133469\" y=\"78.488347\" style=\"fill: #1f77b4; stroke: #1f77b4\"/>\n     <use xlink:href=\"#m813f028a0a\" x=\"126.744753\" y=\"63.430782\" style=\"fill: #1f77b4; stroke: #1f77b4\"/>\n     <use xlink:href=\"#m813f028a0a\" x=\"110.625647\" y=\"68.795851\" style=\"fill: #1f77b4; stroke: #1f77b4\"/>\n     <use xlink:href=\"#m813f028a0a\" x=\"93.146149\" y=\"49.098857\" style=\"fill: #1f77b4; stroke: #1f77b4\"/>\n     <use xlink:href=\"#m813f028a0a\" x=\"111.080303\" y=\"59.108368\" style=\"fill: #1f77b4; stroke: #1f77b4\"/>\n     <use xlink:href=\"#m813f028a0a\" x=\"159.150389\" y=\"108.99033\" style=\"fill: #1f77b4; stroke: #1f77b4\"/>\n     <use xlink:href=\"#m813f028a0a\" x=\"110.945258\" y=\"77.22798\" style=\"fill: #1f77b4; stroke: #1f77b4\"/>\n     <use xlink:href=\"#m813f028a0a\" x=\"157.078902\" y=\"96.352874\" style=\"fill: #1f77b4; stroke: #1f77b4\"/>\n     <use xlink:href=\"#m813f028a0a\" x=\"145.582936\" y=\"103.834965\" style=\"fill: #1f77b4; stroke: #1f77b4\"/>\n     <use xlink:href=\"#m813f028a0a\" x=\"113.158207\" y=\"65.194058\" style=\"fill: #1f77b4; stroke: #1f77b4\"/>\n     <use xlink:href=\"#m813f028a0a\" x=\"93.308238\" y=\"59.592508\" style=\"fill: #1f77b4; stroke: #1f77b4\"/>\n     <use xlink:href=\"#m813f028a0a\" x=\"117.524497\" y=\"80.975759\" style=\"fill: #1f77b4; stroke: #1f77b4\"/>\n     <use xlink:href=\"#m813f028a0a\" x=\"133.504626\" y=\"83.509227\" style=\"fill: #1f77b4; stroke: #1f77b4\"/>\n     <use xlink:href=\"#m813f028a0a\" x=\"124.267176\" y=\"82.09667\" style=\"fill: #1f77b4; stroke: #1f77b4\"/>\n     <use xlink:href=\"#m813f028a0a\" x=\"83.629151\" y=\"64.333303\" style=\"fill: #1f77b4; stroke: #1f77b4\"/>\n     <use xlink:href=\"#m813f028a0a\" x=\"137.03902\" y=\"90.302877\" style=\"fill: #1f77b4; stroke: #1f77b4\"/>\n     <use xlink:href=\"#m813f028a0a\" x=\"122.482023\" y=\"89.145289\" style=\"fill: #1f77b4; stroke: #1f77b4\"/>\n     <use xlink:href=\"#m813f028a0a\" x=\"132.106656\" y=\"82.906749\" style=\"fill: #1f77b4; stroke: #1f77b4\"/>\n     <use xlink:href=\"#m813f028a0a\" x=\"89.170076\" y=\"60.794617\" style=\"fill: #1f77b4; stroke: #1f77b4\"/>\n     <use xlink:href=\"#m813f028a0a\" x=\"184.415903\" y=\"109.061859\" style=\"fill: #1f77b4; stroke: #1f77b4\"/>\n     <use xlink:href=\"#m813f028a0a\" x=\"101.704625\" y=\"59.766069\" style=\"fill: #1f77b4; stroke: #1f77b4\"/>\n     <use xlink:href=\"#m813f028a0a\" x=\"86.418203\" y=\"50.251539\" style=\"fill: #1f77b4; stroke: #1f77b4\"/>\n     <use xlink:href=\"#m813f028a0a\" x=\"160.719503\" y=\"97.212859\" style=\"fill: #1f77b4; stroke: #1f77b4\"/>\n     <use xlink:href=\"#m813f028a0a\" x=\"140.249799\" y=\"71.773268\" style=\"fill: #1f77b4; stroke: #1f77b4\"/>\n     <use xlink:href=\"#m813f028a0a\" x=\"104.624756\" y=\"73.66578\" style=\"fill: #1f77b4; stroke: #1f77b4\"/>\n     <use xlink:href=\"#m813f028a0a\" x=\"122.990584\" y=\"88.955538\" style=\"fill: #1f77b4; stroke: #1f77b4\"/>\n     <use xlink:href=\"#m813f028a0a\" x=\"93.644084\" y=\"64.800526\" style=\"fill: #1f77b4; stroke: #1f77b4\"/>\n     <use xlink:href=\"#m813f028a0a\" x=\"132.799865\" y=\"83.515769\" style=\"fill: #1f77b4; stroke: #1f77b4\"/>\n     <use xlink:href=\"#m813f028a0a\" x=\"118.810428\" y=\"79.158997\" style=\"fill: #1f77b4; stroke: #1f77b4\"/>\n     <use xlink:href=\"#m813f028a0a\" x=\"93.715457\" y=\"81.929976\" style=\"fill: #1f77b4; stroke: #1f77b4\"/>\n     <use xlink:href=\"#m813f028a0a\" x=\"152.454912\" y=\"94.652711\" style=\"fill: #1f77b4; stroke: #1f77b4\"/>\n     <use xlink:href=\"#m813f028a0a\" x=\"127.929596\" y=\"64.044526\" style=\"fill: #1f77b4; stroke: #1f77b4\"/>\n     <use xlink:href=\"#m813f028a0a\" x=\"77.752112\" y=\"47.909504\" style=\"fill: #1f77b4; stroke: #1f77b4\"/>\n     <use xlink:href=\"#m813f028a0a\" x=\"113.408454\" y=\"74.789887\" style=\"fill: #1f77b4; stroke: #1f77b4\"/>\n     <use xlink:href=\"#m813f028a0a\" x=\"128.844081\" y=\"56.274893\" style=\"fill: #1f77b4; stroke: #1f77b4\"/>\n     <use xlink:href=\"#m813f028a0a\" x=\"113.024968\" y=\"85.239003\" style=\"fill: #1f77b4; stroke: #1f77b4\"/>\n     <use xlink:href=\"#m813f028a0a\" x=\"123.784839\" y=\"83.139105\" style=\"fill: #1f77b4; stroke: #1f77b4\"/>\n     <use xlink:href=\"#m813f028a0a\" x=\"162.337728\" y=\"111.382183\" style=\"fill: #1f77b4; stroke: #1f77b4\"/>\n     <use xlink:href=\"#m813f028a0a\" x=\"121.803428\" y=\"87.914899\" style=\"fill: #1f77b4; stroke: #1f77b4\"/>\n     <use xlink:href=\"#m813f028a0a\" x=\"134.999602\" y=\"76.192001\" style=\"fill: #1f77b4; stroke: #1f77b4\"/>\n     <use xlink:href=\"#m813f028a0a\" x=\"144.785209\" y=\"81.546739\" style=\"fill: #1f77b4; stroke: #1f77b4\"/>\n     <use xlink:href=\"#m813f028a0a\" x=\"115.734358\" y=\"56.278717\" style=\"fill: #1f77b4; stroke: #1f77b4\"/>\n     <use xlink:href=\"#m813f028a0a\" x=\"123.294582\" y=\"77.824564\" style=\"fill: #1f77b4; stroke: #1f77b4\"/>\n     <use xlink:href=\"#m813f028a0a\" x=\"95.37005\" y=\"47.474553\" style=\"fill: #1f77b4; stroke: #1f77b4\"/>\n     <use xlink:href=\"#m813f028a0a\" x=\"75.877593\" y=\"40.654486\" style=\"fill: #1f77b4; stroke: #1f77b4\"/>\n     <use xlink:href=\"#m813f028a0a\" x=\"153.276837\" y=\"102.004413\" style=\"fill: #1f77b4; stroke: #1f77b4\"/>\n     <use xlink:href=\"#m813f028a0a\" x=\"171.574972\" y=\"118.29176\" style=\"fill: #1f77b4; stroke: #1f77b4\"/>\n     <use xlink:href=\"#m813f028a0a\" x=\"131.088666\" y=\"95.323596\" style=\"fill: #1f77b4; stroke: #1f77b4\"/>\n     <use xlink:href=\"#m813f028a0a\" x=\"147.044587\" y=\"85.566695\" style=\"fill: #1f77b4; stroke: #1f77b4\"/>\n     <use xlink:href=\"#m813f028a0a\" x=\"166.297445\" y=\"103.664807\" style=\"fill: #1f77b4; stroke: #1f77b4\"/>\n     <use xlink:href=\"#m813f028a0a\" x=\"110.448005\" y=\"75.076219\" style=\"fill: #1f77b4; stroke: #1f77b4\"/>\n     <use xlink:href=\"#m813f028a0a\" x=\"136.921852\" y=\"87.76258\" style=\"fill: #1f77b4; stroke: #1f77b4\"/>\n     <use xlink:href=\"#m813f028a0a\" x=\"149.773215\" y=\"84.942843\" style=\"fill: #1f77b4; stroke: #1f77b4\"/>\n     <use xlink:href=\"#m813f028a0a\" x=\"130.955994\" y=\"85.29512\" style=\"fill: #1f77b4; stroke: #1f77b4\"/>\n     <use xlink:href=\"#m813f028a0a\" x=\"134.844683\" y=\"73.40031\" style=\"fill: #1f77b4; stroke: #1f77b4\"/>\n     <use xlink:href=\"#m813f028a0a\" x=\"130.968169\" y=\"66.573941\" style=\"fill: #1f77b4; stroke: #1f77b4\"/>\n     <use xlink:href=\"#m813f028a0a\" x=\"145.179161\" y=\"78.751906\" style=\"fill: #1f77b4; stroke: #1f77b4\"/>\n     <use xlink:href=\"#m813f028a0a\" x=\"125.707844\" y=\"67.722812\" style=\"fill: #1f77b4; stroke: #1f77b4\"/>\n     <use xlink:href=\"#m813f028a0a\" x=\"122.823935\" y=\"62.077346\" style=\"fill: #1f77b4; stroke: #1f77b4\"/>\n     <use xlink:href=\"#m813f028a0a\" x=\"134.368389\" y=\"96.17595\" style=\"fill: #1f77b4; stroke: #1f77b4\"/>\n     <use xlink:href=\"#m813f028a0a\" x=\"112.113442\" y=\"74.507152\" style=\"fill: #1f77b4; stroke: #1f77b4\"/>\n     <use xlink:href=\"#m813f028a0a\" x=\"128.49693\" y=\"78.432681\" style=\"fill: #1f77b4; stroke: #1f77b4\"/>\n     <use xlink:href=\"#m813f028a0a\" x=\"148.6632\" y=\"89.900837\" style=\"fill: #1f77b4; stroke: #1f77b4\"/>\n     <use xlink:href=\"#m813f028a0a\" x=\"73.095204\" y=\"41.10404\" style=\"fill: #1f77b4; stroke: #1f77b4\"/>\n     <use xlink:href=\"#m813f028a0a\" x=\"170.367655\" y=\"114.998941\" style=\"fill: #1f77b4; stroke: #1f77b4\"/>\n     <use xlink:href=\"#m813f028a0a\" x=\"123.561452\" y=\"97.705705\" style=\"fill: #1f77b4; stroke: #1f77b4\"/>\n     <use xlink:href=\"#m813f028a0a\" x=\"122.673144\" y=\"59.855517\" style=\"fill: #1f77b4; stroke: #1f77b4\"/>\n     <use xlink:href=\"#m813f028a0a\" x=\"178.45419\" y=\"103.955629\" style=\"fill: #1f77b4; stroke: #1f77b4\"/>\n     <use xlink:href=\"#m813f028a0a\" x=\"157.437897\" y=\"93.076745\" style=\"fill: #1f77b4; stroke: #1f77b4\"/>\n     <use xlink:href=\"#m813f028a0a\" x=\"146.841283\" y=\"83.400568\" style=\"fill: #1f77b4; stroke: #1f77b4\"/>\n     <use xlink:href=\"#m813f028a0a\" x=\"148.883153\" y=\"96.287051\" style=\"fill: #1f77b4; stroke: #1f77b4\"/>\n     <use xlink:href=\"#m813f028a0a\" x=\"180.858049\" y=\"107.37332\" style=\"fill: #1f77b4; stroke: #1f77b4\"/>\n     <use xlink:href=\"#m813f028a0a\" x=\"129.540866\" y=\"89.463215\" style=\"fill: #1f77b4; stroke: #1f77b4\"/>\n     <use xlink:href=\"#m813f028a0a\" x=\"96.597212\" y=\"76.582025\" style=\"fill: #1f77b4; stroke: #1f77b4\"/>\n     <use xlink:href=\"#m813f028a0a\" x=\"78.218666\" y=\"31.481642\" style=\"fill: #1f77b4; stroke: #1f77b4\"/>\n     <use xlink:href=\"#m813f028a0a\" x=\"145.282101\" y=\"93.09075\" style=\"fill: #1f77b4; stroke: #1f77b4\"/>\n     <use xlink:href=\"#m813f028a0a\" x=\"94.35415\" y=\"73.339205\" style=\"fill: #1f77b4; stroke: #1f77b4\"/>\n     <use xlink:href=\"#m813f028a0a\" x=\"135.040129\" y=\"90.405544\" style=\"fill: #1f77b4; stroke: #1f77b4\"/>\n     <use xlink:href=\"#m813f028a0a\" x=\"179.550738\" y=\"105.149313\" style=\"fill: #1f77b4; stroke: #1f77b4\"/>\n     <use xlink:href=\"#m813f028a0a\" x=\"123.080407\" y=\"78.930219\" style=\"fill: #1f77b4; stroke: #1f77b4\"/>\n     <use xlink:href=\"#m813f028a0a\" x=\"152.144423\" y=\"86.357327\" style=\"fill: #1f77b4; stroke: #1f77b4\"/>\n     <use xlink:href=\"#m813f028a0a\" x=\"124.761024\" y=\"78.510311\" style=\"fill: #1f77b4; stroke: #1f77b4\"/>\n     <use xlink:href=\"#m813f028a0a\" x=\"103.421064\" y=\"61.071411\" style=\"fill: #1f77b4; stroke: #1f77b4\"/>\n     <use xlink:href=\"#m813f028a0a\" x=\"137.220898\" y=\"82.936923\" style=\"fill: #1f77b4; stroke: #1f77b4\"/>\n     <use xlink:href=\"#m813f028a0a\" x=\"134.705139\" y=\"90.113825\" style=\"fill: #1f77b4; stroke: #1f77b4\"/>\n     <use xlink:href=\"#m813f028a0a\" x=\"139.863804\" y=\"76.928636\" style=\"fill: #1f77b4; stroke: #1f77b4\"/>\n     <use xlink:href=\"#m813f028a0a\" x=\"155.530674\" y=\"86.343771\" style=\"fill: #1f77b4; stroke: #1f77b4\"/>\n     <use xlink:href=\"#m813f028a0a\" x=\"121.369356\" y=\"63.931771\" style=\"fill: #1f77b4; stroke: #1f77b4\"/>\n     <use xlink:href=\"#m813f028a0a\" x=\"120.899214\" y=\"82.625607\" style=\"fill: #1f77b4; stroke: #1f77b4\"/>\n     <use xlink:href=\"#m813f028a0a\" x=\"134.810707\" y=\"86.57365\" style=\"fill: #1f77b4; stroke: #1f77b4\"/>\n     <use xlink:href=\"#m813f028a0a\" x=\"102.379316\" y=\"46.282832\" style=\"fill: #1f77b4; stroke: #1f77b4\"/>\n     <use xlink:href=\"#m813f028a0a\" x=\"144.674285\" y=\"74.097526\" style=\"fill: #1f77b4; stroke: #1f77b4\"/>\n     <use xlink:href=\"#m813f028a0a\" x=\"115.94571\" y=\"66.977294\" style=\"fill: #1f77b4; stroke: #1f77b4\"/>\n     <use xlink:href=\"#m813f028a0a\" x=\"119.227172\" y=\"63.078019\" style=\"fill: #1f77b4; stroke: #1f77b4\"/>\n     <use xlink:href=\"#m813f028a0a\" x=\"145.448487\" y=\"82.164942\" style=\"fill: #1f77b4; stroke: #1f77b4\"/>\n     <use xlink:href=\"#m813f028a0a\" x=\"161.934578\" y=\"84.478504\" style=\"fill: #1f77b4; stroke: #1f77b4\"/>\n     <use xlink:href=\"#m813f028a0a\" x=\"80.692853\" y=\"50.435818\" style=\"fill: #1f77b4; stroke: #1f77b4\"/>\n     <use xlink:href=\"#m813f028a0a\" x=\"170.701619\" y=\"102.564451\" style=\"fill: #1f77b4; stroke: #1f77b4\"/>\n     <use xlink:href=\"#m813f028a0a\" x=\"173.713242\" y=\"103.388477\" style=\"fill: #1f77b4; stroke: #1f77b4\"/>\n     <use xlink:href=\"#m813f028a0a\" x=\"129.646203\" y=\"71.428695\" style=\"fill: #1f77b4; stroke: #1f77b4\"/>\n     <use xlink:href=\"#m813f028a0a\" x=\"118.206233\" y=\"54.901384\" style=\"fill: #1f77b4; stroke: #1f77b4\"/>\n     <use xlink:href=\"#m813f028a0a\" x=\"111.191745\" y=\"73.32412\" style=\"fill: #1f77b4; stroke: #1f77b4\"/>\n     <use xlink:href=\"#m813f028a0a\" x=\"90.736235\" y=\"49.570946\" style=\"fill: #1f77b4; stroke: #1f77b4\"/>\n     <use xlink:href=\"#m813f028a0a\" x=\"146.106334\" y=\"87.715979\" style=\"fill: #1f77b4; stroke: #1f77b4\"/>\n     <use xlink:href=\"#m813f028a0a\" x=\"189.711197\" y=\"115.622456\" style=\"fill: #1f77b4; stroke: #1f77b4\"/>\n     <use xlink:href=\"#m813f028a0a\" x=\"155.494039\" y=\"84.829651\" style=\"fill: #1f77b4; stroke: #1f77b4\"/>\n     <use xlink:href=\"#m813f028a0a\" x=\"100.164284\" y=\"53.389037\" style=\"fill: #1f77b4; stroke: #1f77b4\"/>\n     <use xlink:href=\"#m813f028a0a\" x=\"148.11232\" y=\"98.467248\" style=\"fill: #1f77b4; stroke: #1f77b4\"/>\n     <use xlink:href=\"#m813f028a0a\" x=\"108.56598\" y=\"66.961914\" style=\"fill: #1f77b4; stroke: #1f77b4\"/>\n     <use xlink:href=\"#m813f028a0a\" x=\"130.647468\" y=\"88.970247\" style=\"fill: #1f77b4; stroke: #1f77b4\"/>\n     <use xlink:href=\"#m813f028a0a\" x=\"112.92027\" y=\"68.427027\" style=\"fill: #1f77b4; stroke: #1f77b4\"/>\n     <use xlink:href=\"#m813f028a0a\" x=\"117.586142\" y=\"63.288675\" style=\"fill: #1f77b4; stroke: #1f77b4\"/>\n     <use xlink:href=\"#m813f028a0a\" x=\"157.781041\" y=\"106.728656\" style=\"fill: #1f77b4; stroke: #1f77b4\"/>\n     <use xlink:href=\"#m813f028a0a\" x=\"102.970066\" y=\"62.205008\" style=\"fill: #1f77b4; stroke: #1f77b4\"/>\n     <use xlink:href=\"#m813f028a0a\" x=\"114.958144\" y=\"63.472928\" style=\"fill: #1f77b4; stroke: #1f77b4\"/>\n     <use xlink:href=\"#m813f028a0a\" x=\"123.454153\" y=\"87.308484\" style=\"fill: #1f77b4; stroke: #1f77b4\"/>\n     <use xlink:href=\"#m813f028a0a\" x=\"137.755991\" y=\"98.138909\" style=\"fill: #1f77b4; stroke: #1f77b4\"/>\n     <use xlink:href=\"#m813f028a0a\" x=\"99.923686\" y=\"61.605924\" style=\"fill: #1f77b4; stroke: #1f77b4\"/>\n     <use xlink:href=\"#m813f028a0a\" x=\"136.093338\" y=\"71.864185\" style=\"fill: #1f77b4; stroke: #1f77b4\"/>\n     <use xlink:href=\"#m813f028a0a\" x=\"100.974301\" y=\"56.676301\" style=\"fill: #1f77b4; stroke: #1f77b4\"/>\n     <use xlink:href=\"#m813f028a0a\" x=\"120.010926\" y=\"64.360106\" style=\"fill: #1f77b4; stroke: #1f77b4\"/>\n     <use xlink:href=\"#m813f028a0a\" x=\"139.400309\" y=\"100.522718\" style=\"fill: #1f77b4; stroke: #1f77b4\"/>\n     <use xlink:href=\"#m813f028a0a\" x=\"91.67389\" y=\"79.433927\" style=\"fill: #1f77b4; stroke: #1f77b4\"/>\n     <use xlink:href=\"#m813f028a0a\" x=\"115.402299\" y=\"70.420819\" style=\"fill: #1f77b4; stroke: #1f77b4\"/>\n     <use xlink:href=\"#m813f028a0a\" x=\"152.745385\" y=\"96.855095\" style=\"fill: #1f77b4; stroke: #1f77b4\"/>\n     <use xlink:href=\"#m813f028a0a\" x=\"137.470345\" y=\"89.733533\" style=\"fill: #1f77b4; stroke: #1f77b4\"/>\n     <use xlink:href=\"#m813f028a0a\" x=\"118.691453\" y=\"69.20516\" style=\"fill: #1f77b4; stroke: #1f77b4\"/>\n     <use xlink:href=\"#m813f028a0a\" x=\"116.611163\" y=\"70.327763\" style=\"fill: #1f77b4; stroke: #1f77b4\"/>\n     <use xlink:href=\"#m813f028a0a\" x=\"102.854116\" y=\"75.723594\" style=\"fill: #1f77b4; stroke: #1f77b4\"/>\n     <use xlink:href=\"#m813f028a0a\" x=\"105.194961\" y=\"68.42644\" style=\"fill: #1f77b4; stroke: #1f77b4\"/>\n     <use xlink:href=\"#m813f028a0a\" x=\"114.850267\" y=\"68.103724\" style=\"fill: #1f77b4; stroke: #1f77b4\"/>\n     <use xlink:href=\"#m813f028a0a\" x=\"131.013655\" y=\"88.911246\" style=\"fill: #1f77b4; stroke: #1f77b4\"/>\n     <use xlink:href=\"#m813f028a0a\" x=\"151.693495\" y=\"92.414746\" style=\"fill: #1f77b4; stroke: #1f77b4\"/>\n     <use xlink:href=\"#m813f028a0a\" x=\"115.156045\" y=\"79.305416\" style=\"fill: #1f77b4; stroke: #1f77b4\"/>\n     <use xlink:href=\"#m813f028a0a\" x=\"107.920799\" y=\"62.717038\" style=\"fill: #1f77b4; stroke: #1f77b4\"/>\n     <use xlink:href=\"#m813f028a0a\" x=\"94.640645\" y=\"67.976781\" style=\"fill: #1f77b4; stroke: #1f77b4\"/>\n     <use xlink:href=\"#m813f028a0a\" x=\"68.400218\" y=\"35.81643\" style=\"fill: #1f77b4; stroke: #1f77b4\"/>\n     <use xlink:href=\"#m813f028a0a\" x=\"142.398616\" y=\"67.921737\" style=\"fill: #1f77b4; stroke: #1f77b4\"/>\n     <use xlink:href=\"#m813f028a0a\" x=\"83.574429\" y=\"49.814551\" style=\"fill: #1f77b4; stroke: #1f77b4\"/>\n     <use xlink:href=\"#m813f028a0a\" x=\"93.155658\" y=\"80.987453\" style=\"fill: #1f77b4; stroke: #1f77b4\"/>\n     <use xlink:href=\"#m813f028a0a\" x=\"77.474394\" y=\"70.101917\" style=\"fill: #1f77b4; stroke: #1f77b4\"/>\n     <use xlink:href=\"#m813f028a0a\" x=\"133.260545\" y=\"84.727615\" style=\"fill: #1f77b4; stroke: #1f77b4\"/>\n     <use xlink:href=\"#m813f028a0a\" x=\"151.741303\" y=\"87.759905\" style=\"fill: #1f77b4; stroke: #1f77b4\"/>\n     <use xlink:href=\"#m813f028a0a\" x=\"132.773307\" y=\"73.349764\" style=\"fill: #1f77b4; stroke: #1f77b4\"/>\n     <use xlink:href=\"#m813f028a0a\" x=\"163.665534\" y=\"105.033197\" style=\"fill: #1f77b4; stroke: #1f77b4\"/>\n     <use xlink:href=\"#m813f028a0a\" x=\"168.880806\" y=\"121.364627\" style=\"fill: #1f77b4; stroke: #1f77b4\"/>\n     <use xlink:href=\"#m813f028a0a\" x=\"123.631492\" y=\"64.830312\" style=\"fill: #1f77b4; stroke: #1f77b4\"/>\n     <use xlink:href=\"#m813f028a0a\" x=\"161.510727\" y=\"96.396614\" style=\"fill: #1f77b4; stroke: #1f77b4\"/>\n     <use xlink:href=\"#m813f028a0a\" x=\"145.838814\" y=\"103.553047\" style=\"fill: #1f77b4; stroke: #1f77b4\"/>\n     <use xlink:href=\"#m813f028a0a\" x=\"121.29201\" y=\"72.507373\" style=\"fill: #1f77b4; stroke: #1f77b4\"/>\n     <use xlink:href=\"#m813f028a0a\" x=\"123.013997\" y=\"69.182671\" style=\"fill: #1f77b4; stroke: #1f77b4\"/>\n     <use xlink:href=\"#m813f028a0a\" x=\"130.578211\" y=\"86.605288\" style=\"fill: #1f77b4; stroke: #1f77b4\"/>\n     <use xlink:href=\"#m813f028a0a\" x=\"112.84211\" y=\"61.603173\" style=\"fill: #1f77b4; stroke: #1f77b4\"/>\n     <use xlink:href=\"#m813f028a0a\" x=\"133.219968\" y=\"66.514761\" style=\"fill: #1f77b4; stroke: #1f77b4\"/>\n     <use xlink:href=\"#m813f028a0a\" x=\"125.070927\" y=\"65.057052\" style=\"fill: #1f77b4; stroke: #1f77b4\"/>\n     <use xlink:href=\"#m813f028a0a\" x=\"150.045978\" y=\"82.974838\" style=\"fill: #1f77b4; stroke: #1f77b4\"/>\n     <use xlink:href=\"#m813f028a0a\" x=\"108.15187\" y=\"73.2647\" style=\"fill: #1f77b4; stroke: #1f77b4\"/>\n     <use xlink:href=\"#m813f028a0a\" x=\"158.275545\" y=\"98.643612\" style=\"fill: #1f77b4; stroke: #1f77b4\"/>\n     <use xlink:href=\"#m813f028a0a\" x=\"201.577427\" y=\"111.766516\" style=\"fill: #1f77b4; stroke: #1f77b4\"/>\n     <use xlink:href=\"#m813f028a0a\" x=\"164.265748\" y=\"93.824016\" style=\"fill: #1f77b4; stroke: #1f77b4\"/>\n     <use xlink:href=\"#m813f028a0a\" x=\"94.008196\" y=\"48.972489\" style=\"fill: #1f77b4; stroke: #1f77b4\"/>\n     <use xlink:href=\"#m813f028a0a\" x=\"155.148184\" y=\"106.121219\" style=\"fill: #1f77b4; stroke: #1f77b4\"/>\n     <use xlink:href=\"#m813f028a0a\" x=\"178.745018\" y=\"114.637465\" style=\"fill: #1f77b4; stroke: #1f77b4\"/>\n     <use xlink:href=\"#m813f028a0a\" x=\"165.678337\" y=\"109.67213\" style=\"fill: #1f77b4; stroke: #1f77b4\"/>\n     <use xlink:href=\"#m813f028a0a\" x=\"131.808906\" y=\"82.579435\" style=\"fill: #1f77b4; stroke: #1f77b4\"/>\n     <use xlink:href=\"#m813f028a0a\" x=\"114.118767\" y=\"64.88755\" style=\"fill: #1f77b4; stroke: #1f77b4\"/>\n     <use xlink:href=\"#m813f028a0a\" x=\"174.462469\" y=\"103.924478\" style=\"fill: #1f77b4; stroke: #1f77b4\"/>\n     <use xlink:href=\"#m813f028a0a\" x=\"112.962894\" y=\"79.10747\" style=\"fill: #1f77b4; stroke: #1f77b4\"/>\n     <use xlink:href=\"#m813f028a0a\" x=\"158.552294\" y=\"101.681165\" style=\"fill: #1f77b4; stroke: #1f77b4\"/>\n     <use xlink:href=\"#m813f028a0a\" x=\"103.754537\" y=\"64.108387\" style=\"fill: #1f77b4; stroke: #1f77b4\"/>\n     <use xlink:href=\"#m813f028a0a\" x=\"145.587106\" y=\"89.905494\" style=\"fill: #1f77b4; stroke: #1f77b4\"/>\n     <use xlink:href=\"#m813f028a0a\" x=\"137.303612\" y=\"65.632123\" style=\"fill: #1f77b4; stroke: #1f77b4\"/>\n     <use xlink:href=\"#m813f028a0a\" x=\"148.664219\" y=\"90.458784\" style=\"fill: #1f77b4; stroke: #1f77b4\"/>\n     <use xlink:href=\"#m813f028a0a\" x=\"107.061276\" y=\"65.448724\" style=\"fill: #1f77b4; stroke: #1f77b4\"/>\n     <use xlink:href=\"#m813f028a0a\" x=\"143.479365\" y=\"92.488578\" style=\"fill: #1f77b4; stroke: #1f77b4\"/>\n     <use xlink:href=\"#m813f028a0a\" x=\"104.212213\" y=\"50.167504\" style=\"fill: #1f77b4; stroke: #1f77b4\"/>\n     <use xlink:href=\"#m813f028a0a\" x=\"128.813138\" y=\"79.333639\" style=\"fill: #1f77b4; stroke: #1f77b4\"/>\n     <use xlink:href=\"#m813f028a0a\" x=\"137.912589\" y=\"66.139492\" style=\"fill: #1f77b4; stroke: #1f77b4\"/>\n     <use xlink:href=\"#m813f028a0a\" x=\"139.849155\" y=\"67.763116\" style=\"fill: #1f77b4; stroke: #1f77b4\"/>\n     <use xlink:href=\"#m813f028a0a\" x=\"90.065071\" y=\"56.315444\" style=\"fill: #1f77b4; stroke: #1f77b4\"/>\n     <use xlink:href=\"#m813f028a0a\" x=\"132.99995\" y=\"68.203774\" style=\"fill: #1f77b4; stroke: #1f77b4\"/>\n     <use xlink:href=\"#m813f028a0a\" x=\"140.817358\" y=\"93.718156\" style=\"fill: #1f77b4; stroke: #1f77b4\"/>\n     <use xlink:href=\"#m813f028a0a\" x=\"145.236378\" y=\"83.262896\" style=\"fill: #1f77b4; stroke: #1f77b4\"/>\n     <use xlink:href=\"#m813f028a0a\" x=\"127.71312\" y=\"54.50342\" style=\"fill: #1f77b4; stroke: #1f77b4\"/>\n     <use xlink:href=\"#m813f028a0a\" x=\"144.231906\" y=\"89.684301\" style=\"fill: #1f77b4; stroke: #1f77b4\"/>\n     <use xlink:href=\"#m813f028a0a\" x=\"132.278337\" y=\"86.771142\" style=\"fill: #1f77b4; stroke: #1f77b4\"/>\n     <use xlink:href=\"#m813f028a0a\" x=\"149.732677\" y=\"83.54424\" style=\"fill: #1f77b4; stroke: #1f77b4\"/>\n     <use xlink:href=\"#m813f028a0a\" x=\"132.893001\" y=\"68.599325\" style=\"fill: #1f77b4; stroke: #1f77b4\"/>\n     <use xlink:href=\"#m813f028a0a\" x=\"133.656434\" y=\"64.435241\" style=\"fill: #1f77b4; stroke: #1f77b4\"/>\n     <use xlink:href=\"#m813f028a0a\" x=\"149.560484\" y=\"87.947413\" style=\"fill: #1f77b4; stroke: #1f77b4\"/>\n     <use xlink:href=\"#m813f028a0a\" x=\"72.818228\" y=\"41.27415\" style=\"fill: #1f77b4; stroke: #1f77b4\"/>\n     <use xlink:href=\"#m813f028a0a\" x=\"113.32931\" y=\"67.460646\" style=\"fill: #1f77b4; stroke: #1f77b4\"/>\n     <use xlink:href=\"#m813f028a0a\" x=\"82.655013\" y=\"64.618377\" style=\"fill: #1f77b4; stroke: #1f77b4\"/>\n     <use xlink:href=\"#m813f028a0a\" x=\"118.909747\" y=\"61.403568\" style=\"fill: #1f77b4; stroke: #1f77b4\"/>\n     <use xlink:href=\"#m813f028a0a\" x=\"88.737765\" y=\"62.31474\" style=\"fill: #1f77b4; stroke: #1f77b4\"/>\n     <use xlink:href=\"#m813f028a0a\" x=\"143.668245\" y=\"90.935633\" style=\"fill: #1f77b4; stroke: #1f77b4\"/>\n     <use xlink:href=\"#m813f028a0a\" x=\"173.163212\" y=\"116.088627\" style=\"fill: #1f77b4; stroke: #1f77b4\"/>\n     <use xlink:href=\"#m813f028a0a\" x=\"117.345397\" y=\"71.448507\" style=\"fill: #1f77b4; stroke: #1f77b4\"/>\n     <use xlink:href=\"#m813f028a0a\" x=\"139.134884\" y=\"65.756764\" style=\"fill: #1f77b4; stroke: #1f77b4\"/>\n     <use xlink:href=\"#m813f028a0a\" x=\"83.999585\" y=\"37.860635\" style=\"fill: #1f77b4; stroke: #1f77b4\"/>\n     <use xlink:href=\"#m813f028a0a\" x=\"131.714324\" y=\"79.130976\" style=\"fill: #1f77b4; stroke: #1f77b4\"/>\n     <use xlink:href=\"#m813f028a0a\" x=\"146.144581\" y=\"74.894182\" style=\"fill: #1f77b4; stroke: #1f77b4\"/>\n     <use xlink:href=\"#m813f028a0a\" x=\"149.436474\" y=\"95.730646\" style=\"fill: #1f77b4; stroke: #1f77b4\"/>\n     <use xlink:href=\"#m813f028a0a\" x=\"146.114192\" y=\"69.774268\" style=\"fill: #1f77b4; stroke: #1f77b4\"/>\n     <use xlink:href=\"#m813f028a0a\" x=\"133.817583\" y=\"85.960742\" style=\"fill: #1f77b4; stroke: #1f77b4\"/>\n     <use xlink:href=\"#m813f028a0a\" x=\"126.525499\" y=\"73.034614\" style=\"fill: #1f77b4; stroke: #1f77b4\"/>\n     <use xlink:href=\"#m813f028a0a\" x=\"124.223059\" y=\"70.79381\" style=\"fill: #1f77b4; stroke: #1f77b4\"/>\n     <use xlink:href=\"#m813f028a0a\" x=\"78.41078\" y=\"44.240674\" style=\"fill: #1f77b4; stroke: #1f77b4\"/>\n     <use xlink:href=\"#m813f028a0a\" x=\"133.256001\" y=\"75.793409\" style=\"fill: #1f77b4; stroke: #1f77b4\"/>\n     <use xlink:href=\"#m813f028a0a\" x=\"137.717618\" y=\"105.315703\" style=\"fill: #1f77b4; stroke: #1f77b4\"/>\n     <use xlink:href=\"#m813f028a0a\" x=\"151.676066\" y=\"109.71611\" style=\"fill: #1f77b4; stroke: #1f77b4\"/>\n     <use xlink:href=\"#m813f028a0a\" x=\"146.68911\" y=\"96.879364\" style=\"fill: #1f77b4; stroke: #1f77b4\"/>\n     <use xlink:href=\"#m813f028a0a\" x=\"152.418512\" y=\"95.158675\" style=\"fill: #1f77b4; stroke: #1f77b4\"/>\n     <use xlink:href=\"#m813f028a0a\" x=\"127.998087\" y=\"64.391555\" style=\"fill: #1f77b4; stroke: #1f77b4\"/>\n     <use xlink:href=\"#m813f028a0a\" x=\"133.432313\" y=\"70.231702\" style=\"fill: #1f77b4; stroke: #1f77b4\"/>\n     <use xlink:href=\"#m813f028a0a\" x=\"143.182921\" y=\"79.874907\" style=\"fill: #1f77b4; stroke: #1f77b4\"/>\n     <use xlink:href=\"#m813f028a0a\" x=\"138.321939\" y=\"80.671815\" style=\"fill: #1f77b4; stroke: #1f77b4\"/>\n     <use xlink:href=\"#m813f028a0a\" x=\"162.115515\" y=\"97.00173\" style=\"fill: #1f77b4; stroke: #1f77b4\"/>\n     <use xlink:href=\"#m813f028a0a\" x=\"102.557406\" y=\"60.830562\" style=\"fill: #1f77b4; stroke: #1f77b4\"/>\n     <use xlink:href=\"#m813f028a0a\" x=\"90.647143\" y=\"56.390638\" style=\"fill: #1f77b4; stroke: #1f77b4\"/>\n     <use xlink:href=\"#m813f028a0a\" x=\"193.423191\" y=\"131.321322\" style=\"fill: #1f77b4; stroke: #1f77b4\"/>\n     <use xlink:href=\"#m813f028a0a\" x=\"134.225481\" y=\"71.915837\" style=\"fill: #1f77b4; stroke: #1f77b4\"/>\n     <use xlink:href=\"#m813f028a0a\" x=\"116.091537\" y=\"81.116695\" style=\"fill: #1f77b4; stroke: #1f77b4\"/>\n     <use xlink:href=\"#m813f028a0a\" x=\"130.8662\" y=\"85.03294\" style=\"fill: #1f77b4; stroke: #1f77b4\"/>\n     <use xlink:href=\"#m813f028a0a\" x=\"127.537878\" y=\"70.236428\" style=\"fill: #1f77b4; stroke: #1f77b4\"/>\n     <use xlink:href=\"#m813f028a0a\" x=\"84.081329\" y=\"37.241798\" style=\"fill: #1f77b4; stroke: #1f77b4\"/>\n     <use xlink:href=\"#m813f028a0a\" x=\"95.999829\" y=\"58.690026\" style=\"fill: #1f77b4; stroke: #1f77b4\"/>\n     <use xlink:href=\"#m813f028a0a\" x=\"126.768829\" y=\"76.254166\" style=\"fill: #1f77b4; stroke: #1f77b4\"/>\n     <use xlink:href=\"#m813f028a0a\" x=\"102.39905\" y=\"76.174051\" style=\"fill: #1f77b4; stroke: #1f77b4\"/>\n     <use xlink:href=\"#m813f028a0a\" x=\"107.493117\" y=\"70.441782\" style=\"fill: #1f77b4; stroke: #1f77b4\"/>\n     <use xlink:href=\"#m813f028a0a\" x=\"137.220521\" y=\"71.18129\" style=\"fill: #1f77b4; stroke: #1f77b4\"/>\n     <use xlink:href=\"#m813f028a0a\" x=\"112.627694\" y=\"61.677678\" style=\"fill: #1f77b4; stroke: #1f77b4\"/>\n     <use xlink:href=\"#m813f028a0a\" x=\"133.772836\" y=\"81.824323\" style=\"fill: #1f77b4; stroke: #1f77b4\"/>\n     <use xlink:href=\"#m813f028a0a\" x=\"136.241853\" y=\"86.973455\" style=\"fill: #1f77b4; stroke: #1f77b4\"/>\n     <use xlink:href=\"#m813f028a0a\" x=\"141.57193\" y=\"82.124815\" style=\"fill: #1f77b4; stroke: #1f77b4\"/>\n     <use xlink:href=\"#m813f028a0a\" x=\"144.30128\" y=\"91.012791\" style=\"fill: #1f77b4; stroke: #1f77b4\"/>\n     <use xlink:href=\"#m813f028a0a\" x=\"178.072398\" y=\"116.510816\" style=\"fill: #1f77b4; stroke: #1f77b4\"/>\n     <use xlink:href=\"#m813f028a0a\" x=\"134.707621\" y=\"84.168467\" style=\"fill: #1f77b4; stroke: #1f77b4\"/>\n     <use xlink:href=\"#m813f028a0a\" x=\"117.31852\" y=\"75.57475\" style=\"fill: #1f77b4; stroke: #1f77b4\"/>\n     <use xlink:href=\"#m813f028a0a\" x=\"154.747989\" y=\"93.170185\" style=\"fill: #1f77b4; stroke: #1f77b4\"/>\n     <use xlink:href=\"#m813f028a0a\" x=\"154.419433\" y=\"97.54297\" style=\"fill: #1f77b4; stroke: #1f77b4\"/>\n     <use xlink:href=\"#m813f028a0a\" x=\"97.20979\" y=\"67.083645\" style=\"fill: #1f77b4; stroke: #1f77b4\"/>\n     <use xlink:href=\"#m813f028a0a\" x=\"136.996239\" y=\"85.028937\" style=\"fill: #1f77b4; stroke: #1f77b4\"/>\n     <use xlink:href=\"#m813f028a0a\" x=\"174.753746\" y=\"94.150938\" style=\"fill: #1f77b4; stroke: #1f77b4\"/>\n     <use xlink:href=\"#m813f028a0a\" x=\"130.847019\" y=\"63.160471\" style=\"fill: #1f77b4; stroke: #1f77b4\"/>\n     <use xlink:href=\"#m813f028a0a\" x=\"107.553456\" y=\"75.304654\" style=\"fill: #1f77b4; stroke: #1f77b4\"/>\n     <use xlink:href=\"#m813f028a0a\" x=\"105.976457\" y=\"51.19999\" style=\"fill: #1f77b4; stroke: #1f77b4\"/>\n     <use xlink:href=\"#m813f028a0a\" x=\"126.501588\" y=\"87.34937\" style=\"fill: #1f77b4; stroke: #1f77b4\"/>\n     <use xlink:href=\"#m813f028a0a\" x=\"117.894216\" y=\"81.935544\" style=\"fill: #1f77b4; stroke: #1f77b4\"/>\n     <use xlink:href=\"#m813f028a0a\" x=\"139.419895\" y=\"81.113003\" style=\"fill: #1f77b4; stroke: #1f77b4\"/>\n     <use xlink:href=\"#m813f028a0a\" x=\"127.760994\" y=\"47.049631\" style=\"fill: #1f77b4; stroke: #1f77b4\"/>\n     <use xlink:href=\"#m813f028a0a\" x=\"131.592033\" y=\"71.18036\" style=\"fill: #1f77b4; stroke: #1f77b4\"/>\n     <use xlink:href=\"#m813f028a0a\" x=\"146.05434\" y=\"96.491266\" style=\"fill: #1f77b4; stroke: #1f77b4\"/>\n     <use xlink:href=\"#m813f028a0a\" x=\"95.758531\" y=\"61.077666\" style=\"fill: #1f77b4; stroke: #1f77b4\"/>\n     <use xlink:href=\"#m813f028a0a\" x=\"138.476864\" y=\"86.836685\" style=\"fill: #1f77b4; stroke: #1f77b4\"/>\n     <use xlink:href=\"#m813f028a0a\" x=\"172.584264\" y=\"109.116603\" style=\"fill: #1f77b4; stroke: #1f77b4\"/>\n     <use xlink:href=\"#m813f028a0a\" x=\"112.058942\" y=\"76.590951\" style=\"fill: #1f77b4; stroke: #1f77b4\"/>\n     <use xlink:href=\"#m813f028a0a\" x=\"132.595328\" y=\"58.973569\" style=\"fill: #1f77b4; stroke: #1f77b4\"/>\n     <use xlink:href=\"#m813f028a0a\" x=\"104.56463\" y=\"64.281651\" style=\"fill: #1f77b4; stroke: #1f77b4\"/>\n     <use xlink:href=\"#m813f028a0a\" x=\"137.043771\" y=\"76.211828\" style=\"fill: #1f77b4; stroke: #1f77b4\"/>\n     <use xlink:href=\"#m813f028a0a\" x=\"148.402066\" y=\"87.802563\" style=\"fill: #1f77b4; stroke: #1f77b4\"/>\n     <use xlink:href=\"#m813f028a0a\" x=\"130.062001\" y=\"73.529857\" style=\"fill: #1f77b4; stroke: #1f77b4\"/>\n     <use xlink:href=\"#m813f028a0a\" x=\"131.424674\" y=\"76.344877\" style=\"fill: #1f77b4; stroke: #1f77b4\"/>\n     <use xlink:href=\"#m813f028a0a\" x=\"136.479199\" y=\"86.241293\" style=\"fill: #1f77b4; stroke: #1f77b4\"/>\n     <use xlink:href=\"#m813f028a0a\" x=\"104.484061\" y=\"63.282539\" style=\"fill: #1f77b4; stroke: #1f77b4\"/>\n     <use xlink:href=\"#m813f028a0a\" x=\"141.592145\" y=\"77.292473\" style=\"fill: #1f77b4; stroke: #1f77b4\"/>\n     <use xlink:href=\"#m813f028a0a\" x=\"156.221834\" y=\"93.43716\" style=\"fill: #1f77b4; stroke: #1f77b4\"/>\n     <use xlink:href=\"#m813f028a0a\" x=\"156.97034\" y=\"101.889738\" style=\"fill: #1f77b4; stroke: #1f77b4\"/>\n     <use xlink:href=\"#m813f028a0a\" x=\"131.134134\" y=\"70.624217\" style=\"fill: #1f77b4; stroke: #1f77b4\"/>\n     <use xlink:href=\"#m813f028a0a\" x=\"132.160335\" y=\"65.921069\" style=\"fill: #1f77b4; stroke: #1f77b4\"/>\n     <use xlink:href=\"#m813f028a0a\" x=\"117.52527\" y=\"84.562676\" style=\"fill: #1f77b4; stroke: #1f77b4\"/>\n     <use xlink:href=\"#m813f028a0a\" x=\"139.18681\" y=\"87.184415\" style=\"fill: #1f77b4; stroke: #1f77b4\"/>\n     <use xlink:href=\"#m813f028a0a\" x=\"73.608303\" y=\"55.25388\" style=\"fill: #1f77b4; stroke: #1f77b4\"/>\n     <use xlink:href=\"#m813f028a0a\" x=\"103.507428\" y=\"58.373667\" style=\"fill: #1f77b4; stroke: #1f77b4\"/>\n     <use xlink:href=\"#m813f028a0a\" x=\"179.623494\" y=\"109.914823\" style=\"fill: #1f77b4; stroke: #1f77b4\"/>\n     <use xlink:href=\"#m813f028a0a\" x=\"108.122391\" y=\"74.473624\" style=\"fill: #1f77b4; stroke: #1f77b4\"/>\n     <use xlink:href=\"#m813f028a0a\" x=\"98.583936\" y=\"55.18372\" style=\"fill: #1f77b4; stroke: #1f77b4\"/>\n     <use xlink:href=\"#m813f028a0a\" x=\"103.616597\" y=\"60.693179\" style=\"fill: #1f77b4; stroke: #1f77b4\"/>\n     <use xlink:href=\"#m813f028a0a\" x=\"157.614306\" y=\"104.117001\" style=\"fill: #1f77b4; stroke: #1f77b4\"/>\n     <use xlink:href=\"#m813f028a0a\" x=\"121.523944\" y=\"83.151264\" style=\"fill: #1f77b4; stroke: #1f77b4\"/>\n     <use xlink:href=\"#m813f028a0a\" x=\"127.120563\" y=\"72.606802\" style=\"fill: #1f77b4; stroke: #1f77b4\"/>\n     <use xlink:href=\"#m813f028a0a\" x=\"140.009375\" y=\"86.973257\" style=\"fill: #1f77b4; stroke: #1f77b4\"/>\n     <use xlink:href=\"#m813f028a0a\" x=\"153.089656\" y=\"89.430235\" style=\"fill: #1f77b4; stroke: #1f77b4\"/>\n     <use xlink:href=\"#m813f028a0a\" x=\"83.865348\" y=\"59.377038\" style=\"fill: #1f77b4; stroke: #1f77b4\"/>\n     <use xlink:href=\"#m813f028a0a\" x=\"137.632347\" y=\"85.193289\" style=\"fill: #1f77b4; stroke: #1f77b4\"/>\n     <use xlink:href=\"#m813f028a0a\" x=\"137.804112\" y=\"77.620294\" style=\"fill: #1f77b4; stroke: #1f77b4\"/>\n     <use xlink:href=\"#m813f028a0a\" x=\"204.555435\" y=\"139.5\" style=\"fill: #1f77b4; stroke: #1f77b4\"/>\n     <use xlink:href=\"#m813f028a0a\" x=\"144.684632\" y=\"69.38894\" style=\"fill: #1f77b4; stroke: #1f77b4\"/>\n     <use xlink:href=\"#m813f028a0a\" x=\"104.054864\" y=\"59.575661\" style=\"fill: #1f77b4; stroke: #1f77b4\"/>\n     <use xlink:href=\"#m813f028a0a\" x=\"90.989037\" y=\"50.001909\" style=\"fill: #1f77b4; stroke: #1f77b4\"/>\n     <use xlink:href=\"#m813f028a0a\" x=\"124.176366\" y=\"63.39244\" style=\"fill: #1f77b4; stroke: #1f77b4\"/>\n     <use xlink:href=\"#m813f028a0a\" x=\"165.941879\" y=\"100.529071\" style=\"fill: #1f77b4; stroke: #1f77b4\"/>\n     <use xlink:href=\"#m813f028a0a\" x=\"105.36607\" y=\"60.909355\" style=\"fill: #1f77b4; stroke: #1f77b4\"/>\n     <use xlink:href=\"#m813f028a0a\" x=\"127.539859\" y=\"73.440855\" style=\"fill: #1f77b4; stroke: #1f77b4\"/>\n     <use xlink:href=\"#m813f028a0a\" x=\"107.446259\" y=\"64.173285\" style=\"fill: #1f77b4; stroke: #1f77b4\"/>\n     <use xlink:href=\"#m813f028a0a\" x=\"161.217722\" y=\"103.896325\" style=\"fill: #1f77b4; stroke: #1f77b4\"/>\n     <use xlink:href=\"#m813f028a0a\" x=\"117.489494\" y=\"87.182539\" style=\"fill: #1f77b4; stroke: #1f77b4\"/>\n     <use xlink:href=\"#m813f028a0a\" x=\"156.447443\" y=\"85.504334\" style=\"fill: #1f77b4; stroke: #1f77b4\"/>\n     <use xlink:href=\"#m813f028a0a\" x=\"154.793016\" y=\"115.608494\" style=\"fill: #1f77b4; stroke: #1f77b4\"/>\n     <use xlink:href=\"#m813f028a0a\" x=\"135.964491\" y=\"88.024169\" style=\"fill: #1f77b4; stroke: #1f77b4\"/>\n     <use xlink:href=\"#m813f028a0a\" x=\"114.636048\" y=\"59.105613\" style=\"fill: #1f77b4; stroke: #1f77b4\"/>\n     <use xlink:href=\"#m813f028a0a\" x=\"127.94992\" y=\"71.990607\" style=\"fill: #1f77b4; stroke: #1f77b4\"/>\n     <use xlink:href=\"#m813f028a0a\" x=\"149.0308\" y=\"80.549001\" style=\"fill: #1f77b4; stroke: #1f77b4\"/>\n     <use xlink:href=\"#m813f028a0a\" x=\"133.581852\" y=\"83.051211\" style=\"fill: #1f77b4; stroke: #1f77b4\"/>\n     <use xlink:href=\"#m813f028a0a\" x=\"125.889017\" y=\"75.857333\" style=\"fill: #1f77b4; stroke: #1f77b4\"/>\n     <use xlink:href=\"#m813f028a0a\" x=\"167.081306\" y=\"93.354256\" style=\"fill: #1f77b4; stroke: #1f77b4\"/>\n     <use xlink:href=\"#m813f028a0a\" x=\"172.657799\" y=\"99.043509\" style=\"fill: #1f77b4; stroke: #1f77b4\"/>\n     <use xlink:href=\"#m813f028a0a\" x=\"133.818176\" y=\"84.197138\" style=\"fill: #1f77b4; stroke: #1f77b4\"/>\n     <use xlink:href=\"#m813f028a0a\" x=\"162.821294\" y=\"101.744478\" style=\"fill: #1f77b4; stroke: #1f77b4\"/>\n     <use xlink:href=\"#m813f028a0a\" x=\"98.745674\" y=\"59.483874\" style=\"fill: #1f77b4; stroke: #1f77b4\"/>\n     <use xlink:href=\"#m813f028a0a\" x=\"151.71555\" y=\"77.826696\" style=\"fill: #1f77b4; stroke: #1f77b4\"/>\n     <use xlink:href=\"#m813f028a0a\" x=\"125.927828\" y=\"67.238327\" style=\"fill: #1f77b4; stroke: #1f77b4\"/>\n     <use xlink:href=\"#m813f028a0a\" x=\"127.069959\" y=\"96.291421\" style=\"fill: #1f77b4; stroke: #1f77b4\"/>\n     <use xlink:href=\"#m813f028a0a\" x=\"129.537828\" y=\"71.311953\" style=\"fill: #1f77b4; stroke: #1f77b4\"/>\n     <use xlink:href=\"#m813f028a0a\" x=\"129.839666\" y=\"70.659947\" style=\"fill: #1f77b4; stroke: #1f77b4\"/>\n     <use xlink:href=\"#m813f028a0a\" x=\"125.785146\" y=\"81.711901\" style=\"fill: #1f77b4; stroke: #1f77b4\"/>\n     <use xlink:href=\"#m813f028a0a\" x=\"179.281522\" y=\"105.008377\" style=\"fill: #1f77b4; stroke: #1f77b4\"/>\n     <use xlink:href=\"#m813f028a0a\" x=\"71.379847\" y=\"38.667615\" style=\"fill: #1f77b4; stroke: #1f77b4\"/>\n     <use xlink:href=\"#m813f028a0a\" x=\"125.049975\" y=\"88.183349\" style=\"fill: #1f77b4; stroke: #1f77b4\"/>\n     <use xlink:href=\"#m813f028a0a\" x=\"49.534607\" y=\"13.5\" style=\"fill: #1f77b4; stroke: #1f77b4\"/>\n     <use xlink:href=\"#m813f028a0a\" x=\"131.647876\" y=\"65.783409\" style=\"fill: #1f77b4; stroke: #1f77b4\"/>\n     <use xlink:href=\"#m813f028a0a\" x=\"138.46675\" y=\"78.148229\" style=\"fill: #1f77b4; stroke: #1f77b4\"/>\n     <use xlink:href=\"#m813f028a0a\" x=\"125.200616\" y=\"69.275596\" style=\"fill: #1f77b4; stroke: #1f77b4\"/>\n     <use xlink:href=\"#m813f028a0a\" x=\"113.991638\" y=\"78.715996\" style=\"fill: #1f77b4; stroke: #1f77b4\"/>\n     <use xlink:href=\"#m813f028a0a\" x=\"117.913892\" y=\"51.189668\" style=\"fill: #1f77b4; stroke: #1f77b4\"/>\n     <use xlink:href=\"#m813f028a0a\" x=\"113.521572\" y=\"59.349336\" style=\"fill: #1f77b4; stroke: #1f77b4\"/>\n     <use xlink:href=\"#m813f028a0a\" x=\"102.471528\" y=\"44.529412\" style=\"fill: #1f77b4; stroke: #1f77b4\"/>\n     <use xlink:href=\"#m813f028a0a\" x=\"119.196017\" y=\"75.673802\" style=\"fill: #1f77b4; stroke: #1f77b4\"/>\n     <use xlink:href=\"#m813f028a0a\" x=\"163.599516\" y=\"101.420312\" style=\"fill: #1f77b4; stroke: #1f77b4\"/>\n     <use xlink:href=\"#m813f028a0a\" x=\"145.934043\" y=\"86.542336\" style=\"fill: #1f77b4; stroke: #1f77b4\"/>\n     <use xlink:href=\"#m813f028a0a\" x=\"132.955506\" y=\"83.36928\" style=\"fill: #1f77b4; stroke: #1f77b4\"/>\n     <use xlink:href=\"#m813f028a0a\" x=\"116.675962\" y=\"78.258722\" style=\"fill: #1f77b4; stroke: #1f77b4\"/>\n     <use xlink:href=\"#m813f028a0a\" x=\"130.734903\" y=\"71.599812\" style=\"fill: #1f77b4; stroke: #1f77b4\"/>\n     <use xlink:href=\"#m813f028a0a\" x=\"154.768001\" y=\"94.535689\" style=\"fill: #1f77b4; stroke: #1f77b4\"/>\n     <use xlink:href=\"#m813f028a0a\" x=\"155.203847\" y=\"83.518599\" style=\"fill: #1f77b4; stroke: #1f77b4\"/>\n     <use xlink:href=\"#m813f028a0a\" x=\"108.517662\" y=\"68.495599\" style=\"fill: #1f77b4; stroke: #1f77b4\"/>\n     <use xlink:href=\"#m813f028a0a\" x=\"86.429288\" y=\"48.395337\" style=\"fill: #1f77b4; stroke: #1f77b4\"/>\n     <use xlink:href=\"#m813f028a0a\" x=\"123.869741\" y=\"76.666975\" style=\"fill: #1f77b4; stroke: #1f77b4\"/>\n     <use xlink:href=\"#m813f028a0a\" x=\"84.484769\" y=\"51.109022\" style=\"fill: #1f77b4; stroke: #1f77b4\"/>\n     <use xlink:href=\"#m813f028a0a\" x=\"175.784042\" y=\"93.331271\" style=\"fill: #1f77b4; stroke: #1f77b4\"/>\n     <use xlink:href=\"#m813f028a0a\" x=\"172.656959\" y=\"88.033408\" style=\"fill: #1f77b4; stroke: #1f77b4\"/>\n     <use xlink:href=\"#m813f028a0a\" x=\"130.773676\" y=\"92.311094\" style=\"fill: #1f77b4; stroke: #1f77b4\"/>\n     <use xlink:href=\"#m813f028a0a\" x=\"138.619844\" y=\"88.686039\" style=\"fill: #1f77b4; stroke: #1f77b4\"/>\n     <use xlink:href=\"#m813f028a0a\" x=\"110.388478\" y=\"67.54576\" style=\"fill: #1f77b4; stroke: #1f77b4\"/>\n     <use xlink:href=\"#m813f028a0a\" x=\"174.300474\" y=\"113.828581\" style=\"fill: #1f77b4; stroke: #1f77b4\"/>\n     <use xlink:href=\"#m813f028a0a\" x=\"121.760061\" y=\"64.867896\" style=\"fill: #1f77b4; stroke: #1f77b4\"/>\n     <use xlink:href=\"#m813f028a0a\" x=\"124.948082\" y=\"75.46053\" style=\"fill: #1f77b4; stroke: #1f77b4\"/>\n     <use xlink:href=\"#m813f028a0a\" x=\"150.883172\" y=\"80.885575\" style=\"fill: #1f77b4; stroke: #1f77b4\"/>\n     <use xlink:href=\"#m813f028a0a\" x=\"129.113315\" y=\"79.848704\" style=\"fill: #1f77b4; stroke: #1f77b4\"/>\n     <use xlink:href=\"#m813f028a0a\" x=\"167.770697\" y=\"103.97978\" style=\"fill: #1f77b4; stroke: #1f77b4\"/>\n     <use xlink:href=\"#m813f028a0a\" x=\"111.807153\" y=\"70.489077\" style=\"fill: #1f77b4; stroke: #1f77b4\"/>\n     <use xlink:href=\"#m813f028a0a\" x=\"124.091603\" y=\"51.552582\" style=\"fill: #1f77b4; stroke: #1f77b4\"/>\n     <use xlink:href=\"#m813f028a0a\" x=\"113.816754\" y=\"81.382966\" style=\"fill: #1f77b4; stroke: #1f77b4\"/>\n     <use xlink:href=\"#m813f028a0a\" x=\"105.876181\" y=\"71.395555\" style=\"fill: #1f77b4; stroke: #1f77b4\"/>\n     <use xlink:href=\"#m813f028a0a\" x=\"151.564638\" y=\"107.109753\" style=\"fill: #1f77b4; stroke: #1f77b4\"/>\n     <use xlink:href=\"#m813f028a0a\" x=\"65.080922\" y=\"39.456072\" style=\"fill: #1f77b4; stroke: #1f77b4\"/>\n     <use xlink:href=\"#m813f028a0a\" x=\"101.837074\" y=\"63.929359\" style=\"fill: #1f77b4; stroke: #1f77b4\"/>\n     <use xlink:href=\"#m813f028a0a\" x=\"149.958273\" y=\"105.45819\" style=\"fill: #1f77b4; stroke: #1f77b4\"/>\n     <use xlink:href=\"#m813f028a0a\" x=\"135.326708\" y=\"68.914007\" style=\"fill: #1f77b4; stroke: #1f77b4\"/>\n     <use xlink:href=\"#m813f028a0a\" x=\"124.49783\" y=\"78.79283\" style=\"fill: #1f77b4; stroke: #1f77b4\"/>\n     <use xlink:href=\"#m813f028a0a\" x=\"134.998356\" y=\"79.618233\" style=\"fill: #1f77b4; stroke: #1f77b4\"/>\n     <use xlink:href=\"#m813f028a0a\" x=\"130.348115\" y=\"88.595815\" style=\"fill: #1f77b4; stroke: #1f77b4\"/>\n     <use xlink:href=\"#m813f028a0a\" x=\"163.013713\" y=\"118.146669\" style=\"fill: #1f77b4; stroke: #1f77b4\"/>\n     <use xlink:href=\"#m813f028a0a\" x=\"107.903322\" y=\"60.319617\" style=\"fill: #1f77b4; stroke: #1f77b4\"/>\n     <use xlink:href=\"#m813f028a0a\" x=\"120.370656\" y=\"78.983171\" style=\"fill: #1f77b4; stroke: #1f77b4\"/>\n     <use xlink:href=\"#m813f028a0a\" x=\"114.238833\" y=\"49.923584\" style=\"fill: #1f77b4; stroke: #1f77b4\"/>\n     <use xlink:href=\"#m813f028a0a\" x=\"155.367338\" y=\"107.253345\" style=\"fill: #1f77b4; stroke: #1f77b4\"/>\n     <use xlink:href=\"#m813f028a0a\" x=\"153.353083\" y=\"92.604835\" style=\"fill: #1f77b4; stroke: #1f77b4\"/>\n     <use xlink:href=\"#m813f028a0a\" x=\"128.240882\" y=\"79.578597\" style=\"fill: #1f77b4; stroke: #1f77b4\"/>\n     <use xlink:href=\"#m813f028a0a\" x=\"150.455869\" y=\"87.029005\" style=\"fill: #1f77b4; stroke: #1f77b4\"/>\n     <use xlink:href=\"#m813f028a0a\" x=\"123.986164\" y=\"80.355651\" style=\"fill: #1f77b4; stroke: #1f77b4\"/>\n     <use xlink:href=\"#m813f028a0a\" x=\"101.213386\" y=\"61.38183\" style=\"fill: #1f77b4; stroke: #1f77b4\"/>\n     <use xlink:href=\"#m813f028a0a\" x=\"139.807241\" y=\"79.534962\" style=\"fill: #1f77b4; stroke: #1f77b4\"/>\n     <use xlink:href=\"#m813f028a0a\" x=\"127.167093\" y=\"66.247212\" style=\"fill: #1f77b4; stroke: #1f77b4\"/>\n     <use xlink:href=\"#m813f028a0a\" x=\"129.041104\" y=\"74.844792\" style=\"fill: #1f77b4; stroke: #1f77b4\"/>\n     <use xlink:href=\"#m813f028a0a\" x=\"115.826576\" y=\"79.2725\" style=\"fill: #1f77b4; stroke: #1f77b4\"/>\n     <use xlink:href=\"#m813f028a0a\" x=\"122.70449\" y=\"79.536422\" style=\"fill: #1f77b4; stroke: #1f77b4\"/>\n     <use xlink:href=\"#m813f028a0a\" x=\"95.623875\" y=\"52.119051\" style=\"fill: #1f77b4; stroke: #1f77b4\"/>\n     <use xlink:href=\"#m813f028a0a\" x=\"148.535969\" y=\"84.360934\" style=\"fill: #1f77b4; stroke: #1f77b4\"/>\n     <use xlink:href=\"#m813f028a0a\" x=\"109.441409\" y=\"70.851175\" style=\"fill: #1f77b4; stroke: #1f77b4\"/>\n     <use xlink:href=\"#m813f028a0a\" x=\"149.9175\" y=\"87.741796\" style=\"fill: #1f77b4; stroke: #1f77b4\"/>\n     <use xlink:href=\"#m813f028a0a\" x=\"148.341541\" y=\"106.849656\" style=\"fill: #1f77b4; stroke: #1f77b4\"/>\n     <use xlink:href=\"#m813f028a0a\" x=\"149.626265\" y=\"79.807109\" style=\"fill: #1f77b4; stroke: #1f77b4\"/>\n     <use xlink:href=\"#m813f028a0a\" x=\"147.254696\" y=\"88.35187\" style=\"fill: #1f77b4; stroke: #1f77b4\"/>\n     <use xlink:href=\"#m813f028a0a\" x=\"162.863971\" y=\"75.147258\" style=\"fill: #1f77b4; stroke: #1f77b4\"/>\n     <use xlink:href=\"#m813f028a0a\" x=\"152.504132\" y=\"92.423088\" style=\"fill: #1f77b4; stroke: #1f77b4\"/>\n     <use xlink:href=\"#m813f028a0a\" x=\"140.915557\" y=\"84.16397\" style=\"fill: #1f77b4; stroke: #1f77b4\"/>\n     <use xlink:href=\"#m813f028a0a\" x=\"92.022142\" y=\"72.071684\" style=\"fill: #1f77b4; stroke: #1f77b4\"/>\n     <use xlink:href=\"#m813f028a0a\" x=\"160.067663\" y=\"93.985172\" style=\"fill: #1f77b4; stroke: #1f77b4\"/>\n     <use xlink:href=\"#m813f028a0a\" x=\"110.322773\" y=\"71.58059\" style=\"fill: #1f77b4; stroke: #1f77b4\"/>\n     <use xlink:href=\"#m813f028a0a\" x=\"114.686876\" y=\"77.901301\" style=\"fill: #1f77b4; stroke: #1f77b4\"/>\n     <use xlink:href=\"#m813f028a0a\" x=\"91.551679\" y=\"48.304881\" style=\"fill: #1f77b4; stroke: #1f77b4\"/>\n     <use xlink:href=\"#m813f028a0a\" x=\"118.350601\" y=\"67.074326\" style=\"fill: #1f77b4; stroke: #1f77b4\"/>\n     <use xlink:href=\"#m813f028a0a\" x=\"92.874827\" y=\"44.892627\" style=\"fill: #1f77b4; stroke: #1f77b4\"/>\n     <use xlink:href=\"#m813f028a0a\" x=\"96.20163\" y=\"60.766379\" style=\"fill: #1f77b4; stroke: #1f77b4\"/>\n     <use xlink:href=\"#m813f028a0a\" x=\"131.824955\" y=\"67.760887\" style=\"fill: #1f77b4; stroke: #1f77b4\"/>\n     <use xlink:href=\"#m813f028a0a\" x=\"119.287119\" y=\"76.42736\" style=\"fill: #1f77b4; stroke: #1f77b4\"/>\n     <use xlink:href=\"#m813f028a0a\" x=\"154.920414\" y=\"93.160716\" style=\"fill: #1f77b4; stroke: #1f77b4\"/>\n     <use xlink:href=\"#m813f028a0a\" x=\"181.394003\" y=\"114.571739\" style=\"fill: #1f77b4; stroke: #1f77b4\"/>\n     <use xlink:href=\"#m813f028a0a\" x=\"101.764165\" y=\"47.320942\" style=\"fill: #1f77b4; stroke: #1f77b4\"/>\n     <use xlink:href=\"#m813f028a0a\" x=\"143.512491\" y=\"94.364625\" style=\"fill: #1f77b4; stroke: #1f77b4\"/>\n     <use xlink:href=\"#m813f028a0a\" x=\"119.469196\" y=\"64.268602\" style=\"fill: #1f77b4; stroke: #1f77b4\"/>\n     <use xlink:href=\"#m813f028a0a\" x=\"119.48862\" y=\"60.40681\" style=\"fill: #1f77b4; stroke: #1f77b4\"/>\n     <use xlink:href=\"#m813f028a0a\" x=\"135.199137\" y=\"90.197142\" style=\"fill: #1f77b4; stroke: #1f77b4\"/>\n     <use xlink:href=\"#m813f028a0a\" x=\"75.506446\" y=\"42.84314\" style=\"fill: #1f77b4; stroke: #1f77b4\"/>\n     <use xlink:href=\"#m813f028a0a\" x=\"107.807383\" y=\"81.981377\" style=\"fill: #1f77b4; stroke: #1f77b4\"/>\n     <use xlink:href=\"#m813f028a0a\" x=\"166.101735\" y=\"92.539544\" style=\"fill: #1f77b4; stroke: #1f77b4\"/>\n     <use xlink:href=\"#m813f028a0a\" x=\"92.500461\" y=\"53.498934\" style=\"fill: #1f77b4; stroke: #1f77b4\"/>\n     <use xlink:href=\"#m813f028a0a\" x=\"150.41578\" y=\"89.260777\" style=\"fill: #1f77b4; stroke: #1f77b4\"/>\n     <use xlink:href=\"#m813f028a0a\" x=\"169.351358\" y=\"90.927796\" style=\"fill: #1f77b4; stroke: #1f77b4\"/>\n     <use xlink:href=\"#m813f028a0a\" x=\"157.067164\" y=\"107.676068\" style=\"fill: #1f77b4; stroke: #1f77b4\"/>\n     <use xlink:href=\"#m813f028a0a\" x=\"104.163066\" y=\"63.056576\" style=\"fill: #1f77b4; stroke: #1f77b4\"/>\n     <use xlink:href=\"#m813f028a0a\" x=\"128.874374\" y=\"72.114808\" style=\"fill: #1f77b4; stroke: #1f77b4\"/>\n     <use xlink:href=\"#m813f028a0a\" x=\"156.635621\" y=\"83.340524\" style=\"fill: #1f77b4; stroke: #1f77b4\"/>\n     <use xlink:href=\"#m813f028a0a\" x=\"157.313332\" y=\"95.523762\" style=\"fill: #1f77b4; stroke: #1f77b4\"/>\n     <use xlink:href=\"#m813f028a0a\" x=\"86.692328\" y=\"56.915026\" style=\"fill: #1f77b4; stroke: #1f77b4\"/>\n     <use xlink:href=\"#m813f028a0a\" x=\"124.955643\" y=\"69.113912\" style=\"fill: #1f77b4; stroke: #1f77b4\"/>\n     <use xlink:href=\"#m813f028a0a\" x=\"160.815972\" y=\"91.93794\" style=\"fill: #1f77b4; stroke: #1f77b4\"/>\n     <use xlink:href=\"#m813f028a0a\" x=\"151.06869\" y=\"74.510357\" style=\"fill: #1f77b4; stroke: #1f77b4\"/>\n     <use xlink:href=\"#m813f028a0a\" x=\"143.439692\" y=\"90.72786\" style=\"fill: #1f77b4; stroke: #1f77b4\"/>\n     <use xlink:href=\"#m813f028a0a\" x=\"121.235397\" y=\"78.247635\" style=\"fill: #1f77b4; stroke: #1f77b4\"/>\n     <use xlink:href=\"#m813f028a0a\" x=\"101.633704\" y=\"72.222507\" style=\"fill: #1f77b4; stroke: #1f77b4\"/>\n     <use xlink:href=\"#m813f028a0a\" x=\"125.02337\" y=\"98.87222\" style=\"fill: #1f77b4; stroke: #1f77b4\"/>\n     <use xlink:href=\"#m813f028a0a\" x=\"87.137641\" y=\"48.918755\" style=\"fill: #1f77b4; stroke: #1f77b4\"/>\n     <use xlink:href=\"#m813f028a0a\" x=\"114.590874\" y=\"68.548199\" style=\"fill: #1f77b4; stroke: #1f77b4\"/>\n     <use xlink:href=\"#m813f028a0a\" x=\"135.689484\" y=\"75.382242\" style=\"fill: #1f77b4; stroke: #1f77b4\"/>\n     <use xlink:href=\"#m813f028a0a\" x=\"140.346123\" y=\"81.253064\" style=\"fill: #1f77b4; stroke: #1f77b4\"/>\n     <use xlink:href=\"#m813f028a0a\" x=\"158.680795\" y=\"97.890069\" style=\"fill: #1f77b4; stroke: #1f77b4\"/>\n     <use xlink:href=\"#m813f028a0a\" x=\"118.500629\" y=\"60.815032\" style=\"fill: #1f77b4; stroke: #1f77b4\"/>\n     <use xlink:href=\"#m813f028a0a\" x=\"158.657542\" y=\"100.565076\" style=\"fill: #1f77b4; stroke: #1f77b4\"/>\n     <use xlink:href=\"#m813f028a0a\" x=\"132.556137\" y=\"70.249814\" style=\"fill: #1f77b4; stroke: #1f77b4\"/>\n     <use xlink:href=\"#m813f028a0a\" x=\"132.097352\" y=\"91.533058\" style=\"fill: #1f77b4; stroke: #1f77b4\"/>\n     <use xlink:href=\"#m813f028a0a\" x=\"147.122838\" y=\"114.036316\" style=\"fill: #1f77b4; stroke: #1f77b4\"/>\n     <use xlink:href=\"#m813f028a0a\" x=\"162.811\" y=\"115.030487\" style=\"fill: #1f77b4; stroke: #1f77b4\"/>\n     <use xlink:href=\"#m813f028a0a\" x=\"110.639049\" y=\"80.427241\" style=\"fill: #1f77b4; stroke: #1f77b4\"/>\n     <use xlink:href=\"#m813f028a0a\" x=\"125.798975\" y=\"73.816994\" style=\"fill: #1f77b4; stroke: #1f77b4\"/>\n     <use xlink:href=\"#m813f028a0a\" x=\"156.383258\" y=\"107.382941\" style=\"fill: #1f77b4; stroke: #1f77b4\"/>\n     <use xlink:href=\"#m813f028a0a\" x=\"125.311984\" y=\"66.094779\" style=\"fill: #1f77b4; stroke: #1f77b4\"/>\n     <use xlink:href=\"#m813f028a0a\" x=\"125.32428\" y=\"93.896451\" style=\"fill: #1f77b4; stroke: #1f77b4\"/>\n     <use xlink:href=\"#m813f028a0a\" x=\"162.746704\" y=\"98.37152\" style=\"fill: #1f77b4; stroke: #1f77b4\"/>\n     <use xlink:href=\"#m813f028a0a\" x=\"173.44541\" y=\"106.382702\" style=\"fill: #1f77b4; stroke: #1f77b4\"/>\n     <use xlink:href=\"#m813f028a0a\" x=\"207.753522\" y=\"128.490961\" style=\"fill: #1f77b4; stroke: #1f77b4\"/>\n     <use xlink:href=\"#m813f028a0a\" x=\"139.942721\" y=\"90.622948\" style=\"fill: #1f77b4; stroke: #1f77b4\"/>\n     <use xlink:href=\"#m813f028a0a\" x=\"87.923315\" y=\"45.445924\" style=\"fill: #1f77b4; stroke: #1f77b4\"/>\n     <use xlink:href=\"#m813f028a0a\" x=\"154.648428\" y=\"97.920606\" style=\"fill: #1f77b4; stroke: #1f77b4\"/>\n     <use xlink:href=\"#m813f028a0a\" x=\"146.499475\" y=\"84.998115\" style=\"fill: #1f77b4; stroke: #1f77b4\"/>\n     <use xlink:href=\"#m813f028a0a\" x=\"174.253132\" y=\"103.301288\" style=\"fill: #1f77b4; stroke: #1f77b4\"/>\n     <use xlink:href=\"#m813f028a0a\" x=\"127.924131\" y=\"78.25588\" style=\"fill: #1f77b4; stroke: #1f77b4\"/>\n     <use xlink:href=\"#m813f028a0a\" x=\"153.406603\" y=\"82.158777\" style=\"fill: #1f77b4; stroke: #1f77b4\"/>\n     <use xlink:href=\"#m813f028a0a\" x=\"104.960076\" y=\"43.597758\" style=\"fill: #1f77b4; stroke: #1f77b4\"/>\n     <use xlink:href=\"#m813f028a0a\" x=\"138.571691\" y=\"86.923072\" style=\"fill: #1f77b4; stroke: #1f77b4\"/>\n     <use xlink:href=\"#m813f028a0a\" x=\"148.897826\" y=\"76.315962\" style=\"fill: #1f77b4; stroke: #1f77b4\"/>\n     <use xlink:href=\"#m813f028a0a\" x=\"147.85977\" y=\"86.935473\" style=\"fill: #1f77b4; stroke: #1f77b4\"/>\n     <use xlink:href=\"#m813f028a0a\" x=\"144.215541\" y=\"82.13491\" style=\"fill: #1f77b4; stroke: #1f77b4\"/>\n     <use xlink:href=\"#m813f028a0a\" x=\"128.865403\" y=\"92.736591\" style=\"fill: #1f77b4; stroke: #1f77b4\"/>\n     <use xlink:href=\"#m813f028a0a\" x=\"107.087354\" y=\"60.329658\" style=\"fill: #1f77b4; stroke: #1f77b4\"/>\n     <use xlink:href=\"#m813f028a0a\" x=\"132.56692\" y=\"90.908386\" style=\"fill: #1f77b4; stroke: #1f77b4\"/>\n     <use xlink:href=\"#m813f028a0a\" x=\"185.547611\" y=\"115.087267\" style=\"fill: #1f77b4; stroke: #1f77b4\"/>\n     <use xlink:href=\"#m813f028a0a\" x=\"154.917464\" y=\"98.879336\" style=\"fill: #1f77b4; stroke: #1f77b4\"/>\n     <use xlink:href=\"#m813f028a0a\" x=\"119.472389\" y=\"65.430516\" style=\"fill: #1f77b4; stroke: #1f77b4\"/>\n     <use xlink:href=\"#m813f028a0a\" x=\"100.914882\" y=\"62.87079\" style=\"fill: #1f77b4; stroke: #1f77b4\"/>\n     <use xlink:href=\"#m813f028a0a\" x=\"164.109538\" y=\"98.828592\" style=\"fill: #1f77b4; stroke: #1f77b4\"/>\n     <use xlink:href=\"#m813f028a0a\" x=\"162.827401\" y=\"88.082276\" style=\"fill: #1f77b4; stroke: #1f77b4\"/>\n     <use xlink:href=\"#m813f028a0a\" x=\"123.024373\" y=\"89.307621\" style=\"fill: #1f77b4; stroke: #1f77b4\"/>\n     <use xlink:href=\"#m813f028a0a\" x=\"85.11183\" y=\"58.236593\" style=\"fill: #1f77b4; stroke: #1f77b4\"/>\n     <use xlink:href=\"#m813f028a0a\" x=\"105.363408\" y=\"75.812254\" style=\"fill: #1f77b4; stroke: #1f77b4\"/>\n     <use xlink:href=\"#m813f028a0a\" x=\"123.567397\" y=\"66.527863\" style=\"fill: #1f77b4; stroke: #1f77b4\"/>\n     <use xlink:href=\"#m813f028a0a\" x=\"108.603433\" y=\"69.317196\" style=\"fill: #1f77b4; stroke: #1f77b4\"/>\n     <use xlink:href=\"#m813f028a0a\" x=\"155.135554\" y=\"97.13612\" style=\"fill: #1f77b4; stroke: #1f77b4\"/>\n     <use xlink:href=\"#m813f028a0a\" x=\"127.576181\" y=\"87.293211\" style=\"fill: #1f77b4; stroke: #1f77b4\"/>\n     <use xlink:href=\"#m813f028a0a\" x=\"182.903841\" y=\"98.852978\" style=\"fill: #1f77b4; stroke: #1f77b4\"/>\n     <use xlink:href=\"#m813f028a0a\" x=\"150.571648\" y=\"81.272352\" style=\"fill: #1f77b4; stroke: #1f77b4\"/>\n     <use xlink:href=\"#m813f028a0a\" x=\"130.908295\" y=\"83.370358\" style=\"fill: #1f77b4; stroke: #1f77b4\"/>\n     <use xlink:href=\"#m813f028a0a\" x=\"123.60663\" y=\"80.80104\" style=\"fill: #1f77b4; stroke: #1f77b4\"/>\n     <use xlink:href=\"#m813f028a0a\" x=\"108.362884\" y=\"58.052122\" style=\"fill: #1f77b4; stroke: #1f77b4\"/>\n     <use xlink:href=\"#m813f028a0a\" x=\"94.454567\" y=\"57.961607\" style=\"fill: #1f77b4; stroke: #1f77b4\"/>\n     <use xlink:href=\"#m813f028a0a\" x=\"149.39493\" y=\"83.955432\" style=\"fill: #1f77b4; stroke: #1f77b4\"/>\n     <use xlink:href=\"#m813f028a0a\" x=\"115.657458\" y=\"60.95927\" style=\"fill: #1f77b4; stroke: #1f77b4\"/>\n     <use xlink:href=\"#m813f028a0a\" x=\"121.724136\" y=\"71.609362\" style=\"fill: #1f77b4; stroke: #1f77b4\"/>\n     <use xlink:href=\"#m813f028a0a\" x=\"115.362548\" y=\"69.658308\" style=\"fill: #1f77b4; stroke: #1f77b4\"/>\n     <use xlink:href=\"#m813f028a0a\" x=\"112.856072\" y=\"64.423258\" style=\"fill: #1f77b4; stroke: #1f77b4\"/>\n     <use xlink:href=\"#m813f028a0a\" x=\"164.303947\" y=\"111.527408\" style=\"fill: #1f77b4; stroke: #1f77b4\"/>\n     <use xlink:href=\"#m813f028a0a\" x=\"140.088694\" y=\"81.117289\" style=\"fill: #1f77b4; stroke: #1f77b4\"/>\n     <use xlink:href=\"#m813f028a0a\" x=\"126.264673\" y=\"74.076647\" style=\"fill: #1f77b4; stroke: #1f77b4\"/>\n     <use xlink:href=\"#m813f028a0a\" x=\"163.633547\" y=\"108.582996\" style=\"fill: #1f77b4; stroke: #1f77b4\"/>\n     <use xlink:href=\"#m813f028a0a\" x=\"103.957757\" y=\"60.481155\" style=\"fill: #1f77b4; stroke: #1f77b4\"/>\n     <use xlink:href=\"#m813f028a0a\" x=\"121.40916\" y=\"92.862096\" style=\"fill: #1f77b4; stroke: #1f77b4\"/>\n     <use xlink:href=\"#m813f028a0a\" x=\"120.178972\" y=\"66.1747\" style=\"fill: #1f77b4; stroke: #1f77b4\"/>\n     <use xlink:href=\"#m813f028a0a\" x=\"77.630249\" y=\"62.530183\" style=\"fill: #1f77b4; stroke: #1f77b4\"/>\n     <use xlink:href=\"#m813f028a0a\" x=\"133.897208\" y=\"87.332893\" style=\"fill: #1f77b4; stroke: #1f77b4\"/>\n     <use xlink:href=\"#m813f028a0a\" x=\"93.197967\" y=\"74.500637\" style=\"fill: #1f77b4; stroke: #1f77b4\"/>\n     <use xlink:href=\"#m813f028a0a\" x=\"90.05023\" y=\"62.867945\" style=\"fill: #1f77b4; stroke: #1f77b4\"/>\n     <use xlink:href=\"#m813f028a0a\" x=\"115.783633\" y=\"75.1085\" style=\"fill: #1f77b4; stroke: #1f77b4\"/>\n     <use xlink:href=\"#m813f028a0a\" x=\"169.209757\" y=\"100.651892\" style=\"fill: #1f77b4; stroke: #1f77b4\"/>\n    </g>\n   </g>\n   <g id=\"matplotlib.axis_1\">\n    <g id=\"xtick_1\">\n     <g id=\"line2d_1\">\n      <defs>\n       <path id=\"me92417149c\" d=\"M 0 0 \nL 0 3.5 \n\" style=\"stroke: #000000; stroke-width: 0.8\"/>\n      </defs>\n      <g>\n       <use xlink:href=\"#me92417149c\" x=\"74.571835\" y=\"145.8\" style=\"stroke: #000000; stroke-width: 0.8\"/>\n      </g>\n     </g>\n     <g id=\"text_1\">\n      <!-- −2 -->\n      <g transform=\"translate(67.200741 160.398438) scale(0.1 -0.1)\">\n       <defs>\n        <path id=\"DejaVuSans-2212\" d=\"M 678 2272 \nL 4684 2272 \nL 4684 1741 \nL 678 1741 \nL 678 2272 \nz\n\" transform=\"scale(0.015625)\"/>\n        <path id=\"DejaVuSans-32\" d=\"M 1228 531 \nL 3431 531 \nL 3431 0 \nL 469 0 \nL 469 531 \nQ 828 903 1448 1529 \nQ 2069 2156 2228 2338 \nQ 2531 2678 2651 2914 \nQ 2772 3150 2772 3378 \nQ 2772 3750 2511 3984 \nQ 2250 4219 1831 4219 \nQ 1534 4219 1204 4116 \nQ 875 4013 500 3803 \nL 500 4441 \nQ 881 4594 1212 4672 \nQ 1544 4750 1819 4750 \nQ 2544 4750 2975 4387 \nQ 3406 4025 3406 3419 \nQ 3406 3131 3298 2873 \nQ 3191 2616 2906 2266 \nQ 2828 2175 2409 1742 \nQ 1991 1309 1228 531 \nz\n\" transform=\"scale(0.015625)\"/>\n       </defs>\n       <use xlink:href=\"#DejaVuSans-2212\"/>\n       <use xlink:href=\"#DejaVuSans-32\" x=\"83.789062\"/>\n      </g>\n     </g>\n    </g>\n    <g id=\"xtick_2\">\n     <g id=\"line2d_2\">\n      <g>\n       <use xlink:href=\"#me92417149c\" x=\"129.1872\" y=\"145.8\" style=\"stroke: #000000; stroke-width: 0.8\"/>\n      </g>\n     </g>\n     <g id=\"text_2\">\n      <!-- 0 -->\n      <g transform=\"translate(126.00595 160.398438) scale(0.1 -0.1)\">\n       <defs>\n        <path id=\"DejaVuSans-30\" d=\"M 2034 4250 \nQ 1547 4250 1301 3770 \nQ 1056 3291 1056 2328 \nQ 1056 1369 1301 889 \nQ 1547 409 2034 409 \nQ 2525 409 2770 889 \nQ 3016 1369 3016 2328 \nQ 3016 3291 2770 3770 \nQ 2525 4250 2034 4250 \nz\nM 2034 4750 \nQ 2819 4750 3233 4129 \nQ 3647 3509 3647 2328 \nQ 3647 1150 3233 529 \nQ 2819 -91 2034 -91 \nQ 1250 -91 836 529 \nQ 422 1150 422 2328 \nQ 422 3509 836 4129 \nQ 1250 4750 2034 4750 \nz\n\" transform=\"scale(0.015625)\"/>\n       </defs>\n       <use xlink:href=\"#DejaVuSans-30\"/>\n      </g>\n     </g>\n    </g>\n    <g id=\"xtick_3\">\n     <g id=\"line2d_3\">\n      <g>\n       <use xlink:href=\"#me92417149c\" x=\"183.802566\" y=\"145.8\" style=\"stroke: #000000; stroke-width: 0.8\"/>\n      </g>\n     </g>\n     <g id=\"text_3\">\n      <!-- 2 -->\n      <g transform=\"translate(180.621316 160.398438) scale(0.1 -0.1)\">\n       <use xlink:href=\"#DejaVuSans-32\"/>\n      </g>\n     </g>\n    </g>\n   </g>\n   <g id=\"matplotlib.axis_2\">\n    <g id=\"ytick_1\">\n     <g id=\"line2d_4\">\n      <defs>\n       <path id=\"mde541d2bd0\" d=\"M 0 0 \nL -3.5 0 \n\" style=\"stroke: #000000; stroke-width: 0.8\"/>\n      </defs>\n      <g>\n       <use xlink:href=\"#mde541d2bd0\" x=\"35.304688\" y=\"145.704694\" style=\"stroke: #000000; stroke-width: 0.8\"/>\n      </g>\n     </g>\n     <g id=\"text_4\">\n      <!-- −10 -->\n      <g transform=\"translate(7.2 149.503912) scale(0.1 -0.1)\">\n       <defs>\n        <path id=\"DejaVuSans-31\" d=\"M 794 531 \nL 1825 531 \nL 1825 4091 \nL 703 3866 \nL 703 4441 \nL 1819 4666 \nL 2450 4666 \nL 2450 531 \nL 3481 531 \nL 3481 0 \nL 794 0 \nL 794 531 \nz\n\" transform=\"scale(0.015625)\"/>\n       </defs>\n       <use xlink:href=\"#DejaVuSans-2212\"/>\n       <use xlink:href=\"#DejaVuSans-31\" x=\"83.789062\"/>\n       <use xlink:href=\"#DejaVuSans-30\" x=\"147.412109\"/>\n      </g>\n     </g>\n    </g>\n    <g id=\"ytick_2\">\n     <g id=\"line2d_5\">\n      <g>\n       <use xlink:href=\"#mde541d2bd0\" x=\"35.304688\" y=\"121.749196\" style=\"stroke: #000000; stroke-width: 0.8\"/>\n      </g>\n     </g>\n     <g id=\"text_5\">\n      <!-- −5 -->\n      <g transform=\"translate(13.5625 125.548415) scale(0.1 -0.1)\">\n       <defs>\n        <path id=\"DejaVuSans-35\" d=\"M 691 4666 \nL 3169 4666 \nL 3169 4134 \nL 1269 4134 \nL 1269 2991 \nQ 1406 3038 1543 3061 \nQ 1681 3084 1819 3084 \nQ 2600 3084 3056 2656 \nQ 3513 2228 3513 1497 \nQ 3513 744 3044 326 \nQ 2575 -91 1722 -91 \nQ 1428 -91 1123 -41 \nQ 819 9 494 109 \nL 494 744 \nQ 775 591 1075 516 \nQ 1375 441 1709 441 \nQ 2250 441 2565 725 \nQ 2881 1009 2881 1497 \nQ 2881 1984 2565 2268 \nQ 2250 2553 1709 2553 \nQ 1456 2553 1204 2497 \nQ 953 2441 691 2322 \nL 691 4666 \nz\n\" transform=\"scale(0.015625)\"/>\n       </defs>\n       <use xlink:href=\"#DejaVuSans-2212\"/>\n       <use xlink:href=\"#DejaVuSans-35\" x=\"83.789062\"/>\n      </g>\n     </g>\n    </g>\n    <g id=\"ytick_3\">\n     <g id=\"line2d_6\">\n      <g>\n       <use xlink:href=\"#mde541d2bd0\" x=\"35.304688\" y=\"97.793699\" style=\"stroke: #000000; stroke-width: 0.8\"/>\n      </g>\n     </g>\n     <g id=\"text_6\">\n      <!-- 0 -->\n      <g transform=\"translate(21.942187 101.592918) scale(0.1 -0.1)\">\n       <use xlink:href=\"#DejaVuSans-30\"/>\n      </g>\n     </g>\n    </g>\n    <g id=\"ytick_4\">\n     <g id=\"line2d_7\">\n      <g>\n       <use xlink:href=\"#mde541d2bd0\" x=\"35.304688\" y=\"73.838201\" style=\"stroke: #000000; stroke-width: 0.8\"/>\n      </g>\n     </g>\n     <g id=\"text_7\">\n      <!-- 5 -->\n      <g transform=\"translate(21.942187 77.63742) scale(0.1 -0.1)\">\n       <use xlink:href=\"#DejaVuSans-35\"/>\n      </g>\n     </g>\n    </g>\n    <g id=\"ytick_5\">\n     <g id=\"line2d_8\">\n      <g>\n       <use xlink:href=\"#mde541d2bd0\" x=\"35.304688\" y=\"49.882704\" style=\"stroke: #000000; stroke-width: 0.8\"/>\n      </g>\n     </g>\n     <g id=\"text_8\">\n      <!-- 10 -->\n      <g transform=\"translate(15.579687 53.681923) scale(0.1 -0.1)\">\n       <use xlink:href=\"#DejaVuSans-31\"/>\n       <use xlink:href=\"#DejaVuSans-30\" x=\"63.623047\"/>\n      </g>\n     </g>\n    </g>\n    <g id=\"ytick_6\">\n     <g id=\"line2d_9\">\n      <g>\n       <use xlink:href=\"#mde541d2bd0\" x=\"35.304688\" y=\"25.927207\" style=\"stroke: #000000; stroke-width: 0.8\"/>\n      </g>\n     </g>\n     <g id=\"text_9\">\n      <!-- 15 -->\n      <g transform=\"translate(15.579687 29.726425) scale(0.1 -0.1)\">\n       <use xlink:href=\"#DejaVuSans-31\"/>\n       <use xlink:href=\"#DejaVuSans-35\" x=\"63.623047\"/>\n      </g>\n     </g>\n    </g>\n   </g>\n   <g id=\"patch_3\">\n    <path d=\"M 35.304688 145.8 \nL 35.304688 7.2 \n\" style=\"fill: none; stroke: #000000; stroke-width: 0.8; stroke-linejoin: miter; stroke-linecap: square\"/>\n   </g>\n   <g id=\"patch_4\">\n    <path d=\"M 230.604688 145.8 \nL 230.604688 7.2 \n\" style=\"fill: none; stroke: #000000; stroke-width: 0.8; stroke-linejoin: miter; stroke-linecap: square\"/>\n   </g>\n   <g id=\"patch_5\">\n    <path d=\"M 35.304688 145.8 \nL 230.604688 145.8 \n\" style=\"fill: none; stroke: #000000; stroke-width: 0.8; stroke-linejoin: miter; stroke-linecap: square\"/>\n   </g>\n   <g id=\"patch_6\">\n    <path d=\"M 35.304688 7.2 \nL 230.604688 7.2 \n\" style=\"fill: none; stroke: #000000; stroke-width: 0.8; stroke-linejoin: miter; stroke-linecap: square\"/>\n   </g>\n  </g>\n </g>\n <defs>\n  <clipPath id=\"pab5b5a7290\">\n   <rect x=\"35.304688\" y=\"7.2\" width=\"195.3\" height=\"138.6\"/>\n  </clipPath>\n </defs>\n</svg>\n"
     },
     "metadata": {},
     "output_type": "display_data"
    }
   ],
   "execution_count": 15
  },
  {
   "metadata": {},
   "cell_type": "code",
   "outputs": [],
   "execution_count": null,
   "source": "",
   "id": "45e99aa4d5de91f"
  }
 ],
 "metadata": {
  "kernelspec": {
   "display_name": "Python 3",
   "language": "python",
   "name": "python3"
  },
  "language_info": {
   "codemirror_mode": {
    "name": "ipython",
    "version": 2
   },
   "file_extension": ".py",
   "mimetype": "text/x-python",
   "name": "python",
   "nbconvert_exporter": "python",
   "pygments_lexer": "ipython2",
   "version": "2.7.6"
  }
 },
 "nbformat": 4,
 "nbformat_minor": 5
}
